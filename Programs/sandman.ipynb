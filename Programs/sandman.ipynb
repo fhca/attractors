{
 "cells": [
  {
   "cell_type": "code",
   "execution_count": null,
   "id": "93001a9d-e970-409f-98b2-073c153173e5",
   "metadata": {},
   "outputs": [],
   "source": [
    "import numpy as np, pandas as pd\n",
    "import matplotlib.pyplot as plt\n",
    "from glob import glob\n",
    "\n",
    "from ifsoac_2 import *"
   ]
  },
  {
   "cell_type": "code",
   "execution_count": null,
   "id": "4fef9669-6274-4a51-aaa3-cb16510d7260",
   "metadata": {},
   "outputs": [],
   "source": [
    "\n",
    "\n",
    "def mci(prefix, dir_path = r\"../data/\", save_prefix=None, **op):\n",
    "    n = 512*60*5  # 5 minutes only\n",
    "\n",
    "    fn = glob(dir_path + prefix)\n",
    "    if isinstance(fn, list) and len(fn)>1:\n",
    "        fn.sort()\n",
    "    for i,f in enumerate(fn):\n",
    "        print(i+1,f)\n",
    "    _op= {\"cmap_ds\":\"CET_C1\", \"ventana_ds\":1200, \"cols_ds\":4}\n",
    "    if op is not None:\n",
    "        _op.update(op)\n",
    "    op=_op\n",
    "    if save_prefix is not None:\n",
    "        return Ifsoac([pd.read_csv(name, header=None).to_numpy()[5000:200000] for name in fn], op).export_images(filename_prefix=save_prefix)\n",
    "    else:\n",
    "        return Ifsoac([pd.read_csv(name, header=None).to_numpy()[5000:200000] for name in fn], op).plot()"
   ]
  },
  {
   "cell_type": "code",
   "execution_count": null,
   "id": "bb6f540c-9836-43fa-b0dc-73c4f57d59f0",
   "metadata": {},
   "outputs": [],
   "source": [
    "#%time mci(r\"MG*F4*\", \"MG\")\n",
    "%time mci(r\"VIGREP/MG*\", rotate=np.pi/4, fatpoints=True)"
   ]
  },
  {
   "cell_type": "code",
   "execution_count": null,
   "id": "b6f7d23b-942c-4809-982a-0e896e0ca6c5",
   "metadata": {},
   "outputs": [],
   "source": [
    "%time mci(r\"VIGREP/MG*\", rotate=np.pi/4,  ventana_ds=1200)"
   ]
  },
  {
   "cell_type": "code",
   "execution_count": null,
   "id": "fe54518d-ea9d-49ce-9992-0f970db04670",
   "metadata": {},
   "outputs": [],
   "source": [
    "#%time mci(r\"RL*F4*\", \"RL\")\n",
    "%time mci(r\"VIGREP/RL*\", fatpoints=True)#, \"RL\")"
   ]
  },
  {
   "cell_type": "code",
   "execution_count": null,
   "id": "2c05d484-3b2d-4e37-9747-fc5d2feb8d2a",
   "metadata": {},
   "outputs": [],
   "source": [
    "def dimension_fractal(orb):\n",
    "    \"\"\"(orb.real, orb.imag)\"\"\"\n",
    "    # pares = orb.view('(2,)float')  # ver complejos como par de reales\n",
    "    # pares = np.array((orb.real, orb.imag)).T\n",
    "    # scales = np.logspace(6, 15, num=16, endpoint=True, base=2)\n",
    "    scales = np.logspace(0.01, 10, num=16, endpoint=False, base=2)\n",
    "    ns = []\n",
    "    for escala in scales:\n",
    "        h, _, _ = np.histogram2d(orb[0], orb[1], bins=(int(escala), int(escala)))\n",
    "        n = np.sum(h > 0)\n",
    "        ns.append(n)\n",
    "        if n >= orb.shape[1]:\n",
    "            break\n",
    "    coeffs = np.polyfit(np.log2(scales[:len(ns)]), np.log2(ns), 1)\n",
    "    return coeffs[0]"
   ]
  },
  {
   "cell_type": "code",
   "execution_count": null,
   "id": "e7089dc4-cb1d-458e-b91e-1859490e178d",
   "metadata": {},
   "outputs": [],
   "source": [
    "n = 512*60*5\n",
    "data = pd.read_csv(\"../data/VIGREP/MGNA5VREP_P3.txt\", header=None).to_numpy()[5000:158600]\n",
    "op = {\"rotate\":0, \"cmap_ds\":\"CET_C1\", \"ventana_ds\":1200, \"cols_ds\":4}\n",
    "\n",
    "img_points = np.array(Ifsoac(data, op).jDC()).T\n",
    "print(dimension_fractal(img_points))\n",
    "\n",
    "data = pd.read_csv(\"../data/VIGREP/RLMNVIGREP_P3.txt\", header=None).to_numpy()[5000:158600]\n",
    "img_points = np.array(Ifsoac(data, op).jDC()).T\n",
    "print(dimension_fractal(img_points))"
   ]
  },
  {
   "cell_type": "code",
   "execution_count": null,
   "id": "d104431a-12c6-49a2-aa8a-5e7ca132824d",
   "metadata": {},
   "outputs": [],
   "source": [
    "%time mci(r\"VIGREP/MG*\", fatpoints=False)"
   ]
  },
  {
   "cell_type": "code",
   "execution_count": null,
   "id": "9d405bd3-5794-4437-b61b-40543cec3057",
   "metadata": {},
   "outputs": [],
   "source": [
    "%time mci(r\"VIGREP/RL*\", fatpoints=False)"
   ]
  },
  {
   "cell_type": "code",
   "execution_count": null,
   "id": "43ce49bf-18c5-414d-ac55-b9f7294e8691",
   "metadata": {},
   "outputs": [],
   "source": [
    "%time mci(r\"VIGREP/MG*P3*\", fatpoints=False, save_prefix=\"MG\")"
   ]
  },
  {
   "cell_type": "code",
   "execution_count": null,
   "id": "bc69b745-bbc5-424d-ae7a-474a37e25859",
   "metadata": {},
   "outputs": [],
   "source": [
    "%time mci(r\"VIGREP/RL*P3*\", fatpoints=False, save_prefix=\"RL\")"
   ]
  },
  {
   "cell_type": "code",
   "execution_count": null,
   "id": "81883acb-6601-4ef1-ad1c-0fbba047331b",
   "metadata": {},
   "outputs": [],
   "source": [
    "pd.read_csv(\"../data/VIGREP/MGNA5VREP_P3.txt\", header=None)[5000:158600].plot()"
   ]
  },
  {
   "cell_type": "code",
   "execution_count": null,
   "id": "aad57a84-2952-45db-9ad1-a6c8f85ec236",
   "metadata": {},
   "outputs": [],
   "source": [
    "pd.read_csv(\"../data/VIGREP/RLMNVIGREP_P3.txt\", header=None)[5000:158600].plot()"
   ]
  },
  {
   "cell_type": "code",
   "execution_count": null,
   "id": "68a4823d-4bf9-442b-8fc0-1fff7561e1d7",
   "metadata": {},
   "outputs": [],
   "source": []
  }
 ],
 "metadata": {
  "kernelspec": {
   "display_name": "Python 3 (ipykernel)",
   "language": "python",
   "name": "python3"
  },
  "language_info": {
   "codemirror_mode": {
    "name": "ipython",
    "version": 3
   },
   "file_extension": ".py",
   "mimetype": "text/x-python",
   "name": "python",
   "nbconvert_exporter": "python",
   "pygments_lexer": "ipython3",
   "version": "3.10.8"
  }
 },
 "nbformat": 4,
 "nbformat_minor": 5
}
