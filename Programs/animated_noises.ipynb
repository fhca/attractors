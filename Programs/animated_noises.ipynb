{
 "cells": [
  {
   "cell_type": "code",
   "execution_count": null,
   "id": "58a583fd-d7bb-4c7c-80d5-16efea1d8198",
   "metadata": {},
   "outputs": [],
   "source": [
    "import pandas as pd"
   ]
  },
  {
   "cell_type": "code",
   "execution_count": null,
   "id": "3333dee1-95c6-49ec-8239-245b6bfb224e",
   "metadata": {},
   "outputs": [],
   "source": [
    "from ifsoac_2 import *"
   ]
  },
  {
   "cell_type": "code",
   "execution_count": null,
   "id": "bada368c-eab0-4709-aee7-4486a6fd2d22",
   "metadata": {},
   "outputs": [],
   "source": [
    "br=pd.read_csv(\"../data/noise_2.csv\", header=None).to_numpy()\n",
    "%time Ifsoac(br, op={\"p\":.00001, \"cmap_ds\":\"CET_C1\", \"ventana_ds\":1200}).export_images()"
   ]
  },
  {
   "cell_type": "code",
   "execution_count": null,
   "id": "036d95f8-e70f-45d7-b7b3-ad95edc9f821",
   "metadata": {},
   "outputs": [],
   "source": [
    "%time Ifsoac([t[::i] for i in range(1, 2)], {\"p\":0.001, \"cmap_ds\":\"CET_C1\"}).plot()"
   ]
  },
  {
   "cell_type": "code",
   "execution_count": null,
   "id": "4db1ef67-dd7c-4d2d-85b5-b9cb165b112f",
   "metadata": {},
   "outputs": [],
   "source": [
    "lz = lorentz_array()\n",
    "%time Ifsoac([lz[::i] for i in range(1, 2)], {\"p\":0.00001, \"cmap_ds\":\"CET_C1\"}).plot()"
   ]
  },
  {
   "cell_type": "code",
   "execution_count": null,
   "id": "a0d43f36-5601-4489-8051-1767137d5b21",
   "metadata": {},
   "outputs": [],
   "source": [
    "%%time\n",
    "br=pd.read_csv(\"noise_2.csv\", header=None).to_numpy()\n",
    "\n",
    "for i, p in enumerate(np.logspace(np.log10(0.5), np.log10(0.00000001), 400)):\n",
    "    Ifsoac(br, {\"p\":p, \"cmap_ds\":\"CET_C1\"}).export_images(filename_prefix=f\"brnoise{i:0>4}\", export_path=\"./img\")\n",
    "!/opt/homebrew/bin/convert -delay .1 -loop 0 img/brnoise*png brnoise.gif"
   ]
  },
  {
   "cell_type": "code",
   "execution_count": null,
   "id": "df08a3a1-c8db-40a0-97c4-a12e9ad974cc",
   "metadata": {},
   "outputs": [],
   "source": []
  },
  {
   "cell_type": "code",
   "execution_count": null,
   "id": "2531e5c1-2dd4-416e-99d4-7683de1c5086",
   "metadata": {},
   "outputs": [],
   "source": [
    "%%time\n",
    "br=pd.read_csv(\"noise_1.csv\", header=None).to_numpy()\n",
    "\n",
    "for i, p in enumerate(np.logspace(np.log10(0.5), np.log10(0.00000001), 400)):\n",
    "    Ifsoac(br, {\"p\":p, \"cmap_ds\":\"CET_C1\"}).export_images(filename_prefix=f\"pknoise{i:0>4}\", export_path=\"./img\")\n",
    "!/opt/homebrew/bin/convert -delay .1 -loop 0 img/pknoise*png pknoise.gif"
   ]
  },
  {
   "cell_type": "code",
   "execution_count": null,
   "id": "f220d08b-9aed-42e4-9a12-da83e8f077a4",
   "metadata": {},
   "outputs": [],
   "source": [
    "%%time\n",
    "br=pd.read_csv(\"noise_0.csv\", header=None).to_numpy()\n",
    "\n",
    "for i, p in enumerate(np.logspace(np.log10(0.5), np.log10(0.00000001), 400)):\n",
    "    Ifsoac(br, {\"p\":p, \"cmap_ds\":\"CET_C1\"}).export_images(filename_prefix=f\"whnoise{i:0>4}\", export_path=\"./img\")\n",
    "!/opt/homebrew/bin/convert -delay .1 -loop 0 img/whnoise*png whnoise.gif"
   ]
  },
  {
   "cell_type": "code",
   "execution_count": null,
   "id": "df2acda1-402f-4bac-b86b-aa702ba22a61",
   "metadata": {},
   "outputs": [],
   "source": [
    "%%time\n",
    "br=pd.read_csv(\"noise_-1.csv\", header=None).to_numpy()\n",
    "\n",
    "for i, p in enumerate(np.logspace(np.log10(0.5), np.log10(0.00000001), 400)):\n",
    "    Ifsoac(br, {\"p\":p, \"cmap_ds\":\"CET_C1\"}).export_images(filename_prefix=f\"blnoise{i:0>4}\", export_path=\"./img\")\n",
    "!/opt/homebrew/bin/convert -delay .1 -loop 0 img/blnoise*png blnoise.gif"
   ]
  },
  {
   "cell_type": "code",
   "execution_count": null,
   "id": "687b7348-68f2-4d0d-8f4b-31abc2e4c9ad",
   "metadata": {},
   "outputs": [],
   "source": [
    "%%time\n",
    "br=pd.read_csv(\"noise_-2.csv\", header=None).to_numpy()\n",
    "\n",
    "for i, p in enumerate(np.logspace(np.log10(0.5), np.log10(0.00000001), 400)):\n",
    "    Ifsoac(br, {\"p\":p, \"cmap_ds\":\"CET_C1\"}).export_images(filename_prefix=f\"punoise{i:0>4}\", export_path=\"./img\")\n",
    "!/opt/homebrew/bin/convert -delay .1 -loop 0 img/punoise*png punoise.gif"
   ]
  },
  {
   "cell_type": "code",
   "execution_count": null,
   "id": "4e522373-8baa-48d7-9df0-ab814dd02c0a",
   "metadata": {},
   "outputs": [],
   "source": [
    "import shutil\n",
    "\n",
    "names = [\"PSC-004-EKG-EA\", \"PSC-004-EKG-LB\", \"PSC-004-EKG-RE\", \"PSC-006-EKG-EA\"]\n",
    "files = [f + \".txt\" for f in names]\n",
    "psc = [np.loadtxt(f) for f in files]\n",
    "names = [\"animations/heart/\" + n + \".gif\" for n in names]"
   ]
  },
  {
   "cell_type": "code",
   "execution_count": null,
   "id": "77f0162d-96fa-490b-aa41-8b8ca47f5bac",
   "metadata": {},
   "outputs": [],
   "source": [
    "for n in range(4):\n",
    "    shutil.rmtree('./img')\n",
    "    for i, p in enumerate(np.logspace(np.log10(0.5), np.log10(0.00000001), 400)):\n",
    "        Ifsoac(psc[n], {\"p\":p, \"cmap_ds\":\"CET_C1\"}).export_images(filename_prefix=f\"myfile{i:0>4}\", export_path=\"./img\")\n",
    "    !/opt/homebrew/bin/convert -delay .1 -loop 0 img/myfile*png {names[n]}"
   ]
  },
  {
   "cell_type": "code",
   "execution_count": null,
   "id": "58f8c3be-3642-4315-a25b-61f39c44a652",
   "metadata": {},
   "outputs": [],
   "source": [
    "[\"animations/\" + n for n in names]"
   ]
  },
  {
   "cell_type": "code",
   "execution_count": null,
   "id": "53595f8a-caa9-457a-8e1d-c4e58da1b613",
   "metadata": {},
   "outputs": [],
   "source": []
  }
 ],
 "metadata": {
  "kernelspec": {
   "display_name": "Python 3 (ipykernel)",
   "language": "python",
   "name": "python3"
  },
  "language_info": {
   "codemirror_mode": {
    "name": "ipython",
    "version": 3
   },
   "file_extension": ".py",
   "mimetype": "text/x-python",
   "name": "python",
   "nbconvert_exporter": "python",
   "pygments_lexer": "ipython3",
   "version": "3.9.13"
  }
 },
 "nbformat": 4,
 "nbformat_minor": 5
}
