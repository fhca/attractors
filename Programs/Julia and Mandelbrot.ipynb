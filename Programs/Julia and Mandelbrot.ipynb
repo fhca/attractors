{
 "cells": [
  {
   "cell_type": "code",
   "execution_count": null,
   "id": "ec99fde7-1c5c-49c0-ad57-a854f593e975",
   "metadata": {},
   "outputs": [],
   "source": [
    "import numpy as np, xarray as xr, datashader as ds, colorcet as cc\n",
    "import matplotlib.pyplot as plt\n",
    "from numba import jit \n",
    "from datashader.utils import export_image\n",
    "from colorcet import palette\n",
    "from datashader import transfer_functions as tf"
   ]
  },
  {
   "cell_type": "code",
   "execution_count": null,
   "id": "dd051c5d-c332-4995-8f65-babdf6b39dd5",
   "metadata": {},
   "outputs": [],
   "source": [
    "@jit(nopython=True)\n",
    "def julia_iter(c, NPOINTS, h_range, v_range):\n",
    "    h_points = np.arange(*h_range, (h_range[1] - h_range[0]) / NPOINTS)\n",
    "    v_points = np.arange(*v_range, (v_range[1] - v_range[0]) / NPOINTS)\n",
    "    z = np.array([complex(h,v) for v in v_points for h in h_points]) # coords in the canvas\n",
    "    color = np.zeros(len(z))\n",
    "    itera = 1000\n",
    "    for _ in range(itera):\n",
    "        i=0\n",
    "        norma = np.absolute(z) < 2 \n",
    "        for n in norma:\n",
    "            if n:\n",
    "                z[i] = z[i] ** 2 + c\n",
    "                color[i] += 1\n",
    "            i += 1\n",
    "    color[norma]=0\n",
    "    return color.reshape(NPOINTS,NPOINTS), h_points, v_points\n",
    "  \n",
    "#@jit#(nopython=True)\n",
    "def julia(fractal=julia_iter, **op):\n",
    "    op_default = {\"cmap\":cc.rainbow, \"NPOINTS\":1200, \"h_range\":(-1.4,1.4), \"v_range\":(-1.7,1.7), \"save\":False}\n",
    "    if op: op_default.update(op)\n",
    "    op = op_default\n",
    "    color, xs, ys = fractal(op[\"c\"], op[\"NPOINTS\"], op[\"h_range\"], op[\"v_range\"])\n",
    "    h, v, scale = op[\"h_range\"], op[\"v_range\"], op[\"NPOINTS\"]\n",
    "    dim = int(scale*(h[1]-h[0])/(v[1]-v[0])), int(scale)\n",
    "    res = tf.shade(ds.Canvas(*dim, x_range=h, y_range=v).raster(xr.DataArray(color, coords=[('y',ys), ('x',xs)])), cmap=op['cmap'])\n",
    "    #res = tf.shade(xr.DataArray(color, coords=[('y',ys), ('x',xs)]), cmap=op['cmap'])\n",
    "    if op[\"save\"]: # save to op[\"save\"] filename\n",
    "        return export_image(img=res, filename=op[\"save\"], fmt=\".png\", export_path=\"./\")\n",
    "    return res\n",
    "\n",
    "\n",
    "#%time julia(c=1j, NPOINTS=1200, cmap=plt.cm.gist_ncar, save=\"julia0\")\n",
    "#%time julia(c=.5j, NPOINTS=1200, cmap=plt.colormaps['gist_ncar'], save=\"julia1\")\n",
    "#%time julia(c=1+1j, NPOINTS=1200, cmap=plt.colormaps['gist_ncar'], save=\"julia2\")\n",
    "%time julia(c=.5+.5j, NPOINTS=1200, cmap=plt.colormaps['gist_ncar'], save=\"julia3\")"
   ]
  },
  {
   "cell_type": "code",
   "execution_count": null,
   "id": "1c55d1f8-4a95-4bc1-ad4a-a4320a6685d0",
   "metadata": {},
   "outputs": [],
   "source": [
    "@jit(nopython=True)\n",
    "def mandel_iter(c, NPOINTS, h_range, v_range):\n",
    "    h_points = np.arange(*h_range, (h_range[1] - h_range[0]) / NPOINTS)\n",
    "    v_points = np.arange(*v_range, (v_range[1] - v_range[0]) / NPOINTS)\n",
    "    c = np.array([complex(h,v) for v in v_points for h in h_points]) # coords in the canvas\n",
    "    z = np.zeros_like(c) # complex zeros\n",
    "    color = np.zeros(len(z)) # real zeros (a numba thing)\n",
    "    itera = 1000\n",
    "    for _ in range(itera):\n",
    "        i=0\n",
    "        norma = np.absolute(z) < 2 \n",
    "        for n in norma:\n",
    "            if n:\n",
    "                z[i] = z[i] ** 2 + c[i]\n",
    "                color[i] += 1\n",
    "            i += 1\n",
    "    color[norma]=0\n",
    "    return color.reshape(NPOINTS,NPOINTS), h_points, v_points\n",
    "  \n",
    "\"\"\"\n",
    "def mandelbrot(fractal=mf, **op):\n",
    "    op_default = {\"cmap\":viridis, \"NPOINTS\":100, \"h_range\":(-2,.5), \"v_range\":(-1.25,1.25)}\n",
    "    if op: op_default.update(op)\n",
    "    op = op_default\n",
    "    color, xs, ys = fractal(op[\"NPOINTS\"], op[\"h_range\"], op[\"v_range\"])\n",
    "    da = xr.DataArray(color, coords=[('y',xs), ('x',xs)])\n",
    "    return tf.shade(da, cmap=op['cmap'])\n",
    "\"\"\"\n",
    "def mandelbrot(**op):\n",
    "    opd = {\"h_range\":(-2,.5), \"v_range\":(-1.2,1.2), \"c\":None}\n",
    "    if op: opd.update(op)\n",
    "    op = opd\n",
    "    res = julia(fractal=mandel_iter, **op)\n",
    "    if op[\"save\"]: # save to op[\"save\"] filename\n",
    "        return export_image(img=res, filename=op[\"save\"], fmt=\".png\", export_path=\"./\")\n",
    "    return res\n",
    "\n",
    "%time mandelbrot(cmap=plt.colormaps['gist_ncar'], NPOINTS=1200, save=\"julia4\")\n",
    "#export_image(img=m1, filename=\"m1\", fmt=\".png\", export_path=\"./\")"
   ]
  },
  {
   "cell_type": "code",
   "execution_count": null,
   "id": "c0169e30-0882-407f-9745-ab95ba676bd7",
   "metadata": {},
   "outputs": [],
   "source": [
    "%time mandelbrot(cmap=plt.colormaps['gist_ncar'], h_range=(-.12, -.1), v_range=(.7, .8))"
   ]
  }
 ],
 "metadata": {
  "kernelspec": {
   "display_name": "Python 3 (ipykernel)",
   "language": "python",
   "name": "python3"
  },
  "language_info": {
   "codemirror_mode": {
    "name": "ipython",
    "version": 3
   },
   "file_extension": ".py",
   "mimetype": "text/x-python",
   "name": "python",
   "nbconvert_exporter": "python",
   "pygments_lexer": "ipython3",
   "version": "3.9.13"
  }
 },
 "nbformat": 4,
 "nbformat_minor": 5
}
