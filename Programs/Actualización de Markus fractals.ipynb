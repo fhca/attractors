{
 "cells": [
  {
   "cell_type": "markdown",
   "id": "557d1d03-5d6d-45d9-a517-46c7381dceb5",
   "metadata": {},
   "source": [
    "# Actualización de Marcus fractals\n",
    "\n",
    "(english below)\n",
    "\n",
    "Este programa presenta pequeñas actualizaciones al `Markus fractals.ipynb`, incluyendo principalmente cambios en los mapas de colores. Estas son las versiones enviadas en el manuscrito."
   ]
  },
  {
   "cell_type": "code",
   "execution_count": null,
   "id": "ec99fde7-1c5c-49c0-ad57-a854f593e975",
   "metadata": {},
   "outputs": [],
   "source": [
    "import numpy as np, matplotlib as mpl, matplotlib.pyplot as plt, xarray as xr, datashader as ds, colorcet as cc\n",
    "from numba import jit \n",
    "from datashader.utils import export_image\n",
    "from colorcet import palette\n",
    "from datashader import transfer_functions as tf"
   ]
  },
  {
   "cell_type": "markdown",
   "id": "22918e14-9d7e-4731-b14d-70c1142fba4d",
   "metadata": {},
   "source": [
    "## Exponente de lyapunov para la función logística\n",
    "Graficado con matplotlib. Esencialmente el mismo código de `A-Feigenbaum.ipynb`."
   ]
  },
  {
   "cell_type": "code",
   "execution_count": null,
   "id": "d7ef2e18-b81f-41f0-94a7-78e59da68239",
   "metadata": {},
   "outputs": [],
   "source": [
    "@jit(nopython=True)\n",
    "def lyapunov(x=0.5, r=4.0):\n",
    "    for i in range(10000): x = r * x * (1 - x)\n",
    "    NLYAP = 100000\n",
    "    total = 0\n",
    "    for _ in range(NLYAP):\n",
    "        x = r * x * (1 - x)\n",
    "        total += np.log2(np.abs(r - 2 * r * x))\n",
    "    return total / NLYAP"
   ]
  },
  {
   "cell_type": "code",
   "execution_count": null,
   "id": "0718be48-8730-46ba-af65-1c226edb5b39",
   "metadata": {},
   "outputs": [],
   "source": [
    "x = np.linspace(1,4,1000)\n",
    "plt.plot(x, np.zeros_like(x))\n",
    "plt.plot(x, [lyapunov(r=r) for r in x], 'r', linewidth=.5)\n",
    "plt.show()"
   ]
  },
  {
   "cell_type": "markdown",
   "id": "629c73fe-db84-4eda-96de-36eb4062ca8d",
   "metadata": {},
   "source": [
    "## Fractal de Markus (o de Markus - Lyapunov)\n",
    "\n",
    "Algoritmo\n",
    "\n",
    "1. Genera el arreglo `Sp` de `NPOINTS+TRANSIENT+1` ceros y unos, replicando la cadena de control `s`, tanto como se necesite para tener NPOINTS iteraciones, mas un número pequeño de valores transitorios `TRANSIENT`.\n",
    "2. Genera un \"lienzo\" descrito con el arreglo tridimensional `a` con dos capas de tamaño `(NPOINTS x NPOINTS)` cada una, conteniendo las coordenadas $x$ (capa 0) e $y$ (capa 1), de cada punto. También genera el arreglo bidimensional `color` del mismo tamaño que una capa de `a`, conteniendo ceros y el arreglo `x`, de ese mismo tamaño, conteniendo el 0.5 en todas sus posiciones.\n",
    "3. Itera `S` sobre `Sp`, `TRANSIENT` veces calculando el valor de `x` (de cada uno de los valores de ese arreglo) con el mapeo logístico con el parámetro $r$ tomado de la capa de `a` dictada por `Sp`.\n",
    "4. Itera `S` sobre `Sp`, calculando `x` como antes, ahora adicionalmente calculando, a la manera del exponente de Lyapunov, un valor para `color` correspondiente. No es necesario dividir entre $n$, pues el mapa de colores hace el reescalamiento necesario.\n",
    "Termina con el arreglo `color` que contendrá el \"color\" de cada pixel del lienzo.\n",
    "\n",
    "Truco: se usa \"raster\" para poder pintar lienzos no cuadrados (depende de los valores de las coordenadas)."
   ]
  },
  {
   "cell_type": "code",
   "execution_count": null,
   "id": "cf0909eb-7fbe-4755-80aa-695270b21834",
   "metadata": {},
   "outputs": [],
   "source": [
    "@jit(nopython=True)\n",
    "def lf(s, NPOINTS, h_range, v_range, param, iterations=None):\n",
    "    TRANSIENT=100\n",
    "    if iterations is None: iterations = NPOINTS\n",
    "    Sp=np.array([0 if x=='A' else 1 for x in s]*(iterations // len(s) + TRANSIENT + 1))\n",
    "    h_points = np.arange(*h_range, (h_range[1] - h_range[0]) / NPOINTS)\n",
    "    v_points = np.arange(*v_range, (v_range[1] - v_range[0]) / NPOINTS)\n",
    "    a = np.array([[[p for p in h_points] for _ in range(NPOINTS)],\n",
    "         [[p for _ in range(NPOINTS)] for p in v_points]])\n",
    "    color = np.zeros_like(a[0])\n",
    "    x = np.ones_like(color) * 0.5\n",
    "    # transient step\n",
    "    for S in Sp[:TRANSIENT]:\n",
    "        r = a[S]\n",
    "        x = r * x * (1 - x)\n",
    "    # now proceed to the fractal\n",
    "    for S in Sp[TRANSIENT:]:\n",
    "        r = a[S]\n",
    "        x = r * x * (1 - x)\n",
    "        yy = np.abs(r - 2 * r * x)\n",
    "        color += np.log2(np.where(yy > 0, yy, 1e-10))\n",
    "    #color /= len(Sp)\n",
    "    return color, h_points, v_points\n",
    "  \n",
    "#@jit#(nopython=True)\n",
    "def lyaf(s, lf=lf, **op):\n",
    "    #letters = \"AB\"\n",
    "    #dletters = dict([(x, letters.index(x)) for x in letters])\n",
    "    #S = [dletters[x] for x in s for j in range(iter // len(s) + 1)]\n",
    "    op_default = {\"cmap\":palette['fire'], \"NPOINTS\":1200, \"h_range\":(2,4), \"v_range\":(2,4), \"param\":None, \"save\":False}\n",
    "    if op: op_default.update(op)\n",
    "    op = op_default\n",
    "    color, xs, ys = lf(s, NPOINTS=op[\"NPOINTS\"], h_range=op[\"h_range\"], v_range=op[\"v_range\"], param=op[\"param\"], iterations=op[\"iterations\"])\n",
    "    h, v, scale = op[\"h_range\"], op[\"v_range\"], op[\"NPOINTS\"]\n",
    "    dim = int(scale*(h[1]-h[0])/(v[1]-v[0])), int(scale)\n",
    "    res = tf.shade(ds.Canvas(*dim).raster(xr.DataArray(color, coords=[('y',ys), ('x',xs)])), cmap=op['cmap'])\n",
    "    if op[\"save\"]: # save to op[\"save\"] filename\n",
    "        return export_image(img=res, filename=op[\"save\"], fmt=\".png\", export_path=\"./\")\n",
    "    return res"
   ]
  },
  {
   "cell_type": "code",
   "execution_count": null,
   "id": "1dc1b118-b94f-4703-b97f-b6126b7a6ac8",
   "metadata": {},
   "outputs": [],
   "source": [
    "%time lyaf(\"AABAB\", h_range=(3,4), v_range=(3,3.5), iterations=100)"
   ]
  },
  {
   "cell_type": "code",
   "execution_count": null,
   "id": "f0d15554-5918-475b-82b8-05ee26728119",
   "metadata": {},
   "outputs": [],
   "source": [
    "%time lyaf(\"AABAB\", h_range=(3,4), v_range=(3,3.5), cmap=mpl.colormaps['hot'])"
   ]
  },
  {
   "cell_type": "code",
   "execution_count": null,
   "id": "3eb49368-b97d-49f1-a2e0-e164e730d3ba",
   "metadata": {},
   "outputs": [],
   "source": [
    "#%time lyaf(\"BA\", cmap=cc.cwr, save=\"Numerical_experiments_fig04a\")\n",
    "%time lyaf(\"BA\", cmap=cc.cwr)"
   ]
  },
  {
   "cell_type": "code",
   "execution_count": null,
   "id": "1fba4ed6-1211-45af-8162-dcafbdef8d25",
   "metadata": {},
   "outputs": [],
   "source": [
    "%time lyaf(\"AB\", cmap=cc.colorwheel)"
   ]
  },
  {
   "cell_type": "code",
   "execution_count": null,
   "id": "11837830-95d7-402a-a038-5f9d3d2bf3be",
   "metadata": {},
   "outputs": [],
   "source": [
    "%time lyaf(\"AABB\", h_range=(0,4), v_range=(0,4), cmap=cc.coolwarm)"
   ]
  },
  {
   "cell_type": "code",
   "execution_count": null,
   "id": "71bf51fe-d4e9-4b6d-9107-989d616dad76",
   "metadata": {},
   "outputs": [],
   "source": [
    "import pandas as pd\n",
    "import matplotlib.pyplot as plt\n",
    "\n",
    "    \n",
    "@jit(nopython=True)\n",
    "def lf2(s, NPOINTS, h_range, v_range, param, iterations=None):\n",
    "    TRANSIENT=100\n",
    "    if iterations is None: iterations = NPOINTS\n",
    "    Sp=np.array([0 if x=='A' else 1 for x in s]*(iterations // len(s) + TRANSIENT + 1))\n",
    "    h_points = np.arange(*h_range, (h_range[1] - h_range[0]) / NPOINTS)\n",
    "    v_points = np.arange(*v_range, (v_range[1] - v_range[0]) / NPOINTS)\n",
    "    a = np.array([[[p for p in h_points] for _ in range(NPOINTS)],\n",
    "         [[p for _ in range(NPOINTS)] for p in v_points]])\n",
    "    color = np.zeros_like(a[0])\n",
    "    x = np.ones_like(color) * 0.5\n",
    "    b = param[0]\n",
    "    for S in Sp[:TRANSIENT]:\n",
    "        r = a[S]\n",
    "        x = b * np.sin(x + r) ** 2\n",
    "    for S in Sp[TRANSIENT:]:\n",
    "        r = a[S]\n",
    "        x = b * np.sin(x + r) ** 2\n",
    "        yy = np.abs(2 * b * np.sin(x + r)* np.cos(x + r))\n",
    "        color += np.log2(np.where(yy > 0, yy, 1e-10))\n",
    "    #color /= len(Sp)\n",
    "    return color, h_points, v_points"
   ]
  },
  {
   "cell_type": "code",
   "execution_count": null,
   "id": "b66c2530-4ccb-4150-af02-fa566380c86e",
   "metadata": {},
   "outputs": [],
   "source": [
    "%time lyaf(\"AB\", lf=lf2, h_range=(0,10), v_range=(0,10), param=(1,))"
   ]
  },
  {
   "cell_type": "code",
   "execution_count": null,
   "id": "55f0afaf-234d-44a8-9824-37cc84733097",
   "metadata": {},
   "outputs": [],
   "source": [
    "%time lyaf(\"AB\", lf=lf2, h_range=(0,10), v_range=(0,10), param=(1.4,))"
   ]
  },
  {
   "cell_type": "code",
   "execution_count": null,
   "id": "e946d9a6-02ba-40eb-b60d-4b17d468a53a",
   "metadata": {},
   "outputs": [],
   "source": [
    "%time lyaf(\"AB\", lf2, h_range=(0,10), v_range=(0,10), param=(1.8,))"
   ]
  },
  {
   "cell_type": "code",
   "execution_count": null,
   "id": "0edb500a-e643-4158-862e-5a72f666a0f6",
   "metadata": {},
   "outputs": [],
   "source": [
    "%time lyaf(\"AB\", lf2, h_range=(0,10), v_range=(0,10), param=(2.1,))"
   ]
  },
  {
   "cell_type": "code",
   "execution_count": null,
   "id": "fa17d9a4-87cd-444d-9fb4-679541a4a32f",
   "metadata": {},
   "outputs": [],
   "source": [
    "%time lyaf(\"AB\", lf2, h_range=(0,10), v_range=(0,10), param=(2.5,))"
   ]
  },
  {
   "cell_type": "code",
   "execution_count": null,
   "id": "6ef2ec0d-2042-4877-9d17-b6db0a043462",
   "metadata": {},
   "outputs": [],
   "source": [
    "%time lyaf(\"AB\", lf2, h_range=(0,5), v_range=(0,5), param=(2.5,), cmap=mpl.colormaps['gist_ncar'])"
   ]
  },
  {
   "cell_type": "code",
   "execution_count": null,
   "id": "588f00d8-81cb-487e-aa54-7f65850c21a3",
   "metadata": {},
   "outputs": [],
   "source": [
    "%time lyaf(\"AB\", lf2, h_range=(0.5,2), v_range=(0.5,2), param=(2.5,), cmap=mpl.colormaps['gist_ncar'])"
   ]
  },
  {
   "cell_type": "code",
   "execution_count": null,
   "id": "bd6bd242-5a75-4e64-b9c6-83f33dcd6ec9",
   "metadata": {},
   "outputs": [],
   "source": [
    "%time lyaf(\"AB\", lf2, h_range=(.5,.7), v_range=(.5,.7), param=(2.5,), cmap=mpl.colormaps['gist_ncar'])"
   ]
  },
  {
   "cell_type": "code",
   "execution_count": null,
   "id": "dd1aa17d-399b-4692-9639-88434c6de8e5",
   "metadata": {},
   "outputs": [],
   "source": [
    "%time lyaf(\"AB\", lf2, h_range=(0,1), v_range=(0,1), param=(1.95,), cmap=mpl.colormaps['gist_ncar'])"
   ]
  },
  {
   "cell_type": "code",
   "execution_count": null,
   "id": "e6606366-96ef-44c4-8d96-28dd9cd8ff6f",
   "metadata": {},
   "outputs": [],
   "source": [
    "%time lyaf(\"BBABABA\", cmap=mpl.colormaps['magma_r'], h_range=(2.759, 3.744), v_range=(3.21,4))"
   ]
  },
  {
   "cell_type": "code",
   "execution_count": null,
   "id": "068b7f82-f59f-4b9d-b714-c2415e87b8d9",
   "metadata": {},
   "outputs": [],
   "source": [
    "%time lyaf(\"BBABABA\", cmap=mpl.colormaps[\"twilight\"], h_range=(2.759, 3.744), v_range=(3.21,4))"
   ]
  },
  {
   "cell_type": "code",
   "execution_count": null,
   "id": "998f76dc-6fc1-4552-8318-3ae1bef29e53",
   "metadata": {},
   "outputs": [],
   "source": [
    "%time lyaf(\"BBBBBBAAAAAA\", cmap=mpl.colormaps[\"twilight\"], h_range=(2.52, 3.65), v_range=(3.46,4))"
   ]
  },
  {
   "cell_type": "code",
   "execution_count": null,
   "id": "343b2b6a-0ef4-4be9-9844-d6c7858c671b",
   "metadata": {},
   "outputs": [],
   "source": [
    "%time lyaf(\"BBBBBBAAAAAA\", cmap=mpl.colormaps[\"hsv\"], h_range=(2.52, 3.65), v_range=(3.46,4), NPOINTS=1000)"
   ]
  },
  {
   "cell_type": "code",
   "execution_count": null,
   "id": "0fe734b9-6b8b-4c34-8cc2-51fbe15e5471",
   "metadata": {},
   "outputs": [],
   "source": [
    "@jit(nopython=True)\n",
    "def lf3(s, NPOINTS, h_range, v_range, param, iterations=None):\n",
    "    TRANSIENT=100\n",
    "    if iterations is None: iterations = NPOINTS\n",
    "    Sp=np.array([0 if x=='A' else 1 for x in s]*(iterations // len(s) + TRANSIENT + 1))\n",
    "    h_points = np.arange(*h_range, (h_range[1] - h_range[0]) / NPOINTS)\n",
    "    v_points = np.arange(*v_range, (v_range[1] - v_range[0]) / NPOINTS)\n",
    "    a = np.array([[[p for p in h_points] for _ in range(NPOINTS)],\n",
    "         [[p for _ in range(NPOINTS)] for p in v_points]])\n",
    "    color = np.zeros_like(a[0])\n",
    "    x = np.ones_like(color) * 0.5\n",
    "    for S in Sp[:TRANSIENT]:\n",
    "        r = a[S]\n",
    "        x = r * np.cos(x)\n",
    "    for S in Sp[TRANSIENT:]:\n",
    "        r = a[S]\n",
    "        x = r * np.cos(x)\n",
    "        yy = np.abs(- r * np.sin(x))\n",
    "        color += np.log2(np.where(yy > 0, yy, 1e-10))\n",
    "    #color /= len(Sp)\n",
    "    return color, h_points, v_points"
   ]
  },
  {
   "cell_type": "code",
   "execution_count": null,
   "id": "fa810618-24fe-4386-893d-44b152a62a8e",
   "metadata": {},
   "outputs": [],
   "source": [
    "#%time lyaf(\"AB\", lf3,  cmap=mpl.colormaps[\"hot\"], h_range=(0, 10), v_range=(0,10), param=(.1,), NPOINTS=1000)\n",
    "%time lyaf(\"AB\", lf3,  cmap=cc.coolwarm, h_range=(0, 10), v_range=(0,10), param=(.1,))"
   ]
  },
  {
   "cell_type": "code",
   "execution_count": null,
   "id": "52ef765c-f0d8-465a-8b63-523bcededd30",
   "metadata": {},
   "outputs": [],
   "source": []
  }
 ],
 "metadata": {
  "kernelspec": {
   "display_name": "Python 3 (ipykernel)",
   "language": "python",
   "name": "python3"
  },
  "language_info": {
   "codemirror_mode": {
    "name": "ipython",
    "version": 3
   },
   "file_extension": ".py",
   "mimetype": "text/x-python",
   "name": "python",
   "nbconvert_exporter": "python",
   "pygments_lexer": "ipython3",
   "version": "3.9.13"
  }
 },
 "nbformat": 4,
 "nbformat_minor": 5
}
