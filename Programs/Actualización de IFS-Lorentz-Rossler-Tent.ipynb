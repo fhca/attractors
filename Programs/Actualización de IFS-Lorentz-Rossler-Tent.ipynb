{
 "cells": [
  {
   "cell_type": "markdown",
   "metadata": {
    "id": "FL0twc7I-eFo"
   },
   "source": [
    "# Ifsoac y sus transformaciones"
   ]
  },
  {
   "cell_type": "code",
   "execution_count": null,
   "metadata": {
    "executionInfo": {
     "elapsed": 590,
     "status": "ok",
     "timestamp": 1644000847792,
     "user": {
      "displayName": "Felipe Humberto Contreras Alcala",
      "photoUrl": "https://lh3.googleusercontent.com/a-/AOh14GgU_2wwjZSvzzhFFebWKdekpPe0VgHnod4v-bDUNA=s64",
      "userId": "00736783643502694397"
     },
     "user_tz": 360
    },
    "id": "cZHC_6gniJLo"
   },
   "outputs": [],
   "source": [
    "%run ifsoac.py"
   ]
  },
  {
   "cell_type": "markdown",
   "metadata": {
    "tags": []
   },
   "source": [
    "# Ejemplos MPL"
   ]
  },
  {
   "cell_type": "code",
   "execution_count": null,
   "metadata": {
    "executionInfo": {
     "elapsed": 267,
     "status": "ok",
     "timestamp": 1644000848055,
     "user": {
      "displayName": "Felipe Humberto Contreras Alcala",
      "photoUrl": "https://lh3.googleusercontent.com/a-/AOh14GgU_2wwjZSvzzhFFebWKdekpPe0VgHnod4v-bDUNA=s64",
      "userId": "00736783643502694397"
     },
     "user_tz": 360
    },
    "id": "yFryl7A1ibAI"
   },
   "outputs": [],
   "source": [
    "lorentz = pd.read_csv(\"./lorenz.dat\", header=None).to_numpy().flatten()\n",
    "rossler = pd.read_csv(\"./rossler.dat\", header=None).to_numpy().flatten()"
   ]
  },
  {
   "cell_type": "code",
   "execution_count": null,
   "metadata": {
    "colab": {
     "base_uri": "https://localhost:8080/",
     "height": 1000
    },
    "executionInfo": {
     "elapsed": 2447,
     "status": "ok",
     "timestamp": 1644000850500,
     "user": {
      "displayName": "Felipe Humberto Contreras Alcala",
      "photoUrl": "https://lh3.googleusercontent.com/a-/AOh14GgU_2wwjZSvzzhFFebWKdekpPe0VgHnod4v-bDUNA=s64",
      "userId": "00736783643502694397"
     },
     "user_tz": 360
    },
    "id": "wjibUifdur9d",
    "outputId": "06a6647e-7cb6-4db6-965b-9ecaa496ec5c"
   },
   "outputs": [],
   "source": [
    "# Sistemas de funciones iteradas en un círculo\n",
    "%time Ifsoac([lorentz, rossler]).plot()"
   ]
  },
  {
   "cell_type": "code",
   "execution_count": null,
   "metadata": {
    "colab": {
     "base_uri": "https://localhost:8080/",
     "height": 226
    },
    "executionInfo": {
     "elapsed": 749,
     "status": "ok",
     "timestamp": 1644000851244,
     "user": {
      "displayName": "Felipe Humberto Contreras Alcala",
      "photoUrl": "https://lh3.googleusercontent.com/a-/AOh14GgU_2wwjZSvzzhFFebWKdekpPe0VgHnod4v-bDUNA=s64",
      "userId": "00736783643502694397"
     },
     "user_tz": 360
    },
    "id": "5BmfJnQLkJfY",
    "outputId": "eb229850-aa3f-492f-bb03-6a64b163d4c9"
   },
   "outputs": [],
   "source": [
    "op = {\"transform\":antipolar, \"tam_punto\":10}\n",
    "%time Ifsoac([lorentz, rossler], op)"
   ]
  },
  {
   "cell_type": "code",
   "execution_count": null,
   "metadata": {
    "executionInfo": {
     "elapsed": 359,
     "status": "ok",
     "timestamp": 1644010686060,
     "user": {
      "displayName": "Felipe Humberto Contreras Alcala",
      "photoUrl": "https://lh3.googleusercontent.com/a-/AOh14GgU_2wwjZSvzzhFFebWKdekpPe0VgHnod4v-bDUNA=s64",
      "userId": "00736783643502694397"
     },
     "user_tz": 360
    },
    "id": "mQXdjlWFxu8A"
   },
   "outputs": [],
   "source": [
    "logi = iterar(logistica)\n",
    "tienda = iterar(tent, N0=0, x0=.4)\n",
    "\n",
    "%time Ifsoac([logi, tienda])"
   ]
  },
  {
   "cell_type": "code",
   "execution_count": null,
   "metadata": {
    "colab": {
     "base_uri": "https://localhost:8080/",
     "height": 419
    },
    "executionInfo": {
     "elapsed": 3110,
     "status": "ok",
     "timestamp": 1644000856912,
     "user": {
      "displayName": "Felipe Humberto Contreras Alcala",
      "photoUrl": "https://lh3.googleusercontent.com/a-/AOh14GgU_2wwjZSvzzhFFebWKdekpPe0VgHnod4v-bDUNA=s64",
      "userId": "00736783643502694397"
     },
     "user_tz": 360
    },
    "id": "YfHGjvC5_e1v",
    "outputId": "8bd0e25a-4f5c-456e-c188-aea5b4f9fe8e"
   },
   "outputs": [],
   "source": [
    "op = {\"tam_punto\":1, \"transform\":antipolar, \"scale\":0}\n",
    "%time Ifsoac([logi, tienda], op)"
   ]
  },
  {
   "cell_type": "code",
   "execution_count": null,
   "metadata": {
    "colab": {
     "base_uri": "https://localhost:8080/",
     "height": 554
    },
    "executionInfo": {
     "elapsed": 533,
     "status": "ok",
     "timestamp": 1644000857439,
     "user": {
      "displayName": "Felipe Humberto Contreras Alcala",
      "photoUrl": "https://lh3.googleusercontent.com/a-/AOh14GgU_2wwjZSvzzhFFebWKdekpPe0VgHnod4v-bDUNA=s64",
      "userId": "00736783643502694397"
     },
     "user_tz": 360
    },
    "id": "Hxy7nvBjtzIf",
    "outputId": "2918e34c-d7bf-4d1f-dcfd-00e9d1ce3594"
   },
   "outputs": [],
   "source": [
    "op = {\"tam_punto\":.1, \"transform\":estereografica}\n",
    "Ifsoac(logi, op)\n",
    "\n",
    "op = {\"tam_punto\":.5, \"transform\":estereografica}\n",
    "tienda = iterar(tent, N0=0, x0=.4)\n",
    "%time Ifsoac(tienda, op)"
   ]
  },
  {
   "cell_type": "markdown",
   "metadata": {
    "id": "7vUZqsjV5RqW",
    "tags": []
   },
   "source": [
    "# IFSoac con igual cantidad de puntos en cada bin\n"
   ]
  },
  {
   "cell_type": "code",
   "execution_count": null,
   "metadata": {
    "colab": {
     "base_uri": "https://localhost:8080/",
     "height": 0
    },
    "executionInfo": {
     "elapsed": 3044,
     "status": "ok",
     "timestamp": 1644000944585,
     "user": {
      "displayName": "Felipe Humberto Contreras Alcala",
      "photoUrl": "https://lh3.googleusercontent.com/a-/AOh14GgU_2wwjZSvzzhFFebWKdekpPe0VgHnod4v-bDUNA=s64",
      "userId": "00736783643502694397"
     },
     "user_tz": 360
    },
    "id": "6-TO5stL9WFe",
    "outputId": "bbd3584f-fd04-4204-a2a5-62f38c75148c"
   },
   "outputs": [],
   "source": [
    "op = {\"transform\":antipolar, \"tam_punto\":10}\n",
    "%time Ifsoac([lorentz, same_amount_bins(lorentz), rossler, same_amount_bins(rossler)], op)"
   ]
  },
  {
   "cell_type": "code",
   "execution_count": null,
   "metadata": {
    "colab": {
     "base_uri": "https://localhost:8080/",
     "height": 0
    },
    "executionInfo": {
     "elapsed": 2216,
     "status": "ok",
     "timestamp": 1644000946791,
     "user": {
      "displayName": "Felipe Humberto Contreras Alcala",
      "photoUrl": "https://lh3.googleusercontent.com/a-/AOh14GgU_2wwjZSvzzhFFebWKdekpPe0VgHnod4v-bDUNA=s64",
      "userId": "00736783643502694397"
     },
     "user_tz": 360
    },
    "id": "lx07EvSj9eKc",
    "outputId": "fc7c543f-67c4-46b5-ca1a-f12b866c4301"
   },
   "outputs": [],
   "source": [
    "%time Ifsoac([same_amount_bins(rossler), same_amount_bins(logi), same_amount_bins(tienda)])"
   ]
  },
  {
   "cell_type": "markdown",
   "metadata": {
    "id": "jH040IiJ9uoN",
    "tags": []
   },
   "source": [
    "# Descorrelacionando Lorentz y Rossler tomando un dato cada 10"
   ]
  },
  {
   "cell_type": "markdown",
   "metadata": {
    "id": "GCxur1LEhz3N"
   },
   "source": [
    "Pedro Miramontes_Vidal, [03/02/22 13:56]\n",
    "Okas.\n",
    "\n",
    "La conjetura es entonces que todos los mapeos del intervalo de la familia logística tienen la misma representación con esta IFS. \n",
    "\n",
    "Ya entiendo lo de Róssler y Lorenz; dos datos sucesivos están muuuuy correlacionados pues son casi el mismo pues vienen de la discretización de una ecuación diferencial con un paso muy pequeño. Para evitar esto, hay que extraer de la serie de tiempo un dato cada 10 lugares y así formal una nueva serie de tiempo y analizarla con tus herramientas."
   ]
  },
  {
   "cell_type": "code",
   "execution_count": null,
   "metadata": {
    "executionInfo": {
     "elapsed": 136,
     "status": "ok",
     "timestamp": 1644002103058,
     "user": {
      "displayName": "Felipe Humberto Contreras Alcala",
      "photoUrl": "https://lh3.googleusercontent.com/a-/AOh14GgU_2wwjZSvzzhFFebWKdekpPe0VgHnod4v-bDUNA=s64",
      "userId": "00736783643502694397"
     },
     "user_tz": 360
    },
    "id": "qABD0fhJFFDd"
   },
   "outputs": [],
   "source": [
    "srossler = same_amount_bins(rossler)\n",
    "slorentz = same_amount_bins(lorentz)"
   ]
  },
  {
   "cell_type": "code",
   "execution_count": null,
   "metadata": {
    "colab": {
     "base_uri": "https://localhost:8080/",
     "height": 1000
    },
    "executionInfo": {
     "elapsed": 2917,
     "status": "ok",
     "timestamp": 1644002180309,
     "user": {
      "displayName": "Felipe Humberto Contreras Alcala",
      "photoUrl": "https://lh3.googleusercontent.com/a-/AOh14GgU_2wwjZSvzzhFFebWKdekpPe0VgHnod4v-bDUNA=s64",
      "userId": "00736783643502694397"
     },
     "user_tz": 360
    },
    "id": "PRHJJ_c6NOVl",
    "outputId": "61ac450c-92fc-45d0-a7d7-5d90c82cf9b4"
   },
   "outputs": [],
   "source": [
    "op1 = {\"tam_punto\":5}\n",
    "op2 = {\"tam_punto\":10, \"transform\":antipolar, \"scale\":0}\n",
    "cada = 10\n",
    "%time Ifsoac([slorentz[::cada], srossler[::cada]], op1)\n",
    "%time Ifsoac([slorentz[::cada], srossler[::cada]], op2)"
   ]
  },
  {
   "cell_type": "code",
   "execution_count": null,
   "metadata": {
    "executionInfo": {
     "elapsed": 146,
     "status": "ok",
     "timestamp": 1643919638866,
     "user": {
      "displayName": "Felipe Humberto Contreras Alcala",
      "photoUrl": "https://lh3.googleusercontent.com/a-/AOh14GgU_2wwjZSvzzhFFebWKdekpPe0VgHnod4v-bDUNA=s64",
      "userId": "00736783643502694397"
     },
     "user_tz": 360
    },
    "id": "tBduasZzN76C"
   },
   "outputs": [],
   "source": [
    "slogi = same_amount_bins(logi)\n",
    "stienda = same_amount_bins(tienda)\n",
    "\n",
    "op={\"tam_punto\":.5}\n",
    "%time Ifsoac([slogi[::i] for i in range(1, 5)], op)"
   ]
  },
  {
   "cell_type": "markdown",
   "metadata": {
    "id": "uK9ELx45-t1M",
    "tags": []
   },
   "source": [
    "# Mapeo unimodal cóncavo"
   ]
  },
  {
   "cell_type": "code",
   "execution_count": null,
   "metadata": {
    "colab": {
     "base_uri": "https://localhost:8080/",
     "height": 1000
    },
    "executionInfo": {
     "elapsed": 9340,
     "status": "ok",
     "timestamp": 1644001526223,
     "user": {
      "displayName": "Felipe Humberto Contreras Alcala",
      "photoUrl": "https://lh3.googleusercontent.com/a-/AOh14GgU_2wwjZSvzzhFFebWKdekpPe0VgHnod4v-bDUNA=s64",
      "userId": "00736783643502694397"
     },
     "user_tz": 360
    },
    "id": "fhs7s-WA-0Gq",
    "outputId": "a4eb1dfa-38aa-4671-fa57-0c48e0c89252"
   },
   "outputs": [],
   "source": [
    "for i in np.linspace(2,.5,6, endpoint=True):\n",
    "    concavo = iterar(lambda x: .999*(1-np.power(np.abs(1-2*x),i)), N0=0, x0=.7)\n",
    "    Ifsoac(same_amount_bins(concavo))"
   ]
  },
  {
   "cell_type": "markdown",
   "metadata": {
    "tags": []
   },
   "source": [
    "# Ahora con datashader"
   ]
  },
  {
   "cell_type": "code",
   "execution_count": null,
   "metadata": {},
   "outputs": [],
   "source": [
    "%time Ifsoac([lorentz, rossler], {\"grafica\":\"ds\", \"cols_ds\":2}).plot()"
   ]
  },
  {
   "cell_type": "code",
   "execution_count": null,
   "metadata": {},
   "outputs": [],
   "source": [
    "#op_antipolar={\"grafica\":\"ds\", \"transform\":antipolar, \"argv\":{\"delta_x\":np.pi, \"delta_y\":np.pi}}\n",
    "op_antipolar={\"grafica\":\"ds\", \"transform\":antipolar}\n",
    "%time Ifsoac([lorentz, rossler], op_antipolar).plot()"
   ]
  },
  {
   "cell_type": "code",
   "execution_count": null,
   "metadata": {},
   "outputs": [],
   "source": [
    "logi = np.array(iterar(logistica, N=10000000, N0=0))\n",
    "tienda = np.array(iterar(tent, N=10000000, N0=0, x0=.4))\n",
    "\n",
    "%time Ifsoac([logi, tienda], {\"ventana_ds\":1200}).plot()"
   ]
  },
  {
   "cell_type": "code",
   "execution_count": null,
   "metadata": {},
   "outputs": [],
   "source": [
    "op = op_antipolar.copy()\n",
    "op.update({\"ventana_ds\":300, \"cols_ds\":4, \"cmap_ds\":\"bgy\"})\n",
    "\n",
    "%time Ifsoac([logi[::c] for c in range(1, 5)], op).plot()"
   ]
  },
  {
   "cell_type": "code",
   "execution_count": null,
   "metadata": {},
   "outputs": [],
   "source": [
    "%time Ifsoac([tienda[::c] for c in range(1, 5)], op).plot()"
   ]
  },
  {
   "cell_type": "code",
   "execution_count": null,
   "metadata": {},
   "outputs": [],
   "source": [
    "op = {\"grafica\":\"ds\", \"transform\":estereografica}\n",
    "%time Ifsoac([logi, tienda], op).plot()"
   ]
  },
  {
   "cell_type": "code",
   "execution_count": null,
   "metadata": {},
   "outputs": [],
   "source": [
    "op = {\"grafica\":\"ds\", \"transform\":antipolar, \"ventana_ds\":300, \"cols_ds\":4}\n",
    "\n",
    "%time Ifsoac([lorentz, same_amount_bins(lorentz), rossler, same_amount_bins(rossler)], op).plot()"
   ]
  },
  {
   "cell_type": "code",
   "execution_count": null,
   "metadata": {},
   "outputs": [],
   "source": [
    "op1 = {\"grafica\":\"ds\", \"ventana_ds\":300, \"cols_ds\":4}\n",
    "op2 = {\"grafica\":\"ds\", \"transform\":antipolar, \"ventana_ds\":300, \"cols_ds\":4}\n",
    "\n",
    "c = 6\n",
    "%time Ifsoac([lorentz[::c],same_amount_bins(lorentz)[::c],rossler[::c],same_amount_bins(rossler)[::c]], op1).plot()"
   ]
  },
  {
   "cell_type": "code",
   "execution_count": null,
   "metadata": {},
   "outputs": [],
   "source": [
    "c = 6\n",
    "%time Ifsoac([lorentz[::c],same_amount_bins(lorentz)[::c],rossler[::c],same_amount_bins(rossler)[::c]], op2).plot()"
   ]
  },
  {
   "cell_type": "code",
   "execution_count": null,
   "metadata": {},
   "outputs": [],
   "source": [
    "slogi = same_amount_bins(logi)\n",
    "stienda = same_amount_bins(tienda)\n",
    "\n",
    "op = {\"grafica\":\"ds\", \"ventana_ds\":500, \"cmap_ds\":\"Hot\"}\n",
    "\n",
    "%time Ifsoac([slogi[::i] for i in range(1, 5)], op).plot()"
   ]
  },
  {
   "cell_type": "code",
   "execution_count": null,
   "metadata": {},
   "outputs": [],
   "source": [
    "%time Ifsoac([stienda[::i] for i in range(1, 5)], op).plot()"
   ]
  },
  {
   "cell_type": "code",
   "execution_count": null,
   "metadata": {},
   "outputs": [],
   "source": [
    "op1 = {\"grafica\":\"ds\", \"cols_ds\":4, \"ventana_ds\":300, \"cmap_ds\":\"kgy\"}\n",
    "\n",
    "lor = lorentz_array()\n",
    "slor = same_amount_bins(lor)\n",
    "%time Ifsoac([lor[::c] for c in range(1,15)], op1).plot()"
   ]
  },
  {
   "cell_type": "code",
   "execution_count": null,
   "metadata": {},
   "outputs": [],
   "source": [
    "%time Ifsoac([slor[::c] for c in range(1,9)], op1).plot()"
   ]
  },
  {
   "cell_type": "code",
   "execution_count": null,
   "metadata": {},
   "outputs": [],
   "source": [
    "op2 = {\"grafica\":\"ds\", \"cols_ds\":4, \"transform\":antipolar, \"ventana_ds\":300, \"cmap_ds\":\"bmw\"}\n",
    "\n",
    "%time Ifsoac([lor[::c] for c in range(1,15)], op2).plot()"
   ]
  },
  {
   "cell_type": "code",
   "execution_count": null,
   "metadata": {},
   "outputs": [],
   "source": [
    "%time Ifsoac([slor[::c] for c in range(1,15)], op2).plot()"
   ]
  },
  {
   "cell_type": "markdown",
   "metadata": {},
   "source": [
    "# Otras pruebas"
   ]
  },
  {
   "cell_type": "code",
   "execution_count": null,
   "metadata": {},
   "outputs": [],
   "source": [
    "%time Ifsoac(op={\"grafica\":\"ds\", \"transform\":escher, \"nlados\":4, \"p\":.5, \"cmap_ds\":\"bmw\"}).plot()"
   ]
  },
  {
   "cell_type": "code",
   "execution_count": null,
   "metadata": {},
   "outputs": [],
   "source": [
    "op = {\"grafica\":\"ds\", \"transform\":antipolar, \"ventana_ds\":700, \"cols_ds\":4, \"cmap_ds\":\"gray\", \"background_ds\":None}\n",
    "\n",
    "@jit(nopython=True)\n",
    "def logistica(x):\n",
    "    return 4*x*(1-x)\n",
    "\n",
    "@jit(nopython=True)\n",
    "def iterar(funcion=logistica, x0=0.3, N=1000000, N0=1000):\n",
    "    ll = []\n",
    "    for i in range(N0):\n",
    "        y = funcion(x0)\n",
    "        x0 = y\n",
    "        #llogistica.append(y)\n",
    "    # ya se generó una x0 \"caótica\"\n",
    "    for i in range(N):\n",
    "        y = funcion(x0)\n",
    "        x0 = y\n",
    "        ll.append(y)\n",
    "    return ll\n",
    "\n",
    "\n",
    "logi = np.array(iterar(logistica))\n",
    "%time Ifsoac(logi, op).export_images('testing', export_path=\"./carpeta sin título/\")"
   ]
  },
  {
   "cell_type": "code",
   "execution_count": null,
   "metadata": {},
   "outputs": [],
   "source": []
  }
 ],
 "metadata": {
  "colab": {
   "authorship_tag": "ABX9TyPISwrRoSjYzi7/xgx2bi9z",
   "collapsed_sections": [
    "7vUZqsjV5RqW",
    "jH040IiJ9uoN"
   ],
   "mount_file_id": "1NVgSM2CVSearGg8L20ExskxeqkeL79sm",
   "name": "IFS-Lorentz-Rossler-Tent.ipynb",
   "provenance": []
  },
  "kernelspec": {
   "display_name": "Python 3 (ipykernel)",
   "language": "python",
   "name": "python3"
  },
  "language_info": {
   "codemirror_mode": {
    "name": "ipython",
    "version": 3
   },
   "file_extension": ".py",
   "mimetype": "text/x-python",
   "name": "python",
   "nbconvert_exporter": "python",
   "pygments_lexer": "ipython3",
   "version": "3.9.13"
  }
 },
 "nbformat": 4,
 "nbformat_minor": 4
}
