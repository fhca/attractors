{
 "cells": [
  {
   "cell_type": "code",
   "execution_count": null,
   "metadata": {
    "colab": {
     "base_uri": "https://localhost:8080/"
    },
    "executionInfo": {
     "elapsed": 4734,
     "status": "ok",
     "timestamp": 1657899139903,
     "user": {
      "displayName": "Felipe Humberto Contreras Alcala",
      "userId": "00736783643502694397"
     },
     "user_tz": 300
    },
    "id": "-flkkZn_Kjqm",
    "outputId": "45510bc8-32a2-407d-9c07-b5c700f43200"
   },
   "outputs": [],
   "source": [
    "#!pip3 install -U PyYAML datashader"
   ]
  },
  {
   "cell_type": "code",
   "execution_count": null,
   "metadata": {
    "executionInfo": {
     "elapsed": 153,
     "status": "ok",
     "timestamp": 1657899211509,
     "user": {
      "displayName": "Felipe Humberto Contreras Alcala",
      "userId": "00736783643502694397"
     },
     "user_tz": 300
    },
    "id": "pMR0OfMFDZvy"
   },
   "outputs": [],
   "source": [
    "import numpy as np, pandas as pd, datashader as ds\n",
    "from datashader import transfer_functions as tf\n",
    "from datashader.colors import inferno, viridis, Hot\n",
    "from numba import jit"
   ]
  },
  {
   "cell_type": "code",
   "execution_count": null,
   "metadata": {
    "executionInfo": {
     "elapsed": 143,
     "status": "ok",
     "timestamp": 1657899156321,
     "user": {
      "displayName": "Felipe Humberto Contreras Alcala",
      "userId": "00736783643502694397"
     },
     "user_tz": 300
    },
    "id": "wzzjrFJsH1EN"
   },
   "outputs": [],
   "source": [
    "def logistica(r, x0=0.2, nvalores=1000):\n",
    "    evalua = np.frompyfunc(lambda x, _: r*x*(1-x), 2, 1)\n",
    "    orb = np.empty(nvalores)\n",
    "    orb[0] = x0\n",
    "    return evalua.accumulate(orb, dtype=object).astype(float)\n",
    "\n",
    "def feigenbaum(f, minimo=0, maximo=4, nr=5000, n=5000):\n",
    "    ds.transfer_functions.Image.border=0\n",
    "    cv = ds.Canvas(plot_width = 700, plot_height = 700)\n",
    "    erres = np.linspace(minimo, maximo, nr, endpoint=True)\n",
    "    xs = np.repeat(erres, n)\n",
    "    ys = np.concatenate([f(r, x0=f(r)[-1], nvalores=n) for r in erres])\n",
    "    df = pd.DataFrame({'x':xs, 'y':ys})\n",
    "    xs, ys, erres = [None]*3  # desocupa variables temporales\n",
    "    agg = cv.points(df, 'x', 'y')\n",
    "    #tf.shade(agg, cmap=inferno) #, how='log')\n",
    "    return agg\n",
    "\n",
    "#tf.shade(feigenbaum(logistica, 3, 4), cmap=inferno)"
   ]
  },
  {
   "cell_type": "code",
   "execution_count": null,
   "metadata": {},
   "outputs": [],
   "source": [
    "def drive_url(url):  # ej 'https://drive.google.com/file/d/0B6GhBwm5vaB2ekdlZW5WZnppb28/view?usp=sharing'\n",
    "    url='https://drive.google.com/uc?id=' + url.split('/')[-2]\n",
    "    return url"
   ]
  },
  {
   "cell_type": "markdown",
   "metadata": {
    "id": "-QFTQNhblAoS"
   },
   "source": [
    "# Poner la serie como radio en coordenadas polares"
   ]
  },
  {
   "cell_type": "code",
   "execution_count": null,
   "metadata": {
    "colab": {
     "base_uri": "https://localhost:8080/",
     "height": 1000
    },
    "executionInfo": {
     "elapsed": 6469,
     "status": "ok",
     "timestamp": 1657900952861,
     "user": {
      "displayName": "Felipe Humberto Contreras Alcala",
      "userId": "00736783643502694397"
     },
     "user_tz": 300
    },
    "id": "a6K9PICVE5Cb",
    "outputId": "0fa6bf39-3ed6-45fc-9347-5f5a50488761"
   },
   "outputs": [],
   "source": [
    " \n",
    "\n",
    "#@jit(nopython=True)\n",
    "def polar(serie):\n",
    "    N = len(serie)\n",
    "    r = serie\n",
    "    t = np.arange(N)*np.pi/180/100  # avanza centésimas de grado\n",
    "    return pd.DataFrame({'x':r*np.cos(t),'y':r*np.sin(t)})\n",
    "\n",
    "ds.transfer_functions.Image.border=0\n",
    "cv = ds.Canvas(plot_width = 500, plot_height = 500)\n",
    "\n",
    "#serie = np.array(100+np.random.rand(1000000))\n",
    "def plot(*series):\n",
    "    res = []\n",
    "    for serie in series:\n",
    "        agg = cv.points(polar(20+serie), 'x', 'y')\n",
    "        r = tf.shade(agg, cmap=inferno)\n",
    "        r = tf.set_background(r, \"black\")\n",
    "        res.append(r)\n",
    "    return res\n",
    "\n",
    "NN = 5000000\n",
    "#@jit(nopython=True)\n",
    "def lorentz_array(N=NN):\n",
    "    x0=1\n",
    "    y0=1\n",
    "    z0=3\n",
    "    h=0.01\n",
    "    sigma=10.0\n",
    "    beta=8/3.0\n",
    "    ro=28.0\n",
    "    ll=[]\n",
    "    for i in range(N):\n",
    "        x1=h*(sigma*(y0-x0))+x0\n",
    "        y1=h*(x0*(ro-z0)-y0)+y0\n",
    "        z1=h*(x0*y0-beta*z0)+z0\n",
    "        x0=x1\n",
    "        y0=y1\n",
    "        z0=z1\n",
    "        ll.append(x1) #,y1,z1)\n",
    "    return np.array(ll)\n",
    "\n",
    "\n",
    "# series\n",
    "N = 338865\n",
    "logis = logistica(4, nvalores=N)\n",
    "normal = np.random.randn(N)\n",
    "uniforme = np.random.rand(N)\n",
    "eeg = pd.read_csv(drive_url(\"https://drive.google.com/file/d/1yzDQR2bG6X4vM3ZsWVPb01SLgG4X4xDN/view?usp=sharing\"), header=None)[0]\n",
    "lorentz = pd.read_csv(\"./lorenz.dat\", header=None)[0]\n",
    "rossler = pd.read_csv(\"./rossler.dat\", header=None)[0]\n",
    "lorentz2 = lorentz_array()\n",
    "\n",
    "# pinta\n",
    "tf.Images(*plot(logis,normal,uniforme,eeg, lorentz, rossler, lorentz2)).cols(2)\n"
   ]
  },
  {
   "cell_type": "markdown",
   "metadata": {
    "id": "nv9s4O8ioKka"
   },
   "source": [
    "# Crecimiento dendrítico"
   ]
  },
  {
   "cell_type": "code",
   "execution_count": null,
   "metadata": {
    "colab": {
     "base_uri": "https://localhost:8080/",
     "height": 1000
    },
    "executionInfo": {
     "elapsed": 28126,
     "status": "ok",
     "timestamp": 1657899194029,
     "user": {
      "displayName": "Felipe Humberto Contreras Alcala",
      "userId": "00736783643502694397"
     },
     "user_tz": 300
    },
    "id": "IXvGbfwklIdm",
    "outputId": "40be15b3-d24d-438c-d5c2-8a48e4dde209"
   },
   "outputs": [],
   "source": [
    "from random import randint\n",
    "\n",
    "@jit(nopython=True)\n",
    "def dendrita():\n",
    "    N = 300\n",
    "    points = 10000\n",
    "    mundo = [[False for i in range(N)] for j in range(N)]\n",
    "    mundo[N//2][N//2] = True\n",
    "    for _ in range(points):\n",
    "        px, py = randint(0, N-1), randint(0, N-1)\n",
    "        choca = False\n",
    "        while not choca:\n",
    "            dx, dy = randint(-1, 1), randint(-1, 1)\n",
    "            sx, sy = (px + dx) % N, (py + dy) % N\n",
    "            if mundo[sx][sy]:  # si siguiente está ocupado\n",
    "                mundo[px][py] = True\n",
    "                choca = True\n",
    "            else:\n",
    "                px, py = sx, sy\n",
    "    return mundo\n",
    "\n",
    "import matplotlib.pyplot as plt\n",
    "\n",
    "%time den = dendrita()\n",
    "plt.matshow(den)\n",
    "#print(den.sum())\n",
    "plt.show()"
   ]
  },
  {
   "cell_type": "code",
   "execution_count": null,
   "metadata": {
    "colab": {
     "base_uri": "https://localhost:8080/",
     "height": 292
    },
    "executionInfo": {
     "elapsed": 57049,
     "status": "ok",
     "timestamp": 1657898156430,
     "user": {
      "displayName": "Felipe Humberto Contreras Alcala",
      "userId": "00736783643502694397"
     },
     "user_tz": 300
    },
    "id": "qxd70iNYqiKM",
    "outputId": "58af7dd5-ca32-46d1-beca-f33b9ce85d27"
   },
   "outputs": [],
   "source": [
    "\n",
    "#@jit(nopython=False)\n",
    "def dendrita():\n",
    "    N = 300\n",
    "    points = 10000\n",
    "    mundo = np.zeros((N,N), dtype=bool)\n",
    "    mundo[N//2, N//2] = True\n",
    "    px, py = np.random.randint(0, N, (2, points))\n",
    "\n",
    "    vivo = np.ones(points, dtype=bool)\n",
    "    while np.any(vivo):\n",
    "        dx, dy = np.random.randint(-1, 2, (2, points)) # -1, 0, 1\n",
    "        sx, sy = (px + dx) % N, (py + dy) % N\n",
    "        proximos_a_chocar = mundo[px, py] < mundo[sx, sy]\n",
    "        mundo[px[vivo], py[vivo]] = mundo[sx[vivo], sy[vivo]]\n",
    "        vivo[proximos_a_chocar] = False\n",
    "        px[vivo], py[vivo] = sx[vivo], sy[vivo]\n",
    "    return mundo\n",
    "\n",
    "import matplotlib.pyplot as plt\n",
    "\n",
    "den = dendrita()\n",
    "plt.matshow(den)\n",
    "print(den.sum())\n",
    "plt.show()"
   ]
  },
  {
   "cell_type": "code",
   "execution_count": null,
   "metadata": {
    "colab": {
     "base_uri": "https://localhost:8080/",
     "height": 71
    },
    "executionInfo": {
     "elapsed": 143,
     "status": "ok",
     "timestamp": 1657899267995,
     "user": {
      "displayName": "Felipe Humberto Contreras Alcala",
      "userId": "00736783643502694397"
     },
     "user_tz": 300
    },
    "id": "486m-YC7rtiT",
    "outputId": "b4845b74-2fdd-448d-8861-13f59a0aa049"
   },
   "outputs": [],
   "source": [
    "\n",
    "N=300\n",
    "xy = np.argwhere(den)\n",
    "df = pd.DataFrame(xy, columns=list(\"xy\"))\n",
    "\n",
    "ds.transfer_functions.Image.border=0\n",
    "cv = ds.Canvas(plot_width = 50, plot_height =50)\n",
    "agg = cv.points(df, 'x', 'y')\n",
    "tf.shade(agg, cmap=inferno)"
   ]
  },
  {
   "cell_type": "code",
   "execution_count": null,
   "metadata": {
    "colab": {
     "base_uri": "https://localhost:8080/"
    },
    "executionInfo": {
     "elapsed": 6,
     "status": "ok",
     "timestamp": 1657899123591,
     "user": {
      "displayName": "Felipe Humberto Contreras Alcala",
      "userId": "00736783643502694397"
     },
     "user_tz": 300
    },
    "id": "TXr6KLcmtACN",
    "outputId": "1f28b78b-07b3-47e0-879c-6697ffc0f903"
   },
   "outputs": [],
   "source": [
    "cv"
   ]
  },
  {
   "cell_type": "code",
   "execution_count": null,
   "metadata": {
    "id": "aMx58M_9c8vA"
   },
   "outputs": [],
   "source": []
  }
 ],
 "metadata": {
  "colab": {
   "authorship_tag": "ABX9TyNtfFLHfxu1WpX4Psal3Yu0",
   "collapsed_sections": [
    "-QFTQNhblAoS"
   ],
   "mount_file_id": "10IaWdcWGoZH6ItBju-2YpQuR2KVlLt_d",
   "name": "mas pruebas datashader.ipynb",
   "provenance": [
    {
     "file_id": "1asDBemyUik3lxCO29reeNcoA-EeYZNrr",
     "timestamp": 1657504202516
    }
   ]
  },
  "kernelspec": {
   "display_name": "Python 3 (ipykernel)",
   "language": "python",
   "name": "python3"
  },
  "language_info": {
   "codemirror_mode": {
    "name": "ipython",
    "version": 3
   },
   "file_extension": ".py",
   "mimetype": "text/x-python",
   "name": "python",
   "nbconvert_exporter": "python",
   "pygments_lexer": "ipython3",
   "version": "3.9.13"
  }
 },
 "nbformat": 4,
 "nbformat_minor": 4
}
