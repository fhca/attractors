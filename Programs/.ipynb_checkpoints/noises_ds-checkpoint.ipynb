{
 "cells": [
  {
   "cell_type": "code",
   "execution_count": null,
   "id": "a198e3dd-517f-4b82-94e0-7a20616e96ca",
   "metadata": {},
   "outputs": [],
   "source": [
    "from ifsoac_2 import *"
   ]
  },
  {
   "cell_type": "code",
   "execution_count": null,
   "id": "d83b73da-38f9-4b12-ab2e-b19a27290974",
   "metadata": {},
   "outputs": [],
   "source": [
    "import matplotlib.pyplot as plt"
   ]
  },
  {
   "cell_type": "code",
   "execution_count": null,
   "id": "a593f6c4-90c6-4655-acee-4debf0cff510",
   "metadata": {},
   "outputs": [],
   "source": [
    "purple = np.loadtxt(\"../data/noise-2.csv\")\n",
    "blue = np.loadtxt(\"../data/noise-1.csv\")\n",
    "white = np.loadtxt(\"../data/noise0.csv\")\n",
    "pink = np.loadtxt(\"../data/noise1.csv\")\n",
    "brown = np.loadtxt(\"../data/noise2.csv\")"
   ]
  },
  {
   "cell_type": "code",
   "execution_count": null,
   "id": "d7426950-eb8d-4afe-be56-ecbfed0012fd",
   "metadata": {},
   "outputs": [],
   "source": [
    "#%time Ifsoac([brown, pink, white, blue, purple], {\"ventana_ds\":1200, \"cmap_ds\":\"CET_C1\", \"cols_ds\":4}).export_images(filename_prefix=\"noises\")\n",
    "\n",
    "%time Ifsoac([brown, pink, white, blue, purple], {\"ventana_ds\":1200, \"cmap_ds\":\"CET_C1\", \"cols_ds\":4}).plot()"
   ]
  },
  {
   "cell_type": "code",
   "execution_count": null,
   "id": "70d6e967-e5c5-4085-adb8-89d18ed0a1e3",
   "metadata": {},
   "outputs": [],
   "source": [
    "op = {\"ventana_ds\":1200, \"cmap_ds\":\"CET_C1\", \"cols_ds\":4, \"p\":.1}\n",
    "\n",
    "%time Ifsoac([white[::i] for i in range(1, 15, 1)], op).plot()"
   ]
  },
  {
   "cell_type": "code",
   "execution_count": null,
   "id": "4f1c4d2e-512d-44cd-be27-82d0ddbe54ba",
   "metadata": {},
   "outputs": [],
   "source": [
    "def plot_spectrum(s):\n",
    "    import matplotlib.pyplot as plt\n",
    "    f = np.fft.rfftfreq(len(s))\n",
    "    return plt.loglog(f, np.abs(np.fft.rfft(s)))[0]"
   ]
  },
  {
   "cell_type": "code",
   "execution_count": null,
   "id": "078a5888-41c1-4a98-b5a7-d6245b17c155",
   "metadata": {},
   "outputs": [],
   "source": [
    "plot_spectrum(pink)"
   ]
  },
  {
   "cell_type": "code",
   "execution_count": null,
   "id": "2c223e4b-15f2-44f4-ab10-d89ecb21499b",
   "metadata": {},
   "outputs": [],
   "source": []
  }
 ],
 "metadata": {
  "kernelspec": {
   "display_name": "Python 3 (ipykernel)",
   "language": "python",
   "name": "python3"
  },
  "language_info": {
   "codemirror_mode": {
    "name": "ipython",
    "version": 3
   },
   "file_extension": ".py",
   "mimetype": "text/x-python",
   "name": "python",
   "nbconvert_exporter": "python",
   "pygments_lexer": "ipython3",
   "version": "3.9.13"
  }
 },
 "nbformat": 4,
 "nbformat_minor": 5
}
