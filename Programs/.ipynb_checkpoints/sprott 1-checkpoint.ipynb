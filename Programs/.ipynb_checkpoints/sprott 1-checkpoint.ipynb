{
 "cells": [
  {
   "cell_type": "code",
   "execution_count": null,
   "id": "83205f2e-a589-4fcb-a0a6-d218dfde9c25",
   "metadata": {},
   "outputs": [],
   "source": [
    "from numba import jit\n",
    "import numpy as np, pandas as pd, datashader as ds\n",
    "from datashader import transfer_functions as tf\n",
    "from datashader.colors import inferno, viridis, Hot\n",
    "from datashader.utils import export_image\n",
    "from colorcet import palette\n",
    "palette[\"viridis\"]=viridis\n",
    "palette[\"inferno\"]=inferno\n",
    "palette[\"Hot\"]=Hot\n"
   ]
  },
  {
   "cell_type": "code",
   "execution_count": null,
   "id": "12b9af19-37d7-449c-97ce-6d8a20bb5490",
   "metadata": {},
   "outputs": [],
   "source": [
    "@jit(nopython=True)\n",
    "def prog06(cadena, npoints):\n",
    "    def tr(i): return (i-32)*9.5/95-4.5\n",
    "    a = []\n",
    "    for c in cadena[1:]:\n",
    "        a.append(tr(ord(c)))\n",
    "    x = .1\n",
    "    y = .05\n",
    "    \n",
    "    xs = []\n",
    "    ys = []\n",
    "    for i in range(npoints):\n",
    "        xn = a[0] + x * (a[1] + a[2] * x + a[3] * y) + y * (a[4] + a[5] * y)\n",
    "        yn = a[6] + x * (a[7] + a[8] * x + a[9] * y) + y * (a[10] + a[11] * y)\n",
    "        xs.append(xn)\n",
    "        ys.append(yn)\n",
    "        x,y = xn, yn\n",
    "    return xs, ys"
   ]
  },
  {
   "cell_type": "code",
   "execution_count": null,
   "id": "55c18b5f-0b03-4937-a4c0-14c4b3ef2cb7",
   "metadata": {},
   "outputs": [],
   "source": [
    "def plot(cadenas, prog=prog06, npoints=10000000, columns=1):\n",
    "    cv = ds.Canvas(plot_width = 700, plot_height = 700)\n",
    "\n",
    "    rs = []\n",
    "    for cadena in cadenas:\n",
    "        xs, ys = prog(cadena, npoints)\n",
    "        df = pd.DataFrame({'x':xs,'y':ys})\n",
    "        agg = cv.points(df, 'x', 'y')\n",
    "        r = tf.shade(agg, cmap=palette[\"Hot\"])\n",
    "        r = tf.set_background(r, 'black')\n",
    "        rs.append(r)\n",
    "    return tf.Images(*rs).cols(columns)"
   ]
  },
  {
   "cell_type": "code",
   "execution_count": null,
   "id": "d6eed682-b8cf-4122-8666-7096d0dd0787",
   "metadata": {},
   "outputs": [],
   "source": [
    "chapter3 = [\"EAGHNFODVNJCP\", \"EBCQAFMFVPXKQ\", \"EDSYUECINGQNV\", \"EELXAPXMPQOBT\", \"EEYYMKTUMXUVC\",\n",
    "            \"EJTTSMBOGLLQF\", \"ENNMJRCTVVTYG\", \"EOUGFJKDHSAJU\", \"EQKOCSIDVTPGY\", \"EQLOIARXYGHAJ\",\n",
    "            \"ETJUBWEDNRORR\", \"ETSILUNDQSIFA\", \"EUEBJLCDISIIQ\", \"EVDUOTLRBKTJD\", \"EWLKWPSMOGIGS\",\n",
    "            \"EZPMSGCNFRENG\",\n",
    "           ]\n",
    "plot(chapter3)"
   ]
  },
  {
   "cell_type": "code",
   "execution_count": null,
   "id": "c0527dc0-ba04-4ee1-925c-5a7bb80417c2",
   "metadata": {},
   "outputs": [],
   "source": []
  }
 ],
 "metadata": {
  "kernelspec": {
   "display_name": "Python 3 (ipykernel)",
   "language": "python",
   "name": "python3"
  },
  "language_info": {
   "codemirror_mode": {
    "name": "ipython",
    "version": 3
   },
   "file_extension": ".py",
   "mimetype": "text/x-python",
   "name": "python",
   "nbconvert_exporter": "python",
   "pygments_lexer": "ipython3",
   "version": "3.9.13"
  }
 },
 "nbformat": 4,
 "nbformat_minor": 5
}
