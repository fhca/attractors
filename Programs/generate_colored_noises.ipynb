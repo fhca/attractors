{
 "cells": [
  {
   "cell_type": "code",
   "execution_count": null,
   "id": "ecbc28c6-9eed-4ac2-b36e-98e29df90581",
   "metadata": {},
   "outputs": [],
   "source": [
    "!pip install colorednoise"
   ]
  },
  {
   "cell_type": "code",
   "execution_count": null,
   "id": "c1b2ee64-cced-4758-8606-a62f82a5a6c1",
   "metadata": {},
   "outputs": [],
   "source": [
    "# Shamelessly adapted from Bob's (user:12750353) answer at stackoverflow.com\n",
    "# https://stackoverflow.com/questions/67085963/generate-colors-of-noise-in-python\n",
    "\n",
    "from colorednoise import powerlaw_psd_gaussian\n",
    "import numpy as np\n",
    "import matplotlib.pyplot as plt\n",
    "\n",
    "\n",
    "def create_noises(a, b, NPOINTS=100000):\n",
    "    for d in range(a, b, 1):\n",
    "        p = powerlaw_psd_gaussian(d, NPOINTS)\n",
    "        np.savetxt(f\"../data/noise{d}.csv\", p)\n",
    "\n",
    "create_noises(-2, 3)\n",
    "\n",
    "def plot_spectrum(s):\n",
    "    f = np.fft.rfftfreq(len(s))\n",
    "    return plt.loglog(f, np.abs(np.fft.rfft(s)))[0]\n",
    "\n",
    "\n",
    "purple = np.loadtxt(\"../data/noise-2.csv\")\n",
    "blue = np.loadtxt(\"../data/noise-1.csv\")\n",
    "white = np.loadtxt(\"../data/noise0.csv\")\n",
    "pink = np.loadtxt(\"../data/noise1.csv\")\n",
    "brown = np.loadtxt(\"../data/noise2.csv\")\n",
    "plt.style.use('dark_background')\n",
    "plt.figure(figsize=(12, 8), tight_layout=True)\n",
    "plot_spectrum(brown).set(color=\"brown\", linewidth=.3)\n",
    "plot_spectrum(pink).set(color=\"pink\", alpha=.9, linewidth=.3)\n",
    "plot_spectrum(white).set(color=\"white\", alpha=.9, linewidth=.3)\n",
    "plot_spectrum(blue).set(color=\"blue\", alpha=.9, linewidth=.3)\n",
    "plot_spectrum(purple).set(color=\"purple\", alpha=.9, linewidth=.3)\n",
    "#plot_spectrum(np.random.rand(10000000)).set(color=\"green\", alpha=.9, linewidth=.3)\n",
    "#plot_spectrum(np.random.randn(10000000)).set(color=\"yellow\", alpha=.9, linewidth=.3)\n",
    "plt.legend(['brown', 'pink', 'white', 'blue', 'purple'])\n",
    "plt.ylim([1e-3, None])\n",
    "plt.rcParams['agg.path.chunksize'] = 500\n",
    "plt.savefig(fname=\"spectra.png\", dpi=1200, format=\"png\")\n",
    "# plt.show()"
   ]
  },
  {
   "cell_type": "code",
   "execution_count": null,
   "id": "9fd13554-aad6-4544-bf66-adfd979d8f95",
   "metadata": {},
   "outputs": [],
   "source": []
  }
 ],
 "metadata": {
  "kernelspec": {
   "display_name": "Python 3 (ipykernel)",
   "language": "python",
   "name": "python3"
  },
  "language_info": {
   "codemirror_mode": {
    "name": "ipython",
    "version": 3
   },
   "file_extension": ".py",
   "mimetype": "text/x-python",
   "name": "python",
   "nbconvert_exporter": "python",
   "pygments_lexer": "ipython3",
   "version": "3.9.13"
  }
 },
 "nbformat": 4,
 "nbformat_minor": 5
}
