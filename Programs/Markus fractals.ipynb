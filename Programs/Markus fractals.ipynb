{
 "cells": [
  {
   "cell_type": "code",
   "execution_count": null,
   "id": "ec99fde7-1c5c-49c0-ad57-a854f593e975",
   "metadata": {},
   "outputs": [],
   "source": [
    "import numpy as np\n",
    "import matplotlib.pyplot as plt\n",
    "from numba import jit "
   ]
  },
  {
   "cell_type": "code",
   "execution_count": null,
   "id": "d7ef2e18-b81f-41f0-94a7-78e59da68239",
   "metadata": {},
   "outputs": [],
   "source": [
    "@jit(nopython=True)\n",
    "def lyapunov(x=0.5, r=4.0):\n",
    "    for i in range(10000): x = r * x * (1 - x)\n",
    "    NLYAP = 100000\n",
    "    total = 0\n",
    "    for _ in range(NLYAP):\n",
    "        x = r * x * (1 - x)\n",
    "        total += np.log2(np.abs(r - 2 * r * x))\n",
    "    return total / NLYAP"
   ]
  },
  {
   "cell_type": "code",
   "execution_count": null,
   "id": "0718be48-8730-46ba-af65-1c226edb5b39",
   "metadata": {},
   "outputs": [],
   "source": [
    "x = np.linspace(3.5699,3.57,1000)\n",
    "plt.plot(x, np.zeros_like(x))\n",
    "plt.plot(x, [lyapunov(r=r) for r in x], 'r', linewidth=.5)\n",
    "plt.show()"
   ]
  },
  {
   "cell_type": "code",
   "execution_count": null,
   "id": "cf0909eb-7fbe-4755-80aa-695270b21834",
   "metadata": {},
   "outputs": [],
   "source": [
    "#import string\n",
    "#from datashader import transfer_functions as tf\n",
    "#from datashader.colors import inferno, viridis, Hot\n",
    "#import datashader as ds\n",
    "import pandas as pd\n",
    "import matplotlib.pyplot as plt\n",
    "\n",
    "\n",
    "@jit(nopython=True)\n",
    "def lf(s, NPOINTS, h_range, v_range, param):\n",
    "    TRANSIENT=100\n",
    "    Sp=np.array([0 if x=='A' else 1 for x in s]*(NPOINTS // len(s) + TRANSIENT + 1))\n",
    "    h_points = np.arange(*h_range, (h_range[1] - h_range[0]) / NPOINTS)\n",
    "    v_points = np.arange(*v_range, (v_range[1] - v_range[0]) / NPOINTS)\n",
    "    a = np.array([[[p for p in h_points] for _ in range(NPOINTS)],\n",
    "         [[p for _ in range(NPOINTS)] for p in v_points]])\n",
    "    color = np.zeros_like(a[0])\n",
    "    x = np.ones_like(color) * 0.5\n",
    "    # transient step\n",
    "    for S in Sp[:TRANSIENT]:\n",
    "        r = a[S]\n",
    "        x = r * x * (1 - x)\n",
    "    # now proceed to the fractal\n",
    "    for S in Sp[TRANSIENT:]:\n",
    "        r = a[S]\n",
    "        x = r * x * (1 - x)\n",
    "        yy = np.abs(r - 2 * r * x)\n",
    "        color += np.log2(np.where(yy > 0, yy, 1e-10))\n",
    "    #color /= len(Sp)\n",
    "    return color\n",
    "  \n",
    "#@jit#(nopython=True)\n",
    "def lyaf(s, lf=lf, **op):\n",
    "    #letters = \"AB\"\n",
    "    #dletters = dict([(x, letters.index(x)) for x in letters])\n",
    "    #S = [dletters[x] for x in s for j in range(iter // len(s) + 1)]\n",
    "    op_default = {\"cmap\":'flag', \"NPOINTS\":1200, \"h_range\":(2,4), \"v_range\":(2,4), \"param\":None}\n",
    "    if op is None:\n",
    "        op = op_default.copy()\n",
    "    else:\n",
    "        opd = op_default.copy()\n",
    "        opd.update(op)\n",
    "        op = opd\n",
    "    \n",
    "    h = op[\"h_range\"]\n",
    "    v = op[\"v_range\"]\n",
    "    color = lf(s, NPOINTS=op[\"NPOINTS\"], h_range=h, v_range=v, param=op[\"param\"])\n",
    "    plt.figure(figsize=(11*(h[1]-h[0])/(v[1]-v[0]), 11))\n",
    "    img = plt.imshow(color, origin='lower', aspect='auto')\n",
    "    img.set_cmap(op[\"cmap\"])\n",
    "    plt.axis('off')\n",
    "    #plt.savefig(\"test.png\", bbox_inches='tight')\n",
    "    plt.show()\n",
    "    \n"
   ]
  },
  {
   "cell_type": "code",
   "execution_count": null,
   "id": "1dc1b118-b94f-4703-b97f-b6126b7a6ac8",
   "metadata": {},
   "outputs": [],
   "source": [
    "%time lyaf(\"AABAB\", h_range=(3,4), v_range=(3,3.5))"
   ]
  },
  {
   "cell_type": "code",
   "execution_count": null,
   "id": "3eb49368-b97d-49f1-a2e0-e164e730d3ba",
   "metadata": {},
   "outputs": [],
   "source": [
    "%time lyaf(\"BA\")"
   ]
  },
  {
   "cell_type": "code",
   "execution_count": null,
   "id": "1fba4ed6-1211-45af-8162-dcafbdef8d25",
   "metadata": {},
   "outputs": [],
   "source": [
    "%time lyaf(\"AB\")"
   ]
  },
  {
   "cell_type": "code",
   "execution_count": null,
   "id": "11837830-95d7-402a-a038-5f9d3d2bf3be",
   "metadata": {},
   "outputs": [],
   "source": [
    "%time lyaf(\"AABB\", h_range=(0,4), v_range=(0,4))"
   ]
  },
  {
   "cell_type": "code",
   "execution_count": null,
   "id": "71bf51fe-d4e9-4b6d-9107-989d616dad76",
   "metadata": {},
   "outputs": [],
   "source": [
    "import pandas as pd\n",
    "import matplotlib.pyplot as plt\n",
    "\n",
    "    \n",
    "@jit(nopython=True)\n",
    "def lf2(s, NPOINTS, h_range, v_range, param):\n",
    "    TRANSIENT=600\n",
    "    Sp=np.array([0 if x=='A' else 1 for x in s]*(NPOINTS // len(s) + TRANSIENT + 1))\n",
    "    h_points = np.arange(*h_range, (h_range[1] - h_range[0]) / NPOINTS)\n",
    "    v_points = np.arange(*v_range, (v_range[1] - v_range[0]) / NPOINTS)\n",
    "    a = np.array([[[p for p in h_points] for _ in range(NPOINTS)],\n",
    "         [[p for _ in range(NPOINTS)] for p in v_points]])\n",
    "    color = np.zeros_like(a[0])\n",
    "    x = np.ones_like(color) * 0.5\n",
    "    b = param[0]\n",
    "    for S in Sp[:TRANSIENT]:\n",
    "        r = a[S]\n",
    "        x = b * np.sin(x + r) ** 2\n",
    "    for S in Sp[TRANSIENT:]:\n",
    "        r = a[S]\n",
    "        x = b * np.sin(x + r) ** 2\n",
    "        yy = np.abs(2 * b * np.sin(x + r)* np.cos(x + r))\n",
    "        color += np.log2(np.where(yy > 0, yy, 1e-10))\n",
    "    #color /= len(Sp)\n",
    "    return color"
   ]
  },
  {
   "cell_type": "code",
   "execution_count": null,
   "id": "b66c2530-4ccb-4150-af02-fa566380c86e",
   "metadata": {},
   "outputs": [],
   "source": [
    "%time lyaf(\"AB\", lf=lf2, h_range=(0,10), v_range=(0,10), param=(1,))"
   ]
  },
  {
   "cell_type": "code",
   "execution_count": null,
   "id": "55f0afaf-234d-44a8-9824-37cc84733097",
   "metadata": {},
   "outputs": [],
   "source": [
    "%time lyaf(\"AB\", lf=lf2, h_range=(0,10), v_range=(0,10), param=(1.4,))"
   ]
  },
  {
   "cell_type": "code",
   "execution_count": null,
   "id": "e946d9a6-02ba-40eb-b60d-4b17d468a53a",
   "metadata": {},
   "outputs": [],
   "source": [
    "%time lyaf(\"AB\", lf2, h_range=(0,10), v_range=(0,10), param=(1.8,))"
   ]
  },
  {
   "cell_type": "code",
   "execution_count": null,
   "id": "0edb500a-e643-4158-862e-5a72f666a0f6",
   "metadata": {},
   "outputs": [],
   "source": [
    "%time lyaf(\"AB\", lf2, h_range=(0,10), v_range=(0,10), param=(2.1,))"
   ]
  },
  {
   "cell_type": "code",
   "execution_count": null,
   "id": "fa17d9a4-87cd-444d-9fb4-679541a4a32f",
   "metadata": {},
   "outputs": [],
   "source": [
    "%time lyaf(\"AB\", lf2, h_range=(0,10), v_range=(0,10), param=(2.5,))"
   ]
  },
  {
   "cell_type": "code",
   "execution_count": null,
   "id": "6ef2ec0d-2042-4877-9d17-b6db0a043462",
   "metadata": {},
   "outputs": [],
   "source": [
    "%time lyaf(\"AB\", lf2, h_range=(0,10), v_range=(0,10), param=(2.5,), cmap='prism')"
   ]
  },
  {
   "cell_type": "code",
   "execution_count": null,
   "id": "588f00d8-81cb-487e-aa54-7f65850c21a3",
   "metadata": {},
   "outputs": [],
   "source": [
    "%time lyaf(\"AB\", lf2, h_range=(0.5,2), v_range=(0.5,2), param=(2.5,), NPOINTS=1000, cmap='prism')"
   ]
  },
  {
   "cell_type": "code",
   "execution_count": null,
   "id": "bd6bd242-5a75-4e64-b9c6-83f33dcd6ec9",
   "metadata": {},
   "outputs": [],
   "source": [
    "%time lyaf(\"AB\", lf2, h_range=(0,1), v_range=(0,1), param=(2.5,))"
   ]
  },
  {
   "cell_type": "code",
   "execution_count": null,
   "id": "dd1aa17d-399b-4692-9639-88434c6de8e5",
   "metadata": {},
   "outputs": [],
   "source": [
    "%time lyaf(\"AB\", lf2, h_range=(0,1), v_range=(0,1), param=(1.95,))"
   ]
  },
  {
   "cell_type": "code",
   "execution_count": null,
   "id": "e6606366-96ef-44c4-8d96-28dd9cd8ff6f",
   "metadata": {},
   "outputs": [],
   "source": [
    "%time lyaf(\"BBABABA\", cmap=\"magma_r\", h_range=(2.759, 3.744), v_range=(3.21,4))"
   ]
  },
  {
   "cell_type": "code",
   "execution_count": null,
   "id": "068b7f82-f59f-4b9d-b714-c2415e87b8d9",
   "metadata": {},
   "outputs": [],
   "source": [
    "%time lyaf(\"BBABABA\", cmap=\"twilight\", h_range=(2.759, 3.744), v_range=(3.21,4))"
   ]
  },
  {
   "cell_type": "code",
   "execution_count": null,
   "id": "998f76dc-6fc1-4552-8318-3ae1bef29e53",
   "metadata": {},
   "outputs": [],
   "source": [
    "%time lyaf(\"BBBBBBAAAAAA\", cmap=\"twilight\", h_range=(2.52, 3.65), v_range=(3.46,4))"
   ]
  },
  {
   "cell_type": "code",
   "execution_count": null,
   "id": "343b2b6a-0ef4-4be9-9844-d6c7858c671b",
   "metadata": {},
   "outputs": [],
   "source": [
    "%time lyaf(\"BBBBBBAAAAAA\", cmap=\"hsv\", h_range=(2.52, 3.65), v_range=(3.46,4), NPOINTS=1000)"
   ]
  },
  {
   "cell_type": "code",
   "execution_count": null,
   "id": "0fe734b9-6b8b-4c34-8cc2-51fbe15e5471",
   "metadata": {},
   "outputs": [],
   "source": [
    "@jit(nopython=True)\n",
    "def lf3(s, NPOINTS, h_range, v_range, param):\n",
    "    TRANSIENT=600\n",
    "    Sp=np.array([0 if x=='A' else 1 for x in s]*(NPOINTS // len(s) + TRANSIENT + 1))\n",
    "    h_points = np.arange(*h_range, (h_range[1] - h_range[0]) / NPOINTS)\n",
    "    v_points = np.arange(*v_range, (v_range[1] - v_range[0]) / NPOINTS)\n",
    "    a = np.array([[[p for p in h_points] for _ in range(NPOINTS)],\n",
    "         [[p for _ in range(NPOINTS)] for p in v_points]])\n",
    "    color = np.zeros_like(a[0])\n",
    "    x = np.ones_like(color) * 0.5\n",
    "    for S in Sp[:TRANSIENT]:\n",
    "        r = a[S]\n",
    "        x = r * np.cos(x)\n",
    "    for S in Sp[TRANSIENT:]:\n",
    "        r = a[S]\n",
    "        x = r * np.cos(x)\n",
    "        yy = np.abs(- r * np.sin(x))\n",
    "        color += np.log2(np.where(yy > 0, yy, 1e-10))\n",
    "    #color /= len(Sp)\n",
    "    return color"
   ]
  },
  {
   "cell_type": "code",
   "execution_count": null,
   "id": "fa810618-24fe-4386-893d-44b152a62a8e",
   "metadata": {},
   "outputs": [],
   "source": [
    "%time lyaf(\"AB\", lf3,  cmap=\"flag\", h_range=(0, 10), v_range=(0,10), param=(.1,), NPOINTS=1000)"
   ]
  },
  {
   "cell_type": "code",
   "execution_count": null,
   "id": "52ef765c-f0d8-465a-8b63-523bcededd30",
   "metadata": {},
   "outputs": [],
   "source": []
  }
 ],
 "metadata": {
  "kernelspec": {
   "display_name": "Python 3 (ipykernel)",
   "language": "python",
   "name": "python3"
  },
  "language_info": {
   "codemirror_mode": {
    "name": "ipython",
    "version": 3
   },
   "file_extension": ".py",
   "mimetype": "text/x-python",
   "name": "python",
   "nbconvert_exporter": "python",
   "pygments_lexer": "ipython3",
   "version": "3.9.13"
  }
 },
 "nbformat": 4,
 "nbformat_minor": 5
}
