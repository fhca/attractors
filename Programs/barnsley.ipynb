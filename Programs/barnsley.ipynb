{
 "cells": [
  {
   "cell_type": "code",
   "execution_count": null,
   "id": "5f833aa9-73ab-4418-b517-a080b72cfde9",
   "metadata": {},
   "outputs": [],
   "source": [
    "# Éste es el código del helecho de Barnsley escrito en Python\n",
    "import matplotlib.pyplot as plt\n",
    "import random\n",
    "\n",
    "#plt.style.use(\"presentation\")\n",
    "N=10000000\n",
    "x=[ 0 for i in range(N) ]\n",
    "y=N*[0]\n",
    "for i in range(N-1):\n",
    "    z=random.random()\n",
    "    if z<0.01:\n",
    "        y[i+1]=0.16*y[i]\n",
    "    elif z<0.86:\n",
    "        x[i+1]=0.85*x[i]+0.04*y[i]\n",
    "        y[i+1]=-0.04*x[i]+0.85*y[i]+1.6\n",
    "    elif z<0.93:\n",
    "        x[i+1]=0.2*x[i]-0.26*y[i]\n",
    "        y[i+1]=0.23*x[i]+0.22*y[i]+1.6\n",
    "    else:\n",
    "        x[i+1]=-0.15*x[i]+0.28*y[i]\n",
    "        y[i+1]=0.26*x[i]+0.24*y[i]+0.44\n",
    "plt.figure()\n",
    "plt.scatter(x, y, s=0.1, color=\"green\")"
   ]
  },
  {
   "cell_type": "code",
   "execution_count": null,
   "id": "c3655c1c-f09a-4b42-a4a0-2701161604ff",
   "metadata": {},
   "outputs": [],
   "source": [
    "# Éste es el código del helecho de Barnsley escrito en Python\n",
    "import matplotlib. pyplot as plt\n",
    "import random\n",
    "\n",
    "def helecho():\n",
    "    N=10000000\n",
    "    x=[ 0 for i in range(N) ]\n",
    "    y=N*[0]\n",
    "    for i in range(N-1):\n",
    "        z=random.random()\n",
    "        if z<0.01:\n",
    "            y[i+1]=0.16*y[i]\n",
    "        elif z<0.86:\n",
    "            x[i+1]=0.85*x[i]+0.04*y[i]\n",
    "            y[i+1]=-0.04*x[i]+0.85*y[i]+1.6\n",
    "        elif z<0.93:\n",
    "            x[i+1]=0.2*x[i]-0.26*y[i]\n",
    "            y[i+1]=0.23*x[i]+0.22*y[i]+1.6\n",
    "        else:\n",
    "            x[i+1]=-0.15*x[i]+0.28*y[i]\n",
    "            y[i+1]=0.26*x[i]+0.24*y[i]+0.44\n",
    "    plt.figure()\n",
    "    plt.scatter(x, y, s=0.1, color=\"green\")\n",
    "\n",
    "%time helecho()"
   ]
  },
  {
   "cell_type": "code",
   "execution_count": null,
   "id": "1e69ed20-2baa-4faf-9272-7cd8aeab8b24",
   "metadata": {},
   "outputs": [],
   "source": [
    "# Éste es el código del helecho de Barnsley escrito en Python\n",
    "import matplotlib.pyplot as plt\n",
    "import random\n",
    "from numba import jit\n",
    "\n",
    "@jit(nopython=True)\n",
    "def helecho():\n",
    "    N=10000000\n",
    "    x=[ 0. for i in range(N) ]\n",
    "    y=[ 0. for i in range(N) ]\n",
    "    for i in range(N-1):\n",
    "        z=random.random()\n",
    "        if z<0.01:\n",
    "            y[i+1]=0.16*y[i]\n",
    "        elif z<0.86:\n",
    "            x[i+1]=0.85*x[i]+0.04*y[i]\n",
    "            y[i+1]=-0.04*x[i]+0.85*y[i]+1.6\n",
    "        elif z<0.93:\n",
    "            x[i+1]=0.2*x[i]-0.26*y[i]\n",
    "            y[i+1]=0.23*x[i]+0.22*y[i]+1.6\n",
    "        else:\n",
    "            x[i+1]=-0.15*x[i]+0.28*y[i]\n",
    "            y[i+1]=0.26*x[i]+0.24*y[i]+0.44\n",
    "    return x, y\n",
    "plt.figure()\n",
    "%time x,y = helecho()\n",
    "%time plt.scatter(x, y, s=0.1, color=\"green\")"
   ]
  },
  {
   "cell_type": "code",
   "execution_count": null,
   "id": "a6811eb4-8979-4e4a-9b18-4bb8ddc93d91",
   "metadata": {},
   "outputs": [],
   "source": [
    "# Éste es el código del helecho de Barnsley escrito en Python\n",
    "import matplotlib.pyplot as plt\n",
    "import random\n",
    "from numba import jit\n",
    "\n",
    "@jit(nopython=True)\n",
    "def helecho():\n",
    "    N=10000000\n",
    "    x=[ 0. for i in range(N) ]\n",
    "    y=[ 0. for i in range(N) ]\n",
    "    for i in range(N-1):\n",
    "        z=random.random()\n",
    "        if z<0.01:\n",
    "            y[i+1]=0.16*y[i]\n",
    "        elif z<0.86:\n",
    "            x[i+1]=0.85*x[i]+0.04*y[i]\n",
    "            y[i+1]=-0.04*x[i]+0.85*y[i]+1.6\n",
    "        elif z<0.93:\n",
    "            x[i+1]=0.2*x[i]-0.26*y[i]\n",
    "            y[i+1]=0.23*x[i]+0.22*y[i]+1.6\n",
    "        else:\n",
    "            x[i+1]=-0.15*x[i]+0.28*y[i]\n",
    "            y[i+1]=0.26*x[i]+0.24*y[i]+0.44\n",
    "    return x, y\n",
    "plt.figure()\n",
    "%time plt.scatter(*helecho(), s=0.1, color=\"green\")"
   ]
  },
  {
   "cell_type": "code",
   "execution_count": null,
   "id": "015fd755-cf9e-4d54-a695-f0ed2c87b289",
   "metadata": {},
   "outputs": [],
   "source": [
    "# Éste es el código del helecho de Barnsley escrito en Python\n",
    "import matplotlib.pyplot as plt\n",
    "from numba import jit\n",
    "import numpy as np\n",
    "\n",
    "@jit(nopython=True)\n",
    "def helecho():\n",
    "    N=10000000\n",
    "    x=np.zeros(N)\n",
    "    y=np.zeros_like(x)\n",
    "    for i in range(N-1):\n",
    "        z=np.random.rand()\n",
    "        if z<0.01:\n",
    "            y[i+1]=0.16*y[i]\n",
    "        elif z<0.86:\n",
    "            x[i+1]=0.85*x[i]+0.04*y[i]\n",
    "            y[i+1]=-0.04*x[i]+0.85*y[i]+1.6\n",
    "        elif z<0.93:\n",
    "            x[i+1]=0.2*x[i]-0.26*y[i]\n",
    "            y[i+1]=0.23*x[i]+0.22*y[i]+1.6\n",
    "        else:\n",
    "            x[i+1]=-0.15*x[i]+0.28*y[i]\n",
    "            y[i+1]=0.26*x[i]+0.24*y[i]+0.44\n",
    "    return x, y\n",
    "plt.figure()\n",
    "%time plt.scatter(*helecho(), s=0.1, color=\"green\")"
   ]
  },
  {
   "cell_type": "code",
   "execution_count": null,
   "id": "24e8c299-13b5-4746-a9e2-859c51528138",
   "metadata": {},
   "outputs": [],
   "source": [
    "27.1/.363"
   ]
  },
  {
   "cell_type": "code",
   "execution_count": null,
   "id": "c324db54-4ed0-4b81-9644-2298985411ae",
   "metadata": {},
   "outputs": [],
   "source": [
    "#!pip install -U PyYAML datashader\n",
    "import numpy as np, pandas as pd, datashader as ds\n",
    "from datashader import transfer_functions as tf\n",
    "from datashader.colors import inferno, viridis, Hot\n",
    "from datashader.utils import export_image\n",
    "from colorcet import palette\n",
    "\n",
    "import matplotlib.pyplot as plt\n",
    "from numba import jit\n",
    "import numpy as np"
   ]
  },
  {
   "cell_type": "code",
   "execution_count": null,
   "id": "b221cc83-e20a-4789-b6e0-11ed1a2c9e65",
   "metadata": {
    "tags": []
   },
   "outputs": [],
   "source": [
    "# Éste es el código del helecho de Barnsley escrito en Python\n",
    "@jit(nopython=True)\n",
    "def helecho():\n",
    "    N=10000000\n",
    "    x=np.zeros(N)\n",
    "    y=np.zeros_like(x)\n",
    "    for i in range(N-1):\n",
    "        z=np.random.rand()\n",
    "        if z<0.01:\n",
    "            y[i+1]=0.16*y[i]\n",
    "        elif z<0.86:\n",
    "            x[i+1]=0.85*x[i]+0.04*y[i]\n",
    "            y[i+1]=-0.04*x[i]+0.85*y[i]+1.6\n",
    "        elif z<0.93:\n",
    "            x[i+1]=0.2*x[i]-0.26*y[i]\n",
    "            y[i+1]=0.23*x[i]+0.22*y[i]+1.6\n",
    "        else:\n",
    "            x[i+1]=-0.15*x[i]+0.28*y[i]\n",
    "            y[i+1]=0.26*x[i]+0.24*y[i]+0.44\n",
    "    return x, y\n",
    "\n",
    "def pinta(paleta):\n",
    "    cols = list('xy')\n",
    "    ds.transfer_functions.Image.border = 0\n",
    "    cv = ds.Canvas(plot_width=700, plot_height=700)\n",
    "    df = pd.DataFrame(np.array(helecho()).T, columns=cols)\n",
    "    agg = cv.points(df, *cols)\n",
    "    r = tf.shade(agg, cmap=palette[paleta])\n",
    "    r = tf.set_background(r, 'black')\n",
    "    return r\n",
    "\n",
    "%time pinta(\"kgy\")"
   ]
  },
  {
   "cell_type": "code",
   "execution_count": null,
   "id": "a6f24705-d104-4179-82b0-e369354e27dc",
   "metadata": {},
   "outputs": [],
   "source": [
    "%time pinta(\"fire\")"
   ]
  },
  {
   "cell_type": "code",
   "execution_count": null,
   "id": "ec3a5a90-d1b1-4315-a0f1-5dee8f4a8811",
   "metadata": {},
   "outputs": [],
   "source": [
    "%time pinta(\"cwr\")"
   ]
  },
  {
   "cell_type": "code",
   "execution_count": null,
   "id": "3b12eb55-2ea9-4b03-a866-a98470cf68db",
   "metadata": {},
   "outputs": [],
   "source": [
    "%time pinta(\"bmw\")"
   ]
  },
  {
   "cell_type": "code",
   "execution_count": null,
   "id": "76d9660a-27a5-49d6-84ca-644a08ee3b40",
   "metadata": {},
   "outputs": [],
   "source": [
    "%time pinta(\"bmw\")"
   ]
  },
  {
   "cell_type": "code",
   "execution_count": null,
   "id": "f2592d4f-6b86-4609-847b-a4d9429408d6",
   "metadata": {},
   "outputs": [],
   "source": [
    "def guarda(imagen, nombre=\"mi_imagen\"):\n",
    "    fmt = \".png\"\n",
    "    export_image(img=imagen, filename=nombre , fmt=fmt, export_path=\"./\")\n",
    "    \n",
    "%time guarda(pinta(\"fire\"), \"fuego\")"
   ]
  },
  {
   "cell_type": "code",
   "execution_count": null,
   "id": "57f7c4bb-fe6a-4a59-8011-6f9153a5319e",
   "metadata": {},
   "outputs": [],
   "source": [
    "#!pip install -U PyYAML datashader\n",
    "import numpy as np, pandas as pd, datashader as ds\n",
    "from datashader import transfer_functions as tf\n",
    "from datashader.colors import inferno, viridis, Hot\n",
    "from datashader.utils import export_image\n",
    "from colorcet import palette\n",
    "\n",
    "import matplotlib.pyplot as plt\n",
    "from numba import jit\n",
    "import numpy as np"
   ]
  },
  {
   "cell_type": "code",
   "execution_count": null,
   "id": "fd08d5cb-a6e9-4930-91d9-79c02ef56ec9",
   "metadata": {},
   "outputs": [],
   "source": [
    "@jit(nopython=True)\n",
    "def fern():\n",
    "    N=10000000\n",
    "    x=np.zeros(N)  # np.empty is not faster\n",
    "    y=np.zeros_like(x)\n",
    "    for i in range(N-1):\n",
    "        r = np.random.rand()\n",
    "        if r<0.01:\n",
    "            y[i+1]=0.16*y[i]\n",
    "        elif r<0.86:\n",
    "            x[i+1]=0.85*x[i]+0.04*y[i]\n",
    "            y[i+1]=-0.04*x[i]+0.85*y[i]+1.6\n",
    "        elif r<0.93:\n",
    "            x[i+1]=0.2*x[i]-0.26*y[i]\n",
    "            y[i+1]=0.23*x[i]+0.22*y[i]+1.6\n",
    "        else:\n",
    "            x[i+1]=-0.15*x[i]+0.28*y[i]\n",
    "            y[i+1]=0.26*x[i]+0.24*y[i]+0.44\n",
    "    return x, y\n",
    "\n",
    "def paint(cm, orbit=fern, wh=1200):\n",
    "    cols = list('xy')\n",
    "    ds.transfer_functions.Image.border = 0\n",
    "    cv = ds.Canvas(plot_width=wh, plot_height=wh)\n",
    "    df = pd.DataFrame(np.array(orbit()).T, columns=cols)\n",
    "    agg = cv.points(df, *cols)\n",
    "    r = tf.shade(agg, cmap=cm)\n",
    "    r = tf.set_background(r, 'black')\n",
    "    return r"
   ]
  },
  {
   "cell_type": "code",
   "execution_count": null,
   "id": "4fd121a5-6056-4a24-89e3-90e7f3eb382e",
   "metadata": {},
   "outputs": [],
   "source": [
    "export_image(paint(palette[\"kgy\"]), filename='fern', export_path='./', fmt='.png')"
   ]
  },
  {
   "cell_type": "code",
   "execution_count": null,
   "id": "49d64b68-75af-4b72-9c2e-e260e911461e",
   "metadata": {},
   "outputs": [],
   "source": [
    "@jit(nopython=True)\n",
    "def chaos_game():\n",
    "    N=10000000\n",
    "    x=np.zeros(N)\n",
    "    y=np.zeros_like(x)\n",
    "    h = np.sqrt(3)/2\n",
    "    z1=np.random.randn(N-1)\n",
    "    for i in range(N-1):\n",
    "        r=z1[i]\n",
    "        if r < 1/3:\n",
    "            x[i+1] = x[i] / 2\n",
    "            y[i+1] = y[i] / 2\n",
    "        elif r < 2/3:\n",
    "            x[i+1] = (x[i] + 1) / 2\n",
    "            y[i+1] = y[i] / 2\n",
    "        else:\n",
    "            x[i+1] = (x[i] + 0.5) / 2\n",
    "            y[i+1] = (y[i] + h) / 2\n",
    "    return x, y\n",
    "\n",
    "n_range = 5\n",
    "\n",
    "@jit(nopython=True)\n",
    "def chaos_game2():\n",
    "    N=10000000\n",
    "    x=np.zeros(N)\n",
    "    y=np.zeros_like(x)\n",
    "    h = np.sqrt(3)/2\n",
    "    r=0.0\n",
    "    def f(x, y, r):\n",
    "        if r < 1/3:\n",
    "            a = x / 2\n",
    "            b = y / 2\n",
    "        elif r < 2/3:\n",
    "            a = (x + 1) / 2\n",
    "            b = y / 2\n",
    "        else:\n",
    "            a = (x + 0.5) / 2\n",
    "            b = (y + h) / 2\n",
    "        return a, b\n",
    "    for i in range(N-1):\n",
    "        a, b = x[i], y[i]\n",
    "        for j in range(n_range):\n",
    "            a, b = f(a, b, np.random.randn())\n",
    "        x[i+1], y[i+1] = a, b\n",
    "    return x, y\n",
    "\n"
   ]
  },
  {
   "cell_type": "code",
   "execution_count": null,
   "id": "43407059-673e-49b6-8b0c-bd281a388af7",
   "metadata": {},
   "outputs": [],
   "source": [
    "%time paint(palette[\"kgy\"], chaos_game)"
   ]
  },
  {
   "cell_type": "code",
   "execution_count": null,
   "id": "979cf890-4305-430d-ad61-291b3f70179d",
   "metadata": {},
   "outputs": [],
   "source": [
    "%time paint(palette[\"kgy\"], chaos_game2)"
   ]
  },
  {
   "cell_type": "code",
   "execution_count": null,
   "id": "4001fd8b-9eb9-48bf-bb33-79f99230c729",
   "metadata": {},
   "outputs": [],
   "source": [
    "n_range=10\n",
    "%time paint(palette[\"kgy\"], chaos_game2)"
   ]
  },
  {
   "cell_type": "code",
   "execution_count": null,
   "id": "5acbb8ad-2145-4420-a736-88bfd6308fdd",
   "metadata": {},
   "outputs": [],
   "source": [
    "casos_diarios = pd.read_csv(\"../data/VIGREP/MGNA5VREP_P3.txt\")\n",
    "casos_df = casos_diarios\n",
    "cdf = casos_df[3:]\n",
    "cdf.shape"
   ]
  },
  {
   "cell_type": "code",
   "execution_count": null,
   "id": "3e2bcad1-8500-4e19-b458-2567f22b5ea2",
   "metadata": {},
   "outputs": [],
   "source": [
    "n_range = 1\n",
    "\n",
    "#@jit(nopython=True)\n",
    "def chaos_game2(datos):\n",
    "    N=len(datos)\n",
    "    x=np.zeros(N)\n",
    "    y=np.zeros_like(x)\n",
    "    h = np.sqrt(3)/2\n",
    "    r=0.0\n",
    "    def f(x, y, r):\n",
    "        if r < 1/3:\n",
    "            a = x / 2\n",
    "            b = y / 2\n",
    "        elif r < 2/3:\n",
    "            a = (x + 1) / 2\n",
    "            b = y / 2\n",
    "        else:\n",
    "            a = (x + 0.5) / 2\n",
    "            b = (y + h) / 2\n",
    "        return a, b\n",
    "    for i in range(N-1):\n",
    "        r = datos[i]\n",
    "        a, b = x[i], y[i]\n",
    "        for j in range(n_range):\n",
    "            a, b = f(a, b, r)\n",
    "        x[i+1], y[i+1] = a, b\n",
    "    return np.array((x,y)).T\n",
    "\n",
    "def paint(cm, wh=300, cdf=cdf):\n",
    "    cols = list('xy')\n",
    "    ds.transfer_functions.Image.border = 0\n",
    "    cv = ds.Canvas(plot_width=wh, plot_height=wh)\n",
    "    ma,mi = cdf.values.max(), cdf.values.min()\n",
    "    df = pd.DataFrame(chaos_game2((cdf.values-mi)/(ma-mi)), columns=cols)\n",
    "    agg = cv.points(df, *cols)\n",
    "    r = tf.shade(agg, cmap=cm)\n",
    "    r = tf.set_background(r, 'black')\n",
    "    return r\n",
    "\n",
    "%time paint(palette[\"kgy\"])"
   ]
  },
  {
   "cell_type": "code",
   "execution_count": null,
   "id": "864e8742-a493-4bfc-b575-3bd7db5ba656",
   "metadata": {},
   "outputs": [],
   "source": [
    "import matplotlib.pyplot as plt\n",
    "\n",
    "cdf.plot()"
   ]
  },
  {
   "cell_type": "code",
   "execution_count": null,
   "id": "e5018b5e-5367-4390-afc5-4400f4bb2e32",
   "metadata": {},
   "outputs": [],
   "source": [
    "casos_diarios"
   ]
  },
  {
   "cell_type": "code",
   "execution_count": null,
   "id": "66fb8200-c17a-4d95-bd78-08542cccc4eb",
   "metadata": {},
   "outputs": [],
   "source": [
    "cnacionales = casos_diarios.iloc[32][3:]"
   ]
  },
  {
   "cell_type": "code",
   "execution_count": null,
   "id": "0aa1bd45-91f5-4cf6-b522-ac2e52194784",
   "metadata": {},
   "outputs": [],
   "source": [
    "cnacionales.plot()"
   ]
  },
  {
   "cell_type": "code",
   "execution_count": null,
   "id": "a55f53ea-64ce-42d6-9506-396b23f4d90e",
   "metadata": {},
   "outputs": [],
   "source": [
    "cnacionales = casos_diarios"
   ]
  },
  {
   "cell_type": "code",
   "execution_count": null,
   "id": "fac79a2e-8af8-4d0f-be1b-074c66262b26",
   "metadata": {},
   "outputs": [],
   "source": [
    "%time paint(palette[\"kgy\"], cdf=cnacionales[::3])"
   ]
  },
  {
   "cell_type": "code",
   "execution_count": null,
   "id": "4679fb68-a62d-4657-bbaf-a579a06ef142",
   "metadata": {},
   "outputs": [],
   "source": [
    "%time paint(palette[\"kgy\"], cdf=cdf[::3])"
   ]
  },
  {
   "cell_type": "code",
   "execution_count": null,
   "id": "03c4c302-c6ef-43cf-9515-40af3a808be9",
   "metadata": {},
   "outputs": [],
   "source": [
    "pcm = pd.read_csv(\"../data/VIGREP/MGNA5VREP_P3.txt\", header=None)\n",
    "pcm"
   ]
  },
  {
   "cell_type": "code",
   "execution_count": null,
   "id": "13e90a0c-8eaa-4db5-b1c2-a922f4942127",
   "metadata": {},
   "outputs": [],
   "source": [
    "%time paint(palette[\"kgy\"], cdf=pcm[0][::13])"
   ]
  },
  {
   "cell_type": "code",
   "execution_count": null,
   "id": "42991be5-b2f8-49da-ae40-c5d8dc9db075",
   "metadata": {},
   "outputs": [],
   "source": [
    "rpcm = pcm[0].where((pcm[0]<10) & (pcm[0]>-5))"
   ]
  },
  {
   "cell_type": "code",
   "execution_count": null,
   "id": "779faa00-40d1-472a-a260-512ce733f15f",
   "metadata": {},
   "outputs": [],
   "source": [
    "%time paint([\"white\",\"black\"], wh=300,cdf=pd.Series(rpcm[1:].values-rpcm[:-1].values))"
   ]
  },
  {
   "cell_type": "code",
   "execution_count": null,
   "id": "bd94523a-3481-445b-93b3-3672a172422f",
   "metadata": {},
   "outputs": [],
   "source": [
    "pd.Series(rpcm[1:].values-rpcm[:-1].values).plot()"
   ]
  },
  {
   "cell_type": "code",
   "execution_count": null,
   "id": "525ce461-5f15-499e-b66c-37a710d893dd",
   "metadata": {},
   "outputs": [],
   "source": [
    "@jit(nopython=True)\n",
    "def lorenz_array3d(N=500000):\n",
    "    x0 = 1\n",
    "    y0 = 1\n",
    "    z0 = 3\n",
    "    h = 0.01\n",
    "    sigma = 10.0    # a\n",
    "    beta = 8 / 3.0  # c\n",
    "    ro = 28.0       # b\n",
    "    res = np.empty((N, 3))\n",
    "    i = 0\n",
    "    for i in range(N):\n",
    "        x1 = h * (sigma * (y0 - x0)) + x0\n",
    "        y1 = h * (x0 * (ro - z0) - y0) + y0\n",
    "        z1 = h * (x0 * y0 - beta * z0) + z0\n",
    "        res[i] = x0, y0, z0 = x1, y1, z1\n",
    "        i += 1\n",
    "    return res\n",
    "\n",
    "lz = lorenz_array3d()\n",
    "%time paint([\"white\",\"black\"], wh=300,cdf=pd.Series(lz.T[0])[::17])"
   ]
  },
  {
   "cell_type": "code",
   "execution_count": null,
   "id": "e5eb2796-e29b-4568-89b9-2ea637191ee1",
   "metadata": {},
   "outputs": [],
   "source": [
    "from numba import njit\n",
    "\n",
    "def logistica(x):\n",
    "    return 4 * x * (1 - x)\n",
    "\n",
    "def iterar(funcion=logistica, x0=0.3, N=1000000, N0=1000):\n",
    "    funcion = njit(funcion)\n",
    "    @njit\n",
    "    def inner(funcion, x0, N, N0):\n",
    "        y = x0\n",
    "        for i in range(N0):\n",
    "            y = funcion(y)\n",
    "        # ya se generó una x0 (y) \"caótica\"\n",
    "        ll = list()\n",
    "        for _ in range(N):\n",
    "            y = funcion(y)\n",
    "            ll.append(y)\n",
    "        return np.array(ll)\n",
    "    return inner(funcion, x0, N, N0)\n",
    "\n",
    "logi = iterar()\n",
    "logi"
   ]
  },
  {
   "cell_type": "code",
   "execution_count": null,
   "id": "386d7eef-7df8-4594-9c00-0aa44f0b5c30",
   "metadata": {},
   "outputs": [],
   "source": [
    "n_range = 1\n",
    "tf.Images(*[paint([\"white\",\"black\"], wh=700,cdf=pd.Series(logi[::i])) for i in range(1,5)]).cols(2)"
   ]
  },
  {
   "cell_type": "code",
   "execution_count": null,
   "id": "08658a83-dedf-4c6b-8789-4be054b6aeb3",
   "metadata": {},
   "outputs": [],
   "source": [
    "pd.Series(logi[:1000:4]).plot()"
   ]
  },
  {
   "cell_type": "code",
   "execution_count": null,
   "id": "3ce74482-52e4-4647-97ab-feb9d5c99ce6",
   "metadata": {},
   "outputs": [],
   "source": [
    "lgcum=(logi-.5).cumsum()\n",
    "pd.Series(lgcum).plot()"
   ]
  },
  {
   "cell_type": "code",
   "execution_count": null,
   "id": "920cbe8a-1ce1-48c5-87c9-5761424626ee",
   "metadata": {},
   "outputs": [],
   "source": [
    "paint(palette[\"bmw\"], wh=300,cdf=pd.Series(lgcum[::3]))"
   ]
  },
  {
   "cell_type": "code",
   "execution_count": null,
   "id": "18828af3-1707-423c-bf29-0da6d96be579",
   "metadata": {},
   "outputs": [],
   "source": [
    "%run \"ifsoac_2.py\""
   ]
  },
  {
   "cell_type": "code",
   "execution_count": null,
   "id": "d0792273-af3c-45e6-9180-c5954955c06d",
   "metadata": {},
   "outputs": [],
   "source": [
    "Ifsoac([rpcm[::i] for i in range(1,5)]).plot()"
   ]
  },
  {
   "cell_type": "code",
   "execution_count": null,
   "id": "1866ff8b-7f7a-4ecb-8b36-c5293e299760",
   "metadata": {},
   "outputs": [],
   "source": [
    "Ifsoac([rpcm[::i] for i in range(1,5)], op={\"cmap_ds\":\"CET_C1\", \"nsides\":100, \"transform\":antipolar}).plot()"
   ]
  },
  {
   "cell_type": "code",
   "execution_count": null,
   "id": "b0cb9d99-bf4b-4431-97d8-2cc176987e14",
   "metadata": {},
   "outputs": [],
   "source": [
    "Ifsoac(rpcm,  op={\"cmap_ds\":\"CET_C1\", \"nsides\":100, 'ventana_ds':1200}).plot()"
   ]
  },
  {
   "cell_type": "code",
   "execution_count": null,
   "id": "2a37e1d7-f490-4bf0-a0df-6ce19a2d55d4",
   "metadata": {},
   "outputs": [],
   "source": [
    "%time Ifsoac(cnacionales,  op={\"cmap_ds\":\"CET_C1\", \"nsides\":500, 'ventana_ds':1200}).plot()"
   ]
  },
  {
   "cell_type": "code",
   "execution_count": null,
   "id": "8aeb35a6-4ddd-4ad2-82f3-de7d2de5e4d0",
   "metadata": {},
   "outputs": [],
   "source": []
  }
 ],
 "metadata": {
  "kernelspec": {
   "display_name": "Python 3 (ipykernel)",
   "language": "python",
   "name": "python3"
  },
  "language_info": {
   "codemirror_mode": {
    "name": "ipython",
    "version": 3
   },
   "file_extension": ".py",
   "mimetype": "text/x-python",
   "name": "python",
   "nbconvert_exporter": "python",
   "pygments_lexer": "ipython3",
   "version": "3.9.13"
  }
 },
 "nbformat": 4,
 "nbformat_minor": 5
}
