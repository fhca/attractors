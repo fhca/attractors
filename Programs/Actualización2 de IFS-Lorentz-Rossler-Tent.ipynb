{
 "cells": [
  {
   "cell_type": "markdown",
   "metadata": {
    "id": "FL0twc7I-eFo"
   },
   "source": [
    "# Ifsoac y sus transformaciones"
   ]
  },
  {
   "cell_type": "code",
   "execution_count": null,
   "metadata": {
    "executionInfo": {
     "elapsed": 590,
     "status": "ok",
     "timestamp": 1644000847792,
     "user": {
      "displayName": "Felipe Humberto Contreras Alcala",
      "photoUrl": "https://lh3.googleusercontent.com/a-/AOh14GgU_2wwjZSvzzhFFebWKdekpPe0VgHnod4v-bDUNA=s64",
      "userId": "00736783643502694397"
     },
     "user_tz": 360
    },
    "id": "cZHC_6gniJLo"
   },
   "outputs": [],
   "source": [
    "from ifsoac_2 import *"
   ]
  },
  {
   "cell_type": "markdown",
   "metadata": {
    "tags": []
   },
   "source": [
    "# Ejemplos MPL"
   ]
  },
  {
   "cell_type": "markdown",
   "metadata": {
    "id": "GCxur1LEhz3N"
   },
   "source": [
    "Pedro Miramontes, [03/02/22 13:56]\n",
    "Okas.\n",
    "\n",
    "La conjetura es entonces que todos los mapeos del intervalo de la familia logística tienen la misma representación con esta IFS. \n",
    "\n",
    "Ya entiendo lo de Róssler y Lorenz; dos datos sucesivos están muuuuy correlacionados pues son casi el mismo pues vienen de la discretización de una ecuación diferencial con un paso muy pequeño. Para evitar esto, hay que extraer de la serie de tiempo un dato cada 10 lugares y así formal una nueva serie de tiempo y analizarla con tus herramientas."
   ]
  },
  {
   "cell_type": "code",
   "execution_count": null,
   "metadata": {},
   "outputs": [],
   "source": [
    "lorenz = pd.read_csv(\"./lorenz.dat\", header=None).to_numpy().flatten()\n",
    "rossler = pd.read_csv(\"./rossler.dat\", header=None).to_numpy().flatten()"
   ]
  },
  {
   "cell_type": "code",
   "execution_count": null,
   "metadata": {
    "tags": []
   },
   "outputs": [],
   "source": [
    "%time Ifsoac([lorenz, rossler], {\"cols_ds\":2, \"cmap_ds\":\"CET_C1\"}).plot()"
   ]
  },
  {
   "cell_type": "code",
   "execution_count": null,
   "metadata": {},
   "outputs": [],
   "source": [
    "#op_antipolar={\"grafica\":\"ds\", \"transform\":antipolar, \"argv\":{\"delta_x\":np.pi, \"delta_y\":np.pi}}\n",
    "op_antipolar={\"transform\":antipolar, \"cmap_ds\":\"CET_C1\"}\n",
    "%time Ifsoac([lorenz, rossler], op_antipolar).plot()"
   ]
  },
  {
   "cell_type": "code",
   "execution_count": null,
   "metadata": {},
   "outputs": [],
   "source": [
    "logi = np.array(iterar(logistica, N=10000000, N0=0))\n",
    "tienda = np.array(iterar(tent, N=10000000, N0=0, x0=.4))\n",
    "\n",
    "%time Ifsoac([logi, tienda], {\"ventana_ds\":1200}).plot()"
   ]
  },
  {
   "cell_type": "code",
   "execution_count": null,
   "metadata": {},
   "outputs": [],
   "source": [
    "op = op_antipolar.copy()\n",
    "op.update({\"ventana_ds\":1200, \"cols_ds\":4, \"cmap_ds\":\"bgy\"})\n",
    "\n",
    "%time Ifsoac([logi[::c] for c in range(1, 5)], op).export_images()"
   ]
  },
  {
   "cell_type": "code",
   "execution_count": null,
   "metadata": {},
   "outputs": [],
   "source": [
    "op = op_antipolar.copy()\n",
    "op.update({\"ventana_ds\":1200, \"cols_ds\":4, \"cmap_ds\":\"CET_C1\"})\n",
    "\n",
    "%time Ifsoac([logi[::c] for c in range(1, 5)], op).plot()"
   ]
  },
  {
   "cell_type": "code",
   "execution_count": null,
   "metadata": {},
   "outputs": [],
   "source": [
    "%time Ifsoac([tienda[::c] for c in range(1, 5)], op).plot()"
   ]
  },
  {
   "cell_type": "code",
   "execution_count": null,
   "metadata": {},
   "outputs": [],
   "source": [
    "op = {\"transform\":estereografica, \"ventana_ds\":1200}\n",
    "%time Ifsoac([logi, tienda], op).plot()"
   ]
  },
  {
   "cell_type": "code",
   "execution_count": null,
   "metadata": {},
   "outputs": [],
   "source": [
    "op = {\"transform\":antipolar, \"ventana_ds\":1200, \"cols_ds\":4, \"cmap_ds\":\"CET_C1\"}\n",
    "\n",
    "%time Ifsoac([lorenz, same_amount_bins(lorenz), rossler, same_amount_bins(rossler)], op).plot()"
   ]
  },
  {
   "cell_type": "code",
   "execution_count": null,
   "metadata": {},
   "outputs": [],
   "source": [
    "op1 = {\"ventana_ds\":300, \"cols_ds\":4}\n",
    "op2 = {\"transform\":antipolar, \"ventana_ds\":1200, \"cols_ds\":4, \"cmap_ds\":\"CET_C1\"}\n",
    "\n",
    "c = 6\n",
    "%time Ifsoac([lorenz[::c],same_amount_bins(lorenz)[::c],rossler[::c],same_amount_bins(rossler)[::c]], op1).plot()"
   ]
  },
  {
   "cell_type": "code",
   "execution_count": null,
   "metadata": {},
   "outputs": [],
   "source": [
    "c = 6\n",
    "%time Ifsoac([lorenz[::c],same_amount_bins(lorenz)[::c],rossler[::c],same_amount_bins(rossler)[::c]], op2).plot()"
   ]
  },
  {
   "cell_type": "code",
   "execution_count": null,
   "metadata": {},
   "outputs": [],
   "source": [
    "slogi = same_amount_bins(logi)\n",
    "stienda = same_amount_bins(tienda)\n",
    "\n",
    "op = {\"ventana_ds\":1200, \"cmap_ds\":\"Hot\"}\n",
    "\n",
    "%time Ifsoac([slogi[::i] for i in range(1, 5)], op).plot()"
   ]
  },
  {
   "cell_type": "code",
   "execution_count": null,
   "metadata": {},
   "outputs": [],
   "source": [
    "%time Ifsoac([stienda[::i] for i in range(1, 5)], op).plot()"
   ]
  },
  {
   "cell_type": "code",
   "execution_count": null,
   "metadata": {},
   "outputs": [],
   "source": [
    "op1 = {\"cols_ds\":4, \"nsides\":1000, \"ventana_ds\":1200, \"cmap_ds\":\"kgy\"}\n",
    "\n",
    "lor = lorenz_array(10000000)\n",
    "slor = same_amount_bins(lor)\n",
    "%time Ifsoac([lor[::c] for c in range(1,9)], op1).plot()"
   ]
  },
  {
   "cell_type": "code",
   "execution_count": null,
   "metadata": {},
   "outputs": [],
   "source": [
    "op1 = {\"cols_ds\":4, \"nsides\":1000, \"ventana_ds\":1200, \"cmap_ds\":\"CET_C1\"}\n",
    "\n",
    "lor = lorenz_array(10000000)\n",
    "slor = same_amount_bins(lor)\n",
    "%time Ifsoac([lor[::c] for c in range(1,9)], op1).plot()"
   ]
  },
  {
   "cell_type": "code",
   "execution_count": null,
   "metadata": {},
   "outputs": [],
   "source": [
    "op1 = {\"cols_ds\":4, \"nsides\":1000, \"ventana_ds\":1200, \"cmap_ds\":\"kgy\"}\n",
    "%time Ifsoac([lor[::c] for c in range(1,40)], op1).plot()"
   ]
  },
  {
   "cell_type": "code",
   "execution_count": null,
   "metadata": {},
   "outputs": [],
   "source": [
    "%time Ifsoac([slor[::c] for c in range(1,9)], op1).plot()"
   ]
  },
  {
   "cell_type": "code",
   "execution_count": null,
   "metadata": {},
   "outputs": [],
   "source": [
    "op2 = {\"cols_ds\":4, \"nsides\":1000, \"transform\":antipolar, \"ventana_ds\":1200, \"cmap_ds\":\"bmw\"}\n",
    "\n",
    "%time Ifsoac([lor[::c] for c in range(1,41,7)], op2).plot()"
   ]
  },
  {
   "cell_type": "code",
   "execution_count": null,
   "metadata": {},
   "outputs": [],
   "source": [
    "op2 = {\"cols_ds\":4, \"nsides\":1000, \"transform\":antipolar, \"ventana_ds\":1200, \"cmap_ds\":\"bmw\"}\n",
    "%time Ifsoac([slor[::c] for c in range(1,15)], op2).plot()"
   ]
  },
  {
   "cell_type": "code",
   "execution_count": null,
   "metadata": {
    "tags": []
   },
   "outputs": [],
   "source": [
    "op2 = {\"cols_ds\":4, \"nsides\":1000, \"transform\":antipolar, \"ventana_ds\":1200, \"cmap_ds\":\"bmw\"}\n",
    "%time Ifsoac([slor[::c] for c in range(1,41)], op2).plot()"
   ]
  },
  {
   "cell_type": "markdown",
   "metadata": {},
   "source": [
    "# Otras pruebas"
   ]
  },
  {
   "cell_type": "code",
   "execution_count": null,
   "metadata": {},
   "outputs": [],
   "source": [
    "%time Ifsoac(op={\"nsides\":4, \"p\":3e-3, \"cmap_ds\":\"bmw\", \"nrandom\":10000000, \"ventana_ds\":1200}).plot()"
   ]
  },
  {
   "cell_type": "code",
   "execution_count": null,
   "metadata": {},
   "outputs": [],
   "source": [
    "op = {\"transform\":antipolar, \"ventana_ds\":1200, \"cols_ds\":4, \"cmap_ds\":\"gray\", \"background_ds\":None}\n",
    "\n",
    "@jit(nopython=True)\n",
    "def logistica(x):\n",
    "    return 4*x*(1-x)\n",
    "\n",
    "@jit(nopython=True)\n",
    "def iterar(funcion=logistica, x0=0.3, N=10000000, N0=1000):\n",
    "    ll = []\n",
    "    for i in range(N0):\n",
    "        y = funcion(x0)\n",
    "        x0 = y\n",
    "        #llogistica.append(y)\n",
    "    # ya se generó una x0 \"caótica\"\n",
    "    for i in range(N):\n",
    "        y = funcion(x0)\n",
    "        x0 = y\n",
    "        ll.append(y)\n",
    "    return ll\n",
    "\n",
    "\n",
    "logi = np.array(iterar(logistica))\n",
    "%time Ifsoac(logi, op).export_images('testing', export_path=\"./carpeta sin título/\")"
   ]
  },
  {
   "cell_type": "code",
   "execution_count": null,
   "metadata": {},
   "outputs": [],
   "source": [
    "op = {\"ventana_ds\":1200, \"cmap_ds\":\"Hot\"}\n",
    "\n",
    "%time Ifsoac(logi, op).export_images()"
   ]
  },
  {
   "cell_type": "code",
   "execution_count": null,
   "metadata": {},
   "outputs": [],
   "source": [
    "op = {\"ventana_ds\":1200, \"cmap_ds\":\"Hot\"}\n",
    "\n",
    "%time Ifsoac(lor, op).export_images()"
   ]
  },
  {
   "cell_type": "code",
   "execution_count": null,
   "metadata": {},
   "outputs": [],
   "source": []
  }
 ],
 "metadata": {
  "colab": {
   "authorship_tag": "ABX9TyPISwrRoSjYzi7/xgx2bi9z",
   "collapsed_sections": [
    "7vUZqsjV5RqW",
    "jH040IiJ9uoN"
   ],
   "mount_file_id": "1NVgSM2CVSearGg8L20ExskxeqkeL79sm",
   "name": "IFS-Lorentz-Rossler-Tent.ipynb",
   "provenance": []
  },
  "kernelspec": {
   "display_name": "Python 3 (ipykernel)",
   "language": "python",
   "name": "python3"
  },
  "language_info": {
   "codemirror_mode": {
    "name": "ipython",
    "version": 3
   },
   "file_extension": ".py",
   "mimetype": "text/x-python",
   "name": "python",
   "nbconvert_exporter": "python",
   "pygments_lexer": "ipython3",
   "version": "3.9.13"
  }
 },
 "nbformat": 4,
 "nbformat_minor": 4
}
