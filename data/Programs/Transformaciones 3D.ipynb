{
 "cells": [
  {
   "cell_type": "markdown",
   "id": "3746de39-efe0-4e49-ae29-7678c3054aea",
   "metadata": {},
   "source": [
    "# Transformaciones 3D"
   ]
  },
  {
   "cell_type": "code",
   "execution_count": null,
   "id": "29e9446a-8f69-423a-bd6b-34dde9ffc9e6",
   "metadata": {},
   "outputs": [],
   "source": [
    "from ifsoac_2 import *"
   ]
  },
  {
   "cell_type": "code",
   "execution_count": null,
   "id": "e9658ec8-fd5f-4e38-b9d7-f936f818c862",
   "metadata": {},
   "outputs": [],
   "source": [
    "%time Ifsoac(op={\"transform\":escher, \"nsides\":3, \"p\":1/2, \"nrandom\":10000000, \"ventana_ds\":1200, \"cmap_ds\":\"bmw\"}).export_images(filename_prefix=\"sierpEscher\")"
   ]
  },
  {
   "cell_type": "code",
   "execution_count": null,
   "id": "0ca09441-80ca-4b18-b5fb-e5423829bf18",
   "metadata": {},
   "outputs": [],
   "source": [
    "@jit(nopython=True)\n",
    "def totwo(p, e):\n",
    "    \" p.shape = (...,3); (ax,ay), (bx,by), (cx,cy) posicion en R2 de vectores unitarios en R3\"\n",
    "    e1, e2, e3 = e\n",
    "    res=np.empty((p.shape[0], 2))\n",
    "    i = 0\n",
    "    for dx, dy, dz in p:\n",
    "        res[i] = e1[0] * dx + e2[0] * dy + e3[0] * dz, e1[1] * dx + e2[1] * dy + e3[1] * dz\n",
    "        i += 1\n",
    "    return res\n",
    "\n",
    "lz = lorenz_array3d(10000000)"
   ]
  },
  {
   "cell_type": "code",
   "execution_count": null,
   "id": "713def02-329a-4d89-9351-0a06c31da52a",
   "metadata": {},
   "outputs": [],
   "source": [
    "def plot_attractor(attractor, vent=1200, cmap=None, unit_vect = ((-10,-.5), (1,0), (0,1))):\n",
    "    cols=list(\"xy\")\n",
    "    cv = ds.Canvas(plot_width = vent, plot_height = vent)\n",
    "    df = pd.DataFrame( totwo(attractor, unit_vect), columns=cols)\n",
    "    agg = cv.points(df, *cols)\n",
    "    if cmap is None:\n",
    "        cmap = palette[\"fire\"]\n",
    "    agg = tf.shade(agg, cmap=cmap)\n",
    "    return tf.set_background(agg, \"black\")\n",
    "    \n",
    "plot_attractor(lz)"
   ]
  },
  {
   "cell_type": "code",
   "execution_count": null,
   "id": "c39bb82b-f243-4400-bf72-f01e0d07b393",
   "metadata": {},
   "outputs": [],
   "source": [
    "plot_attractor(rossler_array3d(10000000), unit_vect = ((1,0), (0,1), (0,1.5)))"
   ]
  },
  {
   "cell_type": "code",
   "execution_count": null,
   "id": "ab5a3a84-6dde-4840-99b2-83e58ba5ff2d",
   "metadata": {},
   "outputs": [],
   "source": [
    "lz_t = np.array((lz.T[0][0::3][:333333], lz.T[0][1::3][:333333], lz.T[0][2::3][:333333])).T\n",
    "uv1 = ((-1,-.1), (1,-.2), (.1,1))\n",
    "uv = ((1,0), (0,1), (-.5, -2.5))\n",
    "plot_attractor(lz_t, unit_vect = uv)"
   ]
  },
  {
   "cell_type": "code",
   "execution_count": null,
   "id": "f6ac0c64-cb24-4e2b-954b-8736164b84c4",
   "metadata": {},
   "outputs": [],
   "source": [
    "#unit_vect = {\"e1\":(-10,-.5), \"e2\":(1,0), \"e3\":(0,1)}\n",
    "unit_vect = (-.6, -.6), (1,0), (0,1)\n",
    "\n",
    "@jit(nopython=True)\n",
    "def to_sphere(p, e):\n",
    "    xyz = np.empty((p.shape[0],3))\n",
    "    i = 0\n",
    "    for x, y in p:\n",
    "        z = 1\n",
    "        r = np.sqrt(x*x+y*y+z*z)\n",
    "        phi = np.arccos(z/r)\n",
    "        theta = np.arctan2(y, x)\n",
    "        xyz[i] = r, phi, theta\n",
    "        i += 1\n",
    "    return totwo(xyz, e)\n",
    "\n",
    "@jit(nopython=True)\n",
    "def from_sphere(p, e):\n",
    "    \"spherical coordinates (radius r, inclination θ, azimuth φ), where r ∈ [0, ∞), θ ∈ [0, π], φ ∈ [0, 2π)\"\n",
    "    xyz = np.empty((p.shape[0],3))\n",
    "    i = 0\n",
    "    minp = p.T[0].min()\n",
    "    maxp = p.T[0].max()\n",
    "    mint = p.T[1].min()\n",
    "    maxt = p.T[1].max()\n",
    "    for phi, theta in p:\n",
    "        r = 1\n",
    "        theta = (theta - mint) / (maxt - mint) * 2 * np.pi\n",
    "        phi = (phi - minp) / (maxp - minp) * np.pi\n",
    "        x = r * np.sin(phi) * np.cos(theta)\n",
    "        y = r * np.sin(phi) * np.sin(theta)\n",
    "        z = r * np.cos(phi)\n",
    "        xyz[i] = x, y, z\n",
    "        i += 1\n",
    "    return totwo(xyz, e)\n",
    "\n",
    "\n",
    "op = {\"transform\":from_sphere, \"argv\":unit_vect, \"nsides\":4, \"p\":1/2, \n",
    "      \"nrandom\":10000000, \"cmap_ds\":\"colorwheel\"}\n",
    "Ifsoac(op=op).plot()"
   ]
  },
  {
   "cell_type": "code",
   "execution_count": null,
   "id": "933a93cb-32f1-4c55-af92-8906636253e7",
   "metadata": {},
   "outputs": [],
   "source": [
    "op = {\"transform\":to_sphere, \"argv\":unit_vect, \"nsides\":4, \"p\":1/2, \n",
    "      \"nrandom\":10000000, \"cmap_ds\":\"colorwheel\"}\n",
    "Ifsoac(op=op).plot()"
   ]
  },
  {
   "cell_type": "code",
   "execution_count": null,
   "id": "be660e7f-f25a-4c62-8196-acd11c19a5f5",
   "metadata": {},
   "outputs": [],
   "source": [
    "%time logi = iterar(logistica, N=10000000)\n",
    "%time tienda = iterar(tent, N=10000000)\n",
    "%time lorenz = lorenz_array(10000000)"
   ]
  },
  {
   "cell_type": "code",
   "execution_count": null,
   "id": "bfe1a2d0-8b6d-4160-b657-3a7c5988b42a",
   "metadata": {},
   "outputs": [],
   "source": [
    "unit_vect =  (1,0), (0,1), (-.6, -.6)\n",
    "op = {\"ventana_ds\":1200, \"cmap_ds\":\"rainbow\"}\n",
    "%time Ifsoac([logi, tienda[::2], lorenz, lorenz[::14]], op).plot()"
   ]
  },
  {
   "cell_type": "code",
   "execution_count": null,
   "id": "c2aebc42-0c55-4154-9cf2-381d858506ae",
   "metadata": {},
   "outputs": [],
   "source": [
    "unit_vect =  (1,0), (0,1), (-.6, -.6)\n",
    "op = {\"ventana_ds\":1200, \"transform\":from_sphere, \"argv\":unit_vect, \"cmap_ds\":\"rainbow\"}\n",
    "%time Ifsoac([logi, tienda[::2], lorenz, lorenz[::7]], op).export_images(\"fslorenz\")"
   ]
  },
  {
   "cell_type": "code",
   "execution_count": null,
   "id": "517930e6-f434-4649-a13a-0cb0e98ed44d",
   "metadata": {},
   "outputs": [],
   "source": [
    "@jit(nopython=True)\n",
    "def from_cylinder(p, e):\n",
    "    xyz = np.empty((p.shape[0], 3))\n",
    "    i = 0\n",
    "    minp = p.T[0].min()\n",
    "    maxp = p.T[0].max()\n",
    "    for phi, z in p:\n",
    "        rho = 1\n",
    "        phi = (phi - minp) / (maxp - minp) * 2 * np.pi\n",
    "        x = rho * np.cos(phi)\n",
    "        y = rho * np.sin(phi)\n",
    "        z = z\n",
    "        xyz[i] = x, y, z\n",
    "        i += 1\n",
    "    return totwo(xyz, e)\n",
    "\n",
    "\n",
    "unit_vect = (1,0), (0,1), (1.6, 1.6)\n",
    "op = {\"ventana_ds\":1200, \"transform\":from_cylinder, \"argv\":unit_vect, \"cmap_ds\":\"rainbow\"}\n",
    "%time Ifsoac([logi, tienda[::2], lorenz, lorenz[::7]], op).export_images(\"fclogi\")"
   ]
  },
  {
   "cell_type": "code",
   "execution_count": null,
   "id": "d5f411ec-193e-4c66-a56c-513105e25dc0",
   "metadata": {},
   "outputs": [],
   "source": [
    "%time Ifsoac(op={\"nsides\":3, \"p\":1/2, \"nrandom\":100000000, \"ventana_ds\":1200, \"cmap_ds\":\"bmw\"}).export_images(\"Numerical_experiments_fig07\")"
   ]
  },
  {
   "cell_type": "code",
   "execution_count": null,
   "id": "4bc9a31b-ab88-47e6-b1d9-059c1404407a",
   "metadata": {},
   "outputs": [],
   "source": [
    "data=lorenz[::15]\n",
    "cyl1 = np.vstack((np.array(Ifsoac(data, op={\"x_range\":(-1.5,1.5), \"y_range\":(-1.5,1.5)}).jDC()).T, np.linspace(0,10,len(data)))).T\n",
    "\n",
    "   \n",
    "plot_attractor(cyl1, unit_vect = ((-10,-.5), (1,0), (0,1)))"
   ]
  },
  {
   "cell_type": "code",
   "execution_count": null,
   "id": "3b8bbe05-ab0c-49c9-9651-b6e2768873e3",
   "metadata": {},
   "outputs": [],
   "source": [
    "from scipy.spatial.transform import Rotation as R\n",
    "op = {\"cmap_ds\":\"CET_C1\", \"ventana_ds\":1200}\n",
    "data=pd.read_csv(\"../../data/SUE/RL/RLMN10SUE_F4.txt\", header=None).to_numpy().flatten()\n",
    "cyl1 = np.vstack((np.array(Ifsoac(data, op).jDC()).T, np.linspace(0,10,len(data)))).T\n",
    "\n",
    "\n",
    "li = []\n",
    "for a in np.linspace(0, 2*np.pi, 120):\n",
    "    r = R.from_euler('x', a)\n",
    "    cyl2 = r.apply(cyl1)\n",
    "    li.append(plot_attractor(cyl2, cmap=palette[\"CET_C1\"], unit_vect = ((-5,-.5), (1,0), (0,1))))\n",
    "    \n",
    "for i, img in enumerate(li):\n",
    "    export_image(img=img, filename=f\"cylRL{i:0>3}\", fmt=\".png\", export_path=\"./img/\")\n",
    "#tf.Images(*li)"
   ]
  },
  {
   "cell_type": "code",
   "execution_count": null,
   "id": "2d03f18c-2682-4ad5-a031-ecb863429d4c",
   "metadata": {},
   "outputs": [],
   "source": [
    "!/opt/homebrew/bin/convert -delay .1 -loop 0 img/cylRL*png \"cylRL.gif\""
   ]
  },
  {
   "cell_type": "code",
   "execution_count": null,
   "id": "9d6007bf-4f03-4351-bdda-8b441d96e501",
   "metadata": {},
   "outputs": [],
   "source": [
    "np.linspace(0, 2*np.pi, 120)[85]"
   ]
  },
  {
   "cell_type": "code",
   "execution_count": null,
   "id": "d26da810-d347-4284-94c2-c4c4b5f520e7",
   "metadata": {},
   "outputs": [],
   "source": [
    "data=pd.read_csv(\"../../data/SUE/MG/MGNA5SUEF4.txt\", header=None).to_numpy().flatten()\n",
    "cyl1 = np.vstack((np.array(Ifsoac(data, op).jDC()).T, np.linspace(0,10,len(data)))).T\n",
    "\n",
    "\n",
    "li = []\n",
    "for a in np.linspace(0, 2*np.pi, 120):\n",
    "    r = R.from_euler('x', a)\n",
    "    cyl2 = r.apply(cyl1)\n",
    "    li.append(plot_attractor(cyl2, cmap=palette[\"CET_C1\"], unit_vect = ((-5,-.5), (1,0), (0,1))))\n",
    "    \n",
    "for i, img in enumerate(li):\n",
    "    export_image(img=img, filename=f\"cylMG{i:0>3}\", fmt=\".png\", export_path=\"./img/\")"
   ]
  },
  {
   "cell_type": "code",
   "execution_count": null,
   "id": "f0ed8fc2-78d8-4512-9d10-663136783749",
   "metadata": {},
   "outputs": [],
   "source": [
    "!/opt/homebrew/bin/convert -delay .1 -loop 0 img/cylMG*png \"cylMG.gif\""
   ]
  },
  {
   "cell_type": "code",
   "execution_count": null,
   "id": "1ddbf7af-a6b3-47c1-bd82-dee30ac1b0ed",
   "metadata": {},
   "outputs": [],
   "source": [
    "data=lorenz\n",
    "cyl1 = np.vstack((np.array(Ifsoac(data, op).jDC()).T, np.linspace(0,10,len(data)))).T\n",
    "\n",
    "\n",
    "li = []\n",
    "for a in np.linspace(0, 2*np.pi, 120):\n",
    "    r = R.from_euler('x', a)\n",
    "    cyl2 = r.apply(cyl1)\n",
    "    li.append(plot_attractor(cyl2, cmap=palette[\"CET_C1\"], unit_vect = ((-5,-.5), (1,0), (0,1))))\n",
    "    \n",
    "for i, img in enumerate(li):\n",
    "    export_image(img=img, filename=f\"cylLZ{i:0>3}\", fmt=\".png\", export_path=\"./img/\")\n"
   ]
  },
  {
   "cell_type": "code",
   "execution_count": null,
   "id": "214d6e77-ce66-40bd-8957-47ed00e526f8",
   "metadata": {},
   "outputs": [],
   "source": [
    "!/opt/homebrew/bin/convert -delay .1 -loop 0 cylLZ*png \"cylLZ.gif\"      "
   ]
  },
  {
   "cell_type": "code",
   "execution_count": null,
   "id": "2580149b-dbe2-41f0-884e-87df05bbd87c",
   "metadata": {},
   "outputs": [],
   "source": []
  },
  {
   "cell_type": "code",
   "execution_count": null,
   "id": "c2d53a72-3c3f-4614-8fe6-1d2094975df8",
   "metadata": {},
   "outputs": [],
   "source": []
  },
  {
   "cell_type": "code",
   "execution_count": null,
   "id": "e799e342-d2c4-4c41-b246-0cecb2ff7a73",
   "metadata": {},
   "outputs": [],
   "source": [
    "op = {\"cmap_ds\":\"CET_C1\", \"ventana_ds\":1200}\n",
    "data=pd.read_csv(\"../../data/VIGREP/RLVIGREP_511.99 Hz/RLMNVIGREP_P3.txt\", header=None).to_numpy().flatten()[5000:153600]\n",
    "cyl1 = np.vstack((np.array(Ifsoac(data, op).jDC()).T, np.linspace(0,10,len(data)))).T\n",
    "\n",
    "\n",
    "li = []\n",
    "for a in np.linspace(0, 2*np.pi, 120):\n",
    "    r = R.from_euler('x', a)\n",
    "    cyl2 = r.apply(cyl1)\n",
    "    li.append(plot_attractor(cyl2, cmap=palette[\"CET_C1\"], unit_vect = ((-5,-.5), (1,0), (0,1))))\n",
    "    \n",
    "for i, img in enumerate(li):\n",
    "    export_image(img=img, filename=f\"cylRL{i:0>3}\", fmt=\".png\", export_path=\"./img/\")\n",
    "!/opt/homebrew/bin/convert -delay .1 -loop 0 img/cylRL*png \"cylVRRL.gif\""
   ]
  },
  {
   "cell_type": "code",
   "execution_count": null,
   "id": "5169510f-b99c-42a1-bf9a-4293ed0b90cb",
   "metadata": {},
   "outputs": [],
   "source": [
    "data=pd.read_csv(\"../../data/VIGREP/MGNA5VREP_511.9 Hz/MGNA5VREP_P3.txt\", header=None).to_numpy().flatten()[5000:153600]\n",
    "cyl1 = np.vstack((np.array(Ifsoac(data, op).jDC()).T, np.linspace(0,10,len(data)))).T\n",
    "\n",
    "\n",
    "li = []\n",
    "for a in np.linspace(0, 2*np.pi, 120):\n",
    "    r = R.from_euler('x', a)\n",
    "    cyl2 = r.apply(cyl1)\n",
    "    li.append(plot_attractor(cyl2, cmap=palette[\"CET_C1\"], unit_vect = ((-5,-.5), (1,0), (0,1))))\n",
    "    \n",
    "for i, img in enumerate(li):\n",
    "    export_image(img=img, filename=f\"cylMG{i:0>3}\", fmt=\".png\", export_path=\"./img/\")\n",
    "!/opt/homebrew/bin/convert -delay .1 -loop 0 img/cylMG*png \"cylVRMG.gif\""
   ]
  },
  {
   "cell_type": "code",
   "execution_count": null,
   "id": "1e9d8e74-655d-448f-a639-4880b5128acc",
   "metadata": {},
   "outputs": [],
   "source": [
    "pd.read_csv(\"../../data/VIGREP/RLVIGREP_511.99 Hz/RLMNVIGREP_P3.txt\", header=None)[5000:153600].plot()"
   ]
  },
  {
   "cell_type": "code",
   "execution_count": null,
   "id": "39133b39-6433-4bad-a18e-de9e8956d2e7",
   "metadata": {},
   "outputs": [],
   "source": [
    "pd.read_csv(\"../../data/VIGREP/MGNA5VREP_511.9 Hz/MGNA5VREP_P3.txt\", header=None)[5000:153600].plot()"
   ]
  },
  {
   "cell_type": "code",
   "execution_count": null,
   "id": "16b335c2-12de-4012-bc32-de87a2447e03",
   "metadata": {},
   "outputs": [],
   "source": [
    "5000/(512*60)*60"
   ]
  },
  {
   "cell_type": "code",
   "execution_count": null,
   "id": "48136f49-5e3e-475e-bc8d-279ff4089430",
   "metadata": {},
   "outputs": [],
   "source": [
    "200000/(512*60)"
   ]
  },
  {
   "cell_type": "code",
   "execution_count": null,
   "id": "7b531973-c844-4776-8ae6-1b29fecfc512",
   "metadata": {},
   "outputs": [],
   "source": [
    "512*60*5"
   ]
  },
  {
   "cell_type": "code",
   "execution_count": null,
   "id": "1b0d3e83-6917-4b86-9055-6722afb81a14",
   "metadata": {},
   "outputs": [],
   "source": [
    "data=pd.read_csv(\"../../data/VIGREP/RLVIGREP_511.99 Hz/RLMNVIGREP_P3.txt\", header=None).to_numpy().flatten()[5000:153600]\n",
    "Ifsoac(data, op).export_images(filename_prefix=\"RL\")"
   ]
  },
  {
   "cell_type": "code",
   "execution_count": null,
   "id": "709b6390-f425-4c5d-9295-8a281b175c9e",
   "metadata": {},
   "outputs": [],
   "source": [
    "data=pd.read_csv(\"../../data/VIGREP/MGNA5VREP_511.9 Hz/MGNA5VREP_P3.txt\", header=None).to_numpy().flatten()[5000:153600]\n",
    "Ifsoac(data, op).export_images(filename_prefix=\"MG\")"
   ]
  },
  {
   "cell_type": "code",
   "execution_count": null,
   "id": "05fcab85-290f-421d-9056-586229f3da9e",
   "metadata": {},
   "outputs": [],
   "source": []
  }
 ],
 "metadata": {
  "kernelspec": {
   "display_name": "Python 3 (ipykernel)",
   "language": "python",
   "name": "python3"
  },
  "language_info": {
   "codemirror_mode": {
    "name": "ipython",
    "version": 3
   },
   "file_extension": ".py",
   "mimetype": "text/x-python",
   "name": "python",
   "nbconvert_exporter": "python",
   "pygments_lexer": "ipython3",
   "version": "3.9.13"
  }
 },
 "nbformat": 4,
 "nbformat_minor": 5
}
