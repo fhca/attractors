{
 "cells": [
  {
   "cell_type": "code",
   "execution_count": null,
   "metadata": {
    "colab": {
     "base_uri": "https://localhost:8080/"
    },
    "executionInfo": {
     "elapsed": 17744,
     "status": "ok",
     "timestamp": 1657938471837,
     "user": {
      "displayName": "Felipe Humberto Contreras Alcala",
      "userId": "00736783643502694397"
     },
     "user_tz": 300
    },
    "id": "x4Cia1P71Pgc",
    "outputId": "7f713a03-ca5f-4668-ecf8-a3c39a47e29a"
   },
   "outputs": [],
   "source": [
    "#!pip install -U PyYAML datashader"
   ]
  },
  {
   "cell_type": "code",
   "execution_count": null,
   "metadata": {
    "executionInfo": {
     "elapsed": 137,
     "status": "ok",
     "timestamp": 1657939823043,
     "user": {
      "displayName": "Felipe Humberto Contreras Alcala",
      "userId": "00736783643502694397"
     },
     "user_tz": 300
    },
    "id": "VtQ2YO4C1VRc"
   },
   "outputs": [],
   "source": [
    "import numpy as np, pandas as pd, datashader as ds\n",
    "from datashader import transfer_functions as tf\n",
    "from datashader.colors import inferno, viridis, Hot\n",
    "from numba import njit"
   ]
  },
  {
   "cell_type": "code",
   "execution_count": null,
   "metadata": {
    "colab": {
     "base_uri": "https://localhost:8080/"
    },
    "executionInfo": {
     "elapsed": 177,
     "status": "ok",
     "timestamp": 1657948381511,
     "user": {
      "displayName": "Felipe Humberto Contreras Alcala",
      "userId": "00736783643502694397"
     },
     "user_tz": 300
    },
    "id": "pX56fwZSqVh5",
    "outputId": "c6eda226-46ae-4353-c107-441d9b137afa"
   },
   "outputs": [],
   "source": [
    "import numpy as np\n",
    "\n",
    "def traslada(p, d):\n",
    "    return p + d\n",
    "\n",
    "def escala(p, e):\n",
    "    return p * e\n",
    "\n",
    "def rota(p, angulo):\n",
    "    if angulo == 0: return p\n",
    "    x, y = p\n",
    "    angulo=np.radians(angulo)\n",
    "    cos_a = np.cos(angulo)\n",
    "    sin_a = np.sin(angulo)\n",
    "    return np.array([x*cos_a - y*sin_a, y*cos_a + x*sin_a])\n",
    "\n",
    "def aplica(p, op):\n",
    "    \" op = [t, e, r, prob] traslada, escala y rota p (ignora prob)\"\n",
    "    t, e, r, _ = op\n",
    "    #return escala(rota(traslada(p, t), r), e)\n",
    "    return traslada(rota(escala(p, e), r), t)\n",
    "    #return rota(e*p, r)+t\n",
    "\n",
    "sf1 = np.array([\n",
    "                [(1,0), 1/3, 0, 0],\n",
    "                [(1,1), 1/3, 0, 0],\n",
    "                [(0,2), 1/3, 0, 0],\n",
    "                [(1,2), 1/3, 0, 0],\n",
    "                [(2,2), 1/3, 0, 0]])\n",
    "\n",
    "def itera(sf):\n",
    "    p = np.array([0,0])\n",
    "    orbita = [p]\n",
    "    for i in range(1000000):\n",
    "        r = np.random.randint(0, len(sf))\n",
    "        p = aplica(p, sf[r])\n",
    "        orbita.append(p)\n",
    "\n",
    "    df = pd.DataFrame(orbita, columns=list('xy'))\n",
    "    cv = ds.Canvas(plot_width =700, plot_height = 700)\n",
    "    agg = cv.points(df, 'x', 'y')\n",
    "    return agg\n"
   ]
  },
  {
   "cell_type": "code",
   "execution_count": null,
   "metadata": {
    "colab": {
     "base_uri": "https://localhost:8080/",
     "height": 723
    },
    "executionInfo": {
     "elapsed": 12591,
     "status": "ok",
     "timestamp": 1657947289441,
     "user": {
      "displayName": "Felipe Humberto Contreras Alcala",
      "userId": "00736783643502694397"
     },
     "user_tz": 300
    },
    "id": "rIs61vzlW7E6",
    "outputId": "5b233f3b-390d-4f1e-8020-75b0c5632d1e"
   },
   "outputs": [],
   "source": [
    "tf.shade(itera(sf1), cmap=inferno)"
   ]
  },
  {
   "cell_type": "code",
   "execution_count": null,
   "metadata": {
    "colab": {
     "base_uri": "https://localhost:8080/",
     "height": 723
    },
    "executionInfo": {
     "elapsed": 10752,
     "status": "ok",
     "timestamp": 1657947300188,
     "user": {
      "displayName": "Felipe Humberto Contreras Alcala",
      "userId": "00736783643502694397"
     },
     "user_tz": 300
    },
    "id": "YBIsceVT31R_",
    "outputId": "a512e4aa-164f-4afa-9139-245160695a2a"
   },
   "outputs": [],
   "source": [
    "sf2 = [[(0,0),1/2,0,0],\n",
    "       [(1,0),1/2,0,0],\n",
    "       [(0.5,np.sqrt(3)/2),1/2,0,0]]\n",
    "\n",
    "tf.shade(itera(sf2), cmap=inferno)"
   ]
  },
  {
   "cell_type": "code",
   "execution_count": null,
   "metadata": {
    "colab": {
     "base_uri": "https://localhost:8080/",
     "height": 723
    },
    "executionInfo": {
     "elapsed": 27796,
     "status": "ok",
     "timestamp": 1657948412996,
     "user": {
      "displayName": "Felipe Humberto Contreras Alcala",
      "userId": "00736783643502694397"
     },
     "user_tz": 300
    },
    "id": "Z59jzA5m-8BJ",
    "outputId": "70718c3e-afec-467c-eb38-bb7c14b324d6"
   },
   "outputs": [],
   "source": [
    "sf3 = [[(0,0), .5, 45, 0],\n",
    "       [(1,0), .5, 45, 0],\n",
    "       [(0,1), .5, 45, 0],]\n",
    "\n",
    "tf.shade(itera(sf3), cmap=inferno)"
   ]
  },
  {
   "cell_type": "code",
   "execution_count": null,
   "metadata": {
    "colab": {
     "base_uri": "https://localhost:8080/",
     "height": 723
    },
    "executionInfo": {
     "elapsed": 22771,
     "status": "ok",
     "timestamp": 1657948724749,
     "user": {
      "displayName": "Felipe Humberto Contreras Alcala",
      "userId": "00736783643502694397"
     },
     "user_tz": 300
    },
    "id": "cjAuDQITLzuQ",
    "outputId": "16c4e983-7323-4d8e-b744-d47b06ebb28c"
   },
   "outputs": [],
   "source": [
    "sf4 = [[(0,0), 1/3, 0, 0],\n",
    "       [(1, 0), 1/3, 60, 0],\n",
    "       [(1.5, np.sqrt(3)/2), 1/3, -60, 0],\n",
    "       [(2, 0), 1/3, 0, 0]]\n",
    "tf.shade(itera(sf4), cmap=inferno)"
   ]
  },
  {
   "cell_type": "code",
   "execution_count": null,
   "metadata": {
    "id": "3y-ZHZ7AcYPo"
   },
   "outputs": [],
   "source": []
  }
 ],
 "metadata": {
  "colab": {
   "authorship_tag": "ABX9TyM+9/kVmIBGsAKRvgRFVXNF",
   "name": "ifs+ds.ipynb",
   "provenance": []
  },
  "kernelspec": {
   "display_name": "Python 3 (ipykernel)",
   "language": "python",
   "name": "python3"
  },
  "language_info": {
   "codemirror_mode": {
    "name": "ipython",
    "version": 3
   },
   "file_extension": ".py",
   "mimetype": "text/x-python",
   "name": "python",
   "nbconvert_exporter": "python",
   "pygments_lexer": "ipython3",
   "version": "3.9.13"
  }
 },
 "nbformat": 4,
 "nbformat_minor": 4
}
