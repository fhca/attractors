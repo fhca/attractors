{
 "cells": [
  {
   "cell_type": "code",
   "execution_count": null,
   "id": "a198e3dd-517f-4b82-94e0-7a20616e96ca",
   "metadata": {},
   "outputs": [],
   "source": [
    "from ifsoac_2 import *"
   ]
  },
  {
   "cell_type": "code",
   "execution_count": null,
   "id": "d83b73da-38f9-4b12-ab2e-b19a27290974",
   "metadata": {},
   "outputs": [],
   "source": [
    "import matplotlib.pyplot as plt"
   ]
  },
  {
   "cell_type": "code",
   "execution_count": null,
   "id": "a593f6c4-90c6-4655-acee-4debf0cff510",
   "metadata": {},
   "outputs": [],
   "source": [
    "purple = np.loadtxt(\"noise_-2.csv\")\n",
    "blue = np.loadtxt(\"noise_-1.csv\")\n",
    "white = np.loadtxt(\"noise_0.csv\")\n",
    "pink = np.loadtxt(\"noise_1.csv\")\n",
    "brown = np.loadtxt(\"noise_2.csv\")"
   ]
  },
  {
   "cell_type": "code",
   "execution_count": null,
   "id": "d7426950-eb8d-4afe-be56-ecbfed0012fd",
   "metadata": {},
   "outputs": [],
   "source": [
    "%time Ifsoac([brown, pink, white, blue, purple], {\"ventana_ds\":1200, \"cmap_ds\":\"CET_C1\", \"cols_ds\":4}).export_images(filename_prefix=\"noises\")"
   ]
  },
  {
   "cell_type": "code",
   "execution_count": null,
   "id": "2fe85c6f-6466-410d-b2c7-f6eefe29996c",
   "metadata": {},
   "outputs": [],
   "source": []
  },
  {
   "cell_type": "code",
   "execution_count": null,
   "id": "70d6e967-e5c5-4085-adb8-89d18ed0a1e3",
   "metadata": {},
   "outputs": [],
   "source": [
    "op = {\"ventana_ds\":1200, \"cmap_ds\":\"CET_C1\", \"cols_ds\":4, \"p\":.1}\n",
    "\n",
    "%time Ifsoac([white[::i] for i in range(1, 15, 1)], op).plot()"
   ]
  },
  {
   "cell_type": "code",
   "execution_count": null,
   "id": "e2eaa2b5-d998-47e3-b471-aabb6831152f",
   "metadata": {},
   "outputs": [],
   "source": [
    "ssha = np.loadtxt('ssha.txt')\n",
    "\n",
    "\n",
    "op = {\"ventana_ds\":600, \"cmap_ds\":\"CET_C1\", \"cols_ds\":4, \"p\":.01}\n",
    "\n",
    "%time Ifsoac(ssha, op).plot()"
   ]
  },
  {
   "cell_type": "code",
   "execution_count": null,
   "id": "7318f8ea-c18e-4d17-8577-cb278dea894f",
   "metadata": {},
   "outputs": [],
   "source": [
    "plt.plot(ssha)"
   ]
  },
  {
   "cell_type": "code",
   "execution_count": null,
   "id": "b0117611-95af-4176-ae8c-b5fd6727e51e",
   "metadata": {},
   "outputs": [],
   "source": [
    "plot_spectrum(ssha)\n",
    "plot_spectrum(brown) #orange"
   ]
  },
  {
   "cell_type": "code",
   "execution_count": null,
   "id": "950dc534-4514-4599-b3f6-03693f6674c2",
   "metadata": {},
   "outputs": [],
   "source": [
    "a = np.array([1,2,3,4])\n",
    "np.tile(a, 10)"
   ]
  },
  {
   "cell_type": "code",
   "execution_count": null,
   "id": "7cc32b56-4f5c-4150-9dc1-bd23d1f156ea",
   "metadata": {},
   "outputs": [],
   "source": [
    "clmnc3 = np.loadtxt(\"CLMNVIGREP_C3.csv\")\n",
    "op = {\"ventana_ds\":1200, \"transform\":antipolar, \"cmap_ds\":\"CET_C1\", \"cols_ds\":3, \"p\":.1}\n",
    "\n",
    "%time Ifsoac(clmnc3, op).plot()"
   ]
  },
  {
   "cell_type": "code",
   "execution_count": null,
   "id": "0e89c2c2-d67e-4382-a3b6-e6a1e306bb00",
   "metadata": {},
   "outputs": [],
   "source": [
    "%time Ifsoac([clmnc3[::i] for i in range(1, 30)], op).plot()"
   ]
  },
  {
   "cell_type": "code",
   "execution_count": null,
   "id": "4f1c4d2e-512d-44cd-be27-82d0ddbe54ba",
   "metadata": {},
   "outputs": [],
   "source": [
    "def plot_spectrum(s):\n",
    "    import matplotlib.pyplot as plt\n",
    "    f = np.fft.rfftfreq(len(s))\n",
    "    return plt.loglog(f, np.abs(np.fft.rfft(s)))[0]"
   ]
  },
  {
   "cell_type": "code",
   "execution_count": null,
   "id": "078a5888-41c1-4a98-b5a7-d6245b17c155",
   "metadata": {},
   "outputs": [],
   "source": [
    "plot_spectrum(clmnc3)\n",
    "plot_spectrum(pink)"
   ]
  },
  {
   "cell_type": "code",
   "execution_count": null,
   "id": "2c223e4b-15f2-44f4-ab10-d89ecb21499b",
   "metadata": {},
   "outputs": [],
   "source": []
  }
 ],
 "metadata": {
  "kernelspec": {
   "display_name": "Python 3 (ipykernel)",
   "language": "python",
   "name": "python3"
  },
  "language_info": {
   "codemirror_mode": {
    "name": "ipython",
    "version": 3
   },
   "file_extension": ".py",
   "mimetype": "text/x-python",
   "name": "python",
   "nbconvert_exporter": "python",
   "pygments_lexer": "ipython3",
   "version": "3.9.13"
  }
 },
 "nbformat": 4,
 "nbformat_minor": 5
}
