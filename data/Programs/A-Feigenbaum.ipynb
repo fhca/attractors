{
 "cells": [
  {
   "cell_type": "code",
   "execution_count": null,
   "metadata": {
    "colab": {
     "base_uri": "https://localhost:8080/",
     "height": 1000
    },
    "executionInfo": {
     "elapsed": 15546,
     "status": "ok",
     "timestamp": 1657898818461,
     "user": {
      "displayName": "Felipe Humberto Contreras Alcala",
      "userId": "00736783643502694397"
     },
     "user_tz": 300
    },
    "id": "-flkkZn_Kjqm",
    "outputId": "fb206408-0394-4e91-998d-074e17e0d15f"
   },
   "outputs": [],
   "source": [
    "#!pip install -U PyYAML datashader"
   ]
  },
  {
   "cell_type": "code",
   "execution_count": null,
   "metadata": {
    "executionInfo": {
     "elapsed": 7243,
     "status": "ok",
     "timestamp": 1657898825695,
     "user": {
      "displayName": "Felipe Humberto Contreras Alcala",
      "userId": "00736783643502694397"
     },
     "user_tz": 300
    },
    "id": "pMR0OfMFDZvy"
   },
   "outputs": [],
   "source": [
    "import numpy as np, pandas as pd, datashader as ds, xarray as xr\n",
    "from datashader import transfer_functions as tf\n",
    "from datashader.colors import inferno, viridis, Hot\n",
    "from numba import jit\n",
    "from datashader.utils import export_image"
   ]
  },
  {
   "cell_type": "code",
   "execution_count": null,
   "metadata": {
    "colab": {
     "base_uri": "https://localhost:8080/",
     "height": 964
    },
    "executionInfo": {
     "elapsed": 34191,
     "status": "ok",
     "timestamp": 1657898860634,
     "user": {
      "displayName": "Felipe Humberto Contreras Alcala",
      "userId": "00736783643502694397"
     },
     "user_tz": 300
    },
    "id": "wzzjrFJsH1EN",
    "outputId": "7e67aff0-9b99-4a48-d26b-bc39e683963a"
   },
   "outputs": [],
   "source": [
    "@jit(nopython=True)\n",
    "def logistica(r, x0=0.2, nvalues=100):\n",
    "    #evalua = np.frompyfunc(lambda x, _: r*x*(1-x), 2, 1)\n",
    "    #evalua = lambda x: r*x*(1-x), 2, 1 \n",
    "    orb = np.empty(nvalues)\n",
    "    orb[0] = x0\n",
    "    for i in range(nvalues-1):\n",
    "        x = orb[i]\n",
    "        orb[i+1] = r * x * (1 - x)\n",
    "    return orb\n",
    "\n",
    "def feigenbaum(f, minimo=0, maximo=4, nr=10000, n=100000):\n",
    "    ds.transfer_functions.Image.border=0\n",
    "    cv = ds.Canvas(plot_width = 868, plot_height = 700)\n",
    "    erres = np.linspace(minimo, maximo, nr, endpoint=True)\n",
    "    xs = np.repeat(erres, n)\n",
    "    ys = np.concatenate([f(r, x0=f(r)[-1], nvalues=n) for r in erres])\n",
    "    df = pd.DataFrame({'x':xs, 'y':ys})\n",
    "    xs, ys, erres = [None]*3  # desocupa variables temporales\n",
    "    agg = cv.points(df, 'x', 'y')\n",
    "    # add lines\n",
    "    df1 = pd.DataFrame({'a':[2.95]*4, 'y1':[0,0.5,1, 0], 'b':[3.2]*4, 'c':[3.5]*4})\n",
    "    feig = tf.shade(agg, cmap=inferno)\n",
    "    return tf.set_background(feig, \"black\")\n",
    "\n",
    "img = feigenbaum(logistica, 2.9, 4)\n",
    "export_image(img=img, filename=\"feig\", fmt=\".png\", export_path=\"./\")"
   ]
  },
  {
   "cell_type": "code",
   "execution_count": null,
   "metadata": {},
   "outputs": [],
   "source": [
    "@jit(nopython=True)\n",
    "def lyapunov(x=0.5, r=4.0):\n",
    "    for i in range(1000): x = r * x * (1 - x)\n",
    "    NLYAP = 1000000\n",
    "    total = 0\n",
    "    for _ in range(NLYAP):\n",
    "        x = r * x * (1 - x)\n",
    "        total += np.log2(np.abs(r - 2 * r * x))\n",
    "    return total / NLYAP\n",
    "cv = ds.Canvas(plot_width = 868, plot_height = 700)\n",
    "xs = np.linspace(2.9, 4, 10000)\n",
    "ys = [lyapunov(r=r) for r in xs]\n",
    "df = pd.DataFrame({'x':xs, 'y':ys})\n",
    "#plt.plot(x, np.zeros_like(x))\n",
    "agg = cv.line(df, 'x', 'y')\n",
    "img = tf.shade(agg, cmap=['green'])\n",
    "export_image(img=img, filename=\"lyap\", fmt=\".png\", export_path=\"./\")"
   ]
  },
  {
   "cell_type": "code",
   "execution_count": null,
   "metadata": {},
   "outputs": [],
   "source": []
  }
 ],
 "metadata": {
  "colab": {
   "authorship_tag": "ABX9TyN8zvIHhk1CV0cRhQOnin/Y",
   "collapsed_sections": [],
   "name": "A-Feigenbaum.ipynb",
   "provenance": []
  },
  "kernelspec": {
   "display_name": "Python 3 (ipykernel)",
   "language": "python",
   "name": "python3"
  },
  "language_info": {
   "codemirror_mode": {
    "name": "ipython",
    "version": 3
   },
   "file_extension": ".py",
   "mimetype": "text/x-python",
   "name": "python",
   "nbconvert_exporter": "python",
   "pygments_lexer": "ipython3",
   "version": "3.9.13"
  }
 },
 "nbformat": 4,
 "nbformat_minor": 4
}
