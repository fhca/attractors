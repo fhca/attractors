{
 "cells": [
  {
   "cell_type": "markdown",
   "metadata": {
    "id": "FL0twc7I-eFo"
   },
   "source": [
    "# Ifsoac y sus transformaciones"
   ]
  },
  {
   "cell_type": "code",
   "execution_count": null,
   "metadata": {
    "id": "cZHC_6gniJLo"
   },
   "outputs": [],
   "source": [
    "import numpy as np\n",
    "import matplotlib.pyplot as plt\n",
    "import pandas as pd\n",
    "\n",
    "class Ifsoac:\n",
    "    def __init__(self, serie=None, nlados=500, p=1/2, tam_punto=.01, ventana=9, \n",
    "                 grafica=True, transform=None, scale=.8):\n",
    "        if serie is None:\n",
    "            r = np.random.rand(1000000)\n",
    "        else:\n",
    "            r = serie\n",
    "        # nlados depende del tamaño del rango de la serie\n",
    "        \"\"\"\n",
    "        Ej. Si len(serie)==100000 pero cada elemento de la serie tiene\n",
    "        dos dígitos en la parte entera y dos en la parte decimal, ¿de que \n",
    "        tamaño será el rango? (cuantos valores diferentes posibles hay)\n",
    "        (10*10)*(10*10)= 10000 es el tamaño del rango. nlados=10000 en este\n",
    "        caso, para tener un vértice para cada valor de mi serie.\n",
    "        Si tomo nlados menor que este valor, \"perderé\" información.\n",
    "        ej, si la serie toma valores 0,1,2,3,4,5,6,7,8,9 y nlados =3\n",
    "        0, 3/9=1/3=0, 2/3=0, 3/(3+e)=0, 4/3=1, 5/3=1, 6/(3+e)=1, 7/3=2, 8/3=2, 9/(3+e)=2\n",
    "        0,0,0,0,1,1,1,2,2,2\n",
    "        \"\"\"\n",
    "        self.p = p\n",
    "        self.nlados = nlados\n",
    "        self.ventana=ventana\n",
    "        self.tam_punto = tam_punto\n",
    "        self.scale=scale\n",
    "        poligono = self._regular(nlados)\n",
    "        r_normalizada = self.normaliza(r)\n",
    "        # le sumamos 1e-10 para que no alcance a valer 1\n",
    "        indices = (r_normalizada * nlados).astype(int)\n",
    "        self.serie = poligono[indices]\n",
    "        if grafica:\n",
    "            if transform is None:\n",
    "                self.grafica()\n",
    "            elif transform == 'estereo':\n",
    "                self.estereo_grafica()\n",
    "            elif transform == 'escher':\n",
    "                self.escher_grafica()\n",
    "            elif transform == 'antipolar':\n",
    "                self.antipolar_grafica()\n",
    "\n",
    "    def normaliza(self, serie):\n",
    "        min, max = np.min(serie), np.max(serie)\n",
    "        return (serie-min)/(max-min+1e-10)  # r está en [0, 1) \n",
    "\n",
    "    def _regular(self, n):\n",
    "        angulo = np.linspace(np.pi/2, 5*np.pi/2, n, endpoint=False)\n",
    "        x = np.cos(angulo)\n",
    "        y = np.sin(angulo)\n",
    "        return np.array([x,y]).T\n",
    "\n",
    "    def jdc(self):\n",
    "        k1, k2 = 0, 0\n",
    "        def promedio3(a, b):\n",
    "            nonlocal k1, k2\n",
    "            k1, k2 = (a + k1)*self.p, (b + k2)*self.p\n",
    "            return k1, k2\n",
    "        _jdc = np.frompyfunc(promedio3, 2, 1)\n",
    "        t = self.serie\n",
    "        sierpinsky = np.vstack(_jdc(*t.T).astype(np.ndarray))\n",
    "        return sierpinsky\n",
    "\n",
    "    def grafica(self):\n",
    "        plt.figure(figsize=(self.ventana, self.ventana))\n",
    "        plt.xlim(-1,1)\n",
    "        plt.ylim(-1,1)\n",
    "        plt.scatter(*self.jdc().T, marker='.', s=self.tam_punto)\n",
    "        plt.show()\n",
    "\n",
    "    def estereo_grafica(self):\n",
    "        plt.figure(figsize=(self.ventana, self.ventana))\n",
    "        #plt.xlim(-10,10)\n",
    "        #plt.ylim(-10,10)\n",
    "        plt.scatter(*estereografica(self.jdc().T), marker='.', s=self.tam_punto)\n",
    "        plt.show()\n",
    "\n",
    "    def escher_grafica(self):\n",
    "        plt.figure(figsize=(self.ventana, self.ventana))\n",
    "        #plt.xlim(-10,10)\n",
    "        #plt.ylim(-10,10)\n",
    "        plt.scatter(*escher(self.jdc().T), marker='.', s=self.tam_punto)\n",
    "        plt.show()\n",
    "\n",
    "    def antipolar_grafica(self):\n",
    "        plt.figure(figsize=(self.ventana*2*np.pi, self.ventana))\n",
    "        #plt.xlim(-10,10)\n",
    "        plt.ylim(self.scale,1)\n",
    "        plt.scatter(*antipolar(self.jdc().T), marker='o', s=self.tam_punto)\n",
    "        plt.show()\n",
    "\n",
    "    def __repr__(self):\n",
    "        return f\"Ifsoac(nlados={self.nlados}, p={self.p})\"\n",
    "\n",
    "def norma(p):\n",
    "    x, y = p\n",
    "    return np.sqrt(x * x + y * y)\n",
    "\n",
    "def estereografica(p):\n",
    "    return p/norma(p)**2\n",
    "\n",
    "def escher(p):\n",
    "    return p/norma(p/norma(p)-p)\n",
    "\n",
    "def antipolar(p):\n",
    "    x,y=p\n",
    "    alfa = np.arctan2(y,x)\n",
    "    r = norma(p)\n",
    "    return np.array((alfa, r))"
   ]
  },
  {
   "cell_type": "code",
   "execution_count": null,
   "metadata": {
    "id": "yFryl7A1ibAI"
   },
   "outputs": [],
   "source": [
    "lorentz = pd.read_csv(\"/content/drive/MyDrive/Proyectos/INVESTIGACIÓN Y DESARROLLO/Capitulo Springer/lorenz.dat\", header=None)\n",
    "rossler = pd.read_csv(\"/content/drive/MyDrive/Proyectos/INVESTIGACIÓN Y DESARROLLO/Capitulo Springer/rossler.dat\", header=None)"
   ]
  },
  {
   "cell_type": "code",
   "execution_count": null,
   "metadata": {
    "colab": {
     "base_uri": "https://localhost:8080/",
     "height": 1000
    },
    "executionInfo": {
     "elapsed": 2447,
     "status": "ok",
     "timestamp": 1644000850500,
     "user": {
      "displayName": "Felipe Humberto Contreras Alcala",
      "photoUrl": "https://lh3.googleusercontent.com/a-/AOh14GgU_2wwjZSvzzhFFebWKdekpPe0VgHnod4v-bDUNA=s64",
      "userId": "00736783643502694397"
     },
     "user_tz": 360
    },
    "id": "wjibUifdur9d",
    "outputId": "06a6647e-7cb6-4db6-965b-9ecaa496ec5c"
   },
   "outputs": [],
   "source": [
    "# Sistemas de funciones iteradas en un círculo\n",
    "Ifsoac(lorentz[0], tam_punto=1)\n",
    "Ifsoac(rossler[0], tam_punto=1)"
   ]
  },
  {
   "cell_type": "code",
   "execution_count": null,
   "metadata": {
    "colab": {
     "base_uri": "https://localhost:8080/",
     "height": 226
    },
    "executionInfo": {
     "elapsed": 749,
     "status": "ok",
     "timestamp": 1644000851244,
     "user": {
      "displayName": "Felipe Humberto Contreras Alcala",
      "photoUrl": "https://lh3.googleusercontent.com/a-/AOh14GgU_2wwjZSvzzhFFebWKdekpPe0VgHnod4v-bDUNA=s64",
      "userId": "00736783643502694397"
     },
     "user_tz": 360
    },
    "id": "5BmfJnQLkJfY",
    "outputId": "eb229850-aa3f-492f-bb03-6a64b163d4c9"
   },
   "outputs": [],
   "source": [
    "Ifsoac(lorentz[0], transform=\"antipolar\", tam_punto=10)"
   ]
  },
  {
   "cell_type": "code",
   "execution_count": null,
   "metadata": {
    "colab": {
     "base_uri": "https://localhost:8080/",
     "height": 226
    },
    "executionInfo": {
     "elapsed": 719,
     "status": "ok",
     "timestamp": 1644000851957,
     "user": {
      "displayName": "Felipe Humberto Contreras Alcala",
      "photoUrl": "https://lh3.googleusercontent.com/a-/AOh14GgU_2wwjZSvzzhFFebWKdekpPe0VgHnod4v-bDUNA=s64",
      "userId": "00736783643502694397"
     },
     "user_tz": 360
    },
    "id": "gbewm13gkK_v",
    "outputId": "7e0d744a-22ba-4ff0-d5b5-ea345d48abb9"
   },
   "outputs": [],
   "source": [
    "Ifsoac(rossler[0], transform=\"antipolar\", tam_punto=10)"
   ]
  },
  {
   "cell_type": "code",
   "execution_count": null,
   "metadata": {
    "id": "mQXdjlWFxu8A"
   },
   "outputs": [],
   "source": [
    "def logistica(x):\n",
    "    return 4*x*(1-x)\n",
    "\n",
    "def iterar(funcion=logistica, x0=0.3, N=100000, N0=100000):\n",
    "    ll = []\n",
    "    for i in range(N0):\n",
    "        y = funcion(x0)\n",
    "        x0 = y\n",
    "        #llogistica.append(y)\n",
    "    # ya se generó una x0 \"caótica\"\n",
    "    for i in range(N):\n",
    "        y = funcion(x0)\n",
    "        x0 = y\n",
    "        ll.append(y)\n",
    "    return ll\n",
    "\n",
    "def tent(x):\n",
    "    _lambda = 0.999\n",
    "    return 2 * x * _lambda if x < 0.5 else (2 - 2 * x) * _lambda"
   ]
  },
  {
   "cell_type": "code",
   "execution_count": null,
   "metadata": {
    "id": "5qvTuCdB-2pS"
   },
   "outputs": [],
   "source": [
    "logi = iterar(logistica)\n",
    "tienda = iterar(tent, N0=0, x0=.4)"
   ]
  },
  {
   "cell_type": "code",
   "execution_count": null,
   "metadata": {
    "colab": {
     "base_uri": "https://localhost:8080/",
     "height": 1000
    },
    "executionInfo": {
     "elapsed": 1784,
     "status": "ok",
     "timestamp": 1644010695527,
     "user": {
      "displayName": "Felipe Humberto Contreras Alcala",
      "photoUrl": "https://lh3.googleusercontent.com/a-/AOh14GgU_2wwjZSvzzhFFebWKdekpPe0VgHnod4v-bDUNA=s64",
      "userId": "00736783643502694397"
     },
     "user_tz": 360
    },
    "id": "BKRiKGDL_MEB",
    "outputId": "d349066b-c252-4446-fe22-00998f69e291"
   },
   "outputs": [],
   "source": [
    "Ifsoac(logi)\n",
    "Ifsoac(tienda)"
   ]
  },
  {
   "cell_type": "code",
   "execution_count": null,
   "metadata": {
    "colab": {
     "base_uri": "https://localhost:8080/",
     "height": 419
    },
    "executionInfo": {
     "elapsed": 3110,
     "status": "ok",
     "timestamp": 1644000856912,
     "user": {
      "displayName": "Felipe Humberto Contreras Alcala",
      "photoUrl": "https://lh3.googleusercontent.com/a-/AOh14GgU_2wwjZSvzzhFFebWKdekpPe0VgHnod4v-bDUNA=s64",
      "userId": "00736783643502694397"
     },
     "user_tz": 360
    },
    "id": "YfHGjvC5_e1v",
    "outputId": "8bd0e25a-4f5c-456e-c188-aea5b4f9fe8e"
   },
   "outputs": [],
   "source": [
    "Ifsoac(logi, transform=\"antipolar\", tam_punto=10, scale=0)\n",
    "Ifsoac(tienda, transform=\"antipolar\", tam_punto=10, scale=0)"
   ]
  },
  {
   "cell_type": "code",
   "execution_count": null,
   "metadata": {
    "colab": {
     "base_uri": "https://localhost:8080/",
     "height": 554
    },
    "executionInfo": {
     "elapsed": 533,
     "status": "ok",
     "timestamp": 1644000857439,
     "user": {
      "displayName": "Felipe Humberto Contreras Alcala",
      "photoUrl": "https://lh3.googleusercontent.com/a-/AOh14GgU_2wwjZSvzzhFFebWKdekpPe0VgHnod4v-bDUNA=s64",
      "userId": "00736783643502694397"
     },
     "user_tz": 360
    },
    "id": "Hxy7nvBjtzIf",
    "outputId": "2918e34c-d7bf-4d1f-dcfd-00e9d1ce3594"
   },
   "outputs": [],
   "source": [
    "Ifsoac(logi, transform=\"estereo\", tam_punto=.5)"
   ]
  },
  {
   "cell_type": "code",
   "execution_count": null,
   "metadata": {
    "colab": {
     "base_uri": "https://localhost:8080/",
     "height": 554
    },
    "executionInfo": {
     "elapsed": 747,
     "status": "ok",
     "timestamp": 1644000858183,
     "user": {
      "displayName": "Felipe Humberto Contreras Alcala",
      "photoUrl": "https://lh3.googleusercontent.com/a-/AOh14GgU_2wwjZSvzzhFFebWKdekpPe0VgHnod4v-bDUNA=s64",
      "userId": "00736783643502694397"
     },
     "user_tz": 360
    },
    "id": "DqqM3HoKFEzr",
    "outputId": "1f7060b6-668d-4bcb-f4ac-ed61c405999d"
   },
   "outputs": [],
   "source": [
    "tienda = iterar(tent, N0=0, x0=.4)\n",
    "Ifsoac(tienda, transform=\"estereo\", tam_punto=.5)"
   ]
  },
  {
   "cell_type": "markdown",
   "metadata": {
    "id": "7vUZqsjV5RqW"
   },
   "source": [
    "# IFSoac con igual cantidad de puntos en cada bin\n"
   ]
  },
  {
   "cell_type": "code",
   "execution_count": null,
   "metadata": {
    "colab": {
     "base_uri": "https://localhost:8080/",
     "height": 424
    },
    "executionInfo": {
     "elapsed": 104,
     "status": "ok",
     "timestamp": 1644016733756,
     "user": {
      "displayName": "Felipe Humberto Contreras Alcala",
      "photoUrl": "https://lh3.googleusercontent.com/a-/AOh14GgU_2wwjZSvzzhFFebWKdekpPe0VgHnod4v-bDUNA=s64",
      "userId": "00736783643502694397"
     },
     "user_tz": 360
    },
    "id": "KO81_c5K7NnA",
    "outputId": "9ba81d0c-eac6-48c3-b6fe-923fd1e23fe1"
   },
   "outputs": [],
   "source": [
    "lorentz"
   ]
  },
  {
   "cell_type": "code",
   "execution_count": null,
   "metadata": {
    "executionInfo": {
     "elapsed": 4,
     "status": "ok",
     "timestamp": 1644016733864,
     "user": {
      "displayName": "Felipe Humberto Contreras Alcala",
      "photoUrl": "https://lh3.googleusercontent.com/a-/AOh14GgU_2wwjZSvzzhFFebWKdekpPe0VgHnod4v-bDUNA=s64",
      "userId": "00736783643502694397"
     },
     "user_tz": 360
    },
    "id": "pBuwq6RP7OZW"
   },
   "outputs": [],
   "source": [
    "def same_amount_bins(df, nbins=500):\n",
    "    if type(df) == list:\n",
    "        df = pd.DataFrame(df)\n",
    "    lo=df.sort_values(0)  # ordenamos por valores\n",
    "    times = len(lo)/nbins # veces que se repetirá etiqueta de bin\n",
    "    lo[\"bin\"]=np.arange(nbins).repeat(times)  # agrega columna de etiquetas de bins\n",
    "    return lo.sort_index().bin  # devuelve serie de etiquetas con el orden que tenía df"
   ]
  },
  {
   "cell_type": "code",
   "execution_count": null,
   "metadata": {
    "colab": {
     "base_uri": "https://localhost:8080/",
     "height": 947
    },
    "executionInfo": {
     "elapsed": 3190,
     "status": "ok",
     "timestamp": 1644016737050,
     "user": {
      "displayName": "Felipe Humberto Contreras Alcala",
      "photoUrl": "https://lh3.googleusercontent.com/a-/AOh14GgU_2wwjZSvzzhFFebWKdekpPe0VgHnod4v-bDUNA=s64",
      "userId": "00736783643502694397"
     },
     "user_tz": 360
    },
    "id": "6-TO5stL9WFe",
    "outputId": "4ba8cd0f-1c7e-4e99-a874-5d411c56fec5"
   },
   "outputs": [],
   "source": [
    "Ifsoac(lorentz[0], transform=\"antipolar\", tam_punto=10)\n",
    "Ifsoac(same_amount_bins(lorentz), transform=\"antipolar\", tam_punto=10)\n",
    "Ifsoac(rossler[0], transform=\"antipolar\", tam_punto=10)\n",
    "Ifsoac(same_amount_bins(rossler), transform=\"antipolar\", tam_punto=10)"
   ]
  },
  {
   "cell_type": "code",
   "execution_count": null,
   "metadata": {
    "colab": {
     "base_uri": "https://localhost:8080/",
     "height": 1000
    },
    "executionInfo": {
     "elapsed": 5504,
     "status": "ok",
     "timestamp": 1644016742552,
     "user": {
      "displayName": "Felipe Humberto Contreras Alcala",
      "photoUrl": "https://lh3.googleusercontent.com/a-/AOh14GgU_2wwjZSvzzhFFebWKdekpPe0VgHnod4v-bDUNA=s64",
      "userId": "00736783643502694397"
     },
     "user_tz": 360
    },
    "id": "lx07EvSj9eKc",
    "outputId": "0c6aad37-f1b6-46de-9bf8-14dae697b21c"
   },
   "outputs": [],
   "source": [
    "Ifsoac(same_amount_bins(rossler))\n",
    "Ifsoac(same_amount_bins(logi))\n",
    "Ifsoac(same_amount_bins(tienda))"
   ]
  },
  {
   "cell_type": "markdown",
   "metadata": {
    "id": "jH040IiJ9uoN"
   },
   "source": [
    "# Descorrelacionando Lorentz y Rossler tomando un dato cada 10"
   ]
  },
  {
   "cell_type": "markdown",
   "metadata": {
    "id": "GCxur1LEhz3N"
   },
   "source": [
    "Pedro Miramontes_Vidal, [03/02/22 13:56]\n",
    "Okas.\n",
    "\n",
    "La conjetura es entonces que todos los mapeos del intervalo de la familia logística tienen la misma representación con esta IFS. \n",
    "\n",
    "Ya entiendo lo de Róssler y Lorenz; dos datos sucesivos están muuuuy correlacionados pues son casi el mismo pues vienen de la discretización de una ecuación diferencial con un paso muy pequeño. Para evitar esto, hay que extraer de la serie de tiempo un dato cada 10 lugares y así formal una nueva serie de tiempo y analizarla con tus herramientas."
   ]
  },
  {
   "cell_type": "code",
   "execution_count": null,
   "metadata": {
    "id": "qABD0fhJFFDd"
   },
   "outputs": [],
   "source": [
    "srossler = same_amount_bins(rossler)\n",
    "slorentz = same_amount_bins(lorentz)"
   ]
  },
  {
   "cell_type": "code",
   "execution_count": null,
   "metadata": {
    "colab": {
     "base_uri": "https://localhost:8080/",
     "height": 1000
    },
    "executionInfo": {
     "elapsed": 2464,
     "status": "ok",
     "timestamp": 1644015125790,
     "user": {
      "displayName": "Felipe Humberto Contreras Alcala",
      "photoUrl": "https://lh3.googleusercontent.com/a-/AOh14GgU_2wwjZSvzzhFFebWKdekpPe0VgHnod4v-bDUNA=s64",
      "userId": "00736783643502694397"
     },
     "user_tz": 360
    },
    "id": "PRHJJ_c6NOVl",
    "outputId": "501e2fcc-e93d-44ce-c80f-87d6250d3e31"
   },
   "outputs": [],
   "source": [
    "Ifsoac(slorentz[::10], tam_punto=5)\n",
    "Ifsoac(srossler[::10], tam_punto=5)\n",
    "Ifsoac(slorentz[::10], tam_punto=10, transform=\"antipolar\", scale=0)\n",
    "Ifsoac(srossler[::10], tam_punto=10, transform=\"antipolar\", scale=0)"
   ]
  },
  {
   "cell_type": "code",
   "execution_count": null,
   "metadata": {
    "id": "tBduasZzN76C"
   },
   "outputs": [],
   "source": [
    "slogi = same_amount_bins(logi)\n",
    "stienda = same_amount_bins(tienda)"
   ]
  },
  {
   "cell_type": "code",
   "execution_count": null,
   "metadata": {
    "colab": {
     "base_uri": "https://localhost:8080/",
     "height": 1000
    },
    "executionInfo": {
     "elapsed": 3215,
     "status": "ok",
     "timestamp": 1644015079135,
     "user": {
      "displayName": "Felipe Humberto Contreras Alcala",
      "photoUrl": "https://lh3.googleusercontent.com/a-/AOh14GgU_2wwjZSvzzhFFebWKdekpPe0VgHnod4v-bDUNA=s64",
      "userId": "00736783643502694397"
     },
     "user_tz": 360
    },
    "id": "ajOFBc9nPoB8",
    "outputId": "6896819d-b8c3-49af-84c4-305b2303dbb9"
   },
   "outputs": [],
   "source": [
    "Ifsoac(slogi, tam_punto=5)\n",
    "Ifsoac(slogi[::2], tam_punto=5)\n",
    "Ifsoac(slogi[::3], tam_punto=5)\n",
    "Ifsoac(slogi[::4], tam_punto=5)\n",
    "\n",
    "\n",
    "\n",
    "#Ifsoac(stienda[np.arange(0,len(stienda), cada)], tam_punto=5)"
   ]
  },
  {
   "cell_type": "code",
   "execution_count": null,
   "metadata": {
    "id": "S5deqtcmP0vL"
   },
   "outputs": [],
   "source": []
  },
  {
   "cell_type": "markdown",
   "metadata": {
    "id": "uK9ELx45-t1M"
   },
   "source": [
    "# Mapeo unimodal cóncavo\n",
    "\n",
    "$$f(x) = \\lambda(1-|1-2x|^{\\nu})$$"
   ]
  },
  {
   "cell_type": "code",
   "execution_count": null,
   "metadata": {
    "colab": {
     "base_uri": "https://localhost:8080/",
     "height": 1000
    },
    "executionInfo": {
     "elapsed": 10943,
     "status": "ok",
     "timestamp": 1644015278338,
     "user": {
      "displayName": "Felipe Humberto Contreras Alcala",
      "photoUrl": "https://lh3.googleusercontent.com/a-/AOh14GgU_2wwjZSvzzhFFebWKdekpPe0VgHnod4v-bDUNA=s64",
      "userId": "00736783643502694397"
     },
     "user_tz": 360
    },
    "id": "fhs7s-WA-0Gq",
    "outputId": "8ba30d8f-ff6d-44d8-9bc2-4549fb276a11"
   },
   "outputs": [],
   "source": [
    "nu_inic = 2\n",
    "nu_final = .5\n",
    "_iteraciones = 12\n",
    "for i in np.linspace(nu_inic,nu_final,_iteraciones, endpoint=True):\n",
    "    _lambda = .999\n",
    "    concavo = iterar(lambda x: _lambda*(1-np.power(np.abs(1-2*x),i)), N0=0, x0=.7)\n",
    "    Ifsoac(same_amount_bins(concavo))"
   ]
  },
  {
   "cell_type": "markdown",
   "metadata": {
    "id": "OgGCSIX-6r81"
   },
   "source": [
    "# Más valores para Lorentz"
   ]
  },
  {
   "cell_type": "code",
   "execution_count": null,
   "metadata": {
    "id": "RKH1Zf0pG3eC"
   },
   "outputs": [],
   "source": [
    "def lorentz_array(N=500000):\n",
    "    x0=1\n",
    "    y0=1\n",
    "    z0=3\n",
    "    h=0.01\n",
    "    sigma=10.0\n",
    "    beta=8/3.0\n",
    "    ro=28.0\n",
    "    ll=[]\n",
    "    for i in range(N):\n",
    "        x1=h*(sigma*(y0-x0))+x0\n",
    "        y1=h*(x0*(ro-z0)-y0)+y0\n",
    "        z1=h*(x0*y0-beta*z0)+z0\n",
    "        x0=x1\n",
    "        y0=y1\n",
    "        z0=z1\n",
    "        ll.append(x1) #,y1,z1)\n",
    "    return np.array(ll)\n"
   ]
  },
  {
   "cell_type": "code",
   "execution_count": null,
   "metadata": {
    "colab": {
     "base_uri": "https://localhost:8080/",
     "height": 1000
    },
    "executionInfo": {
     "elapsed": 7712,
     "status": "ok",
     "timestamp": 1644021934951,
     "user": {
      "displayName": "Felipe Humberto Contreras Alcala",
      "photoUrl": "https://lh3.googleusercontent.com/a-/AOh14GgU_2wwjZSvzzhFFebWKdekpPe0VgHnod4v-bDUNA=s64",
      "userId": "00736783643502694397"
     },
     "user_tz": 360
    },
    "id": "w2RuOK_y6qFt",
    "outputId": "26e03ffa-1d14-4459-d566-0411a69cb831"
   },
   "outputs": [],
   "source": [
    "la = lorentz_array(1000000)\n",
    "for i in range(5,31,5):\n",
    "    Ifsoac(la[::i])"
   ]
  },
  {
   "cell_type": "code",
   "execution_count": null,
   "metadata": {
    "id": "PXYRArTo7Iob"
   },
   "outputs": [],
   "source": []
  }
 ],
 "metadata": {
  "colab": {
   "authorship_tag": "ABX9TyPs0nD8EIQsQKttWLzL2Ebn",
   "collapsed_sections": [
    "7vUZqsjV5RqW"
   ],
   "mount_file_id": "1NVgSM2CVSearGg8L20ExskxeqkeL79sm",
   "name": "IFS-Lorentz-Rossler-Tent.ipynb",
   "provenance": []
  },
  "kernelspec": {
   "display_name": "Python 3 (ipykernel)",
   "language": "python",
   "name": "python3"
  },
  "language_info": {
   "codemirror_mode": {
    "name": "ipython",
    "version": 3
   },
   "file_extension": ".py",
   "mimetype": "text/x-python",
   "name": "python",
   "nbconvert_exporter": "python",
   "pygments_lexer": "ipython3",
   "version": "3.9.13"
  }
 },
 "nbformat": 4,
 "nbformat_minor": 4
}
